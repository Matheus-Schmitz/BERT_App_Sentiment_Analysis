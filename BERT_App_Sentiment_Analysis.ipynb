{
 "cells": [
  {
   "cell_type": "markdown",
   "metadata": {
    "colab_type": "text",
    "id": "j9g1q4k8fdQA"
   },
   "source": [
    "# Introduction"
   ]
  },
  {
   "cell_type": "markdown",
   "metadata": {
    "colab_type": "text",
    "id": "9Hi4bfK6ffKY"
   },
   "source": [
    "I love Asana, I'm a PM and they are a product company.\n",
    "I like data science. I wanna explore Asana and it's competitors. I also want to play with and learn about the BERT model. This will be a curiosity-driven journey, not sure where it'll end.\n"
   ]
  },
  {
   "cell_type": "markdown",
   "metadata": {
    "colab_type": "text",
    "id": "d4aPXbrXfyCg"
   },
   "source": [
    "# Packages"
   ]
  },
  {
   "cell_type": "code",
   "execution_count": null,
   "metadata": {
    "colab": {},
    "colab_type": "code",
    "id": "bwJol80KgphK"
   },
   "outputs": [],
   "source": [
    "# Package to store the versions of packages used\n",
    "!pip install -q watermark"
   ]
  },
  {
   "cell_type": "code",
   "execution_count": null,
   "metadata": {
    "colab": {},
    "colab_type": "code",
    "id": "X_pYovVSgTIJ"
   },
   "outputs": [],
   "source": [
    "# Package to download the BERT models and process data\n",
    "!pip install -q transformers"
   ]
  },
  {
   "cell_type": "code",
   "execution_count": null,
   "metadata": {
    "colab": {},
    "colab_type": "code",
    "id": "2YDnyME_gczH"
   },
   "outputs": [],
   "source": [
    "# Package for scrapping data on Google Store\n",
    "# https://pypi.org/project/google-play-scraper/\n",
    "!pip install -q google_play_scraper"
   ]
  },
  {
   "cell_type": "code",
   "execution_count": null,
   "metadata": {
    "colab": {
     "base_uri": "https://localhost:8080/",
     "height": 34
    },
    "colab_type": "code",
    "id": "6QlzpiOBy6zA",
    "outputId": "3a613472-2a95-4f1d-bc05-76e14b58ade1"
   },
   "outputs": [
    {
     "name": "stdout",
     "output_type": "stream",
     "text": [
      "Drive already mounted at /content/drive; to attempt to forcibly remount, call drive.mount(\"/content/drive\", force_remount=True).\n"
     ]
    }
   ],
   "source": [
    "# File manipulation imports for Google Colab\n",
    "from google.colab import drive\n",
    "drive.mount('/content/drive')\n",
    "import os\n",
    "os.chdir(\"/content/drive/My Drive/Colab Notebooks/BERT_App_Sentiment_Analysis\")"
   ]
  },
  {
   "cell_type": "code",
   "execution_count": null,
   "metadata": {
    "colab": {
     "base_uri": "https://localhost:8080/",
     "height": 51
    },
    "colab_type": "code",
    "id": "D9uiNPLffaF5",
    "outputId": "1cfadcb4-b626-4e6a-8d09-895b6963e91d"
   },
   "outputs": [
    {
     "name": "stderr",
     "output_type": "stream",
     "text": [
      "/usr/local/lib/python3.6/dist-packages/statsmodels/tools/_testing.py:19: FutureWarning: pandas.util.testing is deprecated. Use the functions in the public API at pandas.testing instead.\n",
      "  import pandas.util.testing as tm\n"
     ]
    }
   ],
   "source": [
    "# Imports\n",
    "\n",
    "# Data manipulation and visualization\n",
    "import numpy as np\n",
    "import pandas as pd\n",
    "import seaborn as sns\n",
    "import matplotlib\n",
    "import matplotlib.pyplot as plt\n",
    "from pylab import rcParams\n",
    "from matplotlib import rc\n",
    "from tqdm.notebook import tqdm\n",
    "import datetime\n",
    "from time import time\n",
    "\n",
    "\n",
    "# Deep Learning, NLP and metrics\n",
    "import sklearn\n",
    "import torch\n",
    "import transformers \n",
    "from textwrap import wrap\n",
    "from torch import nn, optim \n",
    "from torch.utils import data\n",
    "from collections import defaultdict\n",
    "from sklearn.model_selection import train_test_split\n",
    "from sklearn.metrics import confusion_matrix\n",
    "from sklearn.metrics import classification_report\n",
    "from transformers import BertModel\n",
    "from transformers import BertTokenizer\n",
    "from transformers import AdamW\n",
    "from transformers import get_linear_schedule_with_warmup\n",
    "\n",
    "# Web Scrapping Imports\n",
    "# https://pypi.org/project/Pygments/\n",
    "import json\n",
    "import pygments\n",
    "import google_play_scraper\n",
    "from pygments import highlight\n",
    "from pygments.lexers import JsonLexer\n",
    "from pygments.formatters import TerminalFormatter\n",
    "\n",
    "# Random Seed\n",
    "#RANDOM_SEED = 99\n",
    "#np.random.seed(RANDOM_SEED)\n",
    "#torch.manual_seed(RANDOM_SEED)\n",
    "\n",
    "%matplotlib inline"
   ]
  },
  {
   "cell_type": "code",
   "execution_count": null,
   "metadata": {
    "colab": {
     "base_uri": "https://localhost:8080/",
     "height": 221
    },
    "colab_type": "code",
    "id": "lTAQAEHhgIEw",
    "outputId": "060c80ea-8578-466f-8e73-b7497a74aa03"
   },
   "outputs": [
    {
     "name": "stdout",
     "output_type": "stream",
     "text": [
      "google_play_scraper 0.1\n",
      "pandas              1.0.5\n",
      "transformers        3.0.2\n",
      "torch               1.6.0+cu101\n",
      "json                2.0.9\n",
      "seaborn             0.10.1\n",
      "sklearn             0.22.2.post1\n",
      "numpy               1.18.5\n",
      "matplotlib          3.2.2\n",
      "pygments            2.1.3\n",
      "CPython 3.6.9\n",
      "IPython 5.5.0\n"
     ]
    }
   ],
   "source": [
    "# Package versions\n",
    "%reload_ext watermark\n",
    "%watermark -v -iv"
   ]
  },
  {
   "cell_type": "markdown",
   "metadata": {
    "colab_type": "text",
    "id": "gfqW0Tx0hOlj"
   },
   "source": [
    "# Web Scrapping"
   ]
  },
  {
   "cell_type": "code",
   "execution_count": null,
   "metadata": {
    "colab": {},
    "colab_type": "code",
    "id": "1Zk6fzluikDo"
   },
   "outputs": [],
   "source": [
    "# Listing apps I want to gather data on\n",
    "# They'll all be Asana's competitors on task management\n",
    "# Took the apps from Asana's comparison page, plus a few other alternatives the app store recommends\n",
    "# https://asana.com/compare\n",
    "# Asana, Airtable, Basecamp, Jira, Microsoft To Do\n",
    "# Monday.com, Smartsheet, Taskade, Trello, Wrike\n",
    "# The google_play_scrapper documentations details how to get the url for each app\n",
    "# https://github.com/facundoolano/google-play-scraper\n",
    "apps_list = ['com.asana.app',\n",
    "             'com.formagrid.airtable',\n",
    "             'com.basecamp.bc3',\n",
    "             'com.atlassian.android.jira.core',\n",
    "             'com.microsoft.todos',\n",
    "             'com.monday.monday',\n",
    "             'com.smartsheet.android',\n",
    "             'com.taskade.mobile',\n",
    "             'com.trello',\n",
    "             'com.wrike']"
   ]
  },
  {
   "cell_type": "code",
   "execution_count": null,
   "metadata": {
    "colab": {
     "base_uri": "https://localhost:8080/"
    },
    "colab_type": "code",
    "id": "v6ZmTLiguCKP",
    "outputId": "362fe830-f7b3-49c5-959e-6aaa7b91cdad"
   },
   "outputs": [
    {
     "name": "stderr",
     "output_type": "stream",
     "text": [
      "100%|██████████| 10/10 [00:01<00:00,  6.24it/s]\n"
     ]
    }
   ],
   "source": [
    "# List to store details from the apps\n",
    "app_details = []\n",
    "\n",
    "# Loop through the app list and retrieve details of each app\n",
    "for ap in tqdm(apps_list):\n",
    "\n",
    "    # Retrieve app details\n",
    "    info = google_play_scraper.app(ap, lang='en', country='us')\n",
    "\n",
    "    # Store the details\n",
    "    app_details.append(info)"
   ]
  },
  {
   "cell_type": "code",
   "execution_count": null,
   "metadata": {
    "colab": {},
    "colab_type": "code",
    "id": "qujZjH2Zgjy_"
   },
   "outputs": [],
   "source": [
    "# Function to print a request in JSON format\n",
    "def print_json(json_object):\n",
    "\n",
    "    # Generate json format\n",
    "    json_str = json.dumps(json_object,\n",
    "                          indent = 2,\n",
    "                          sort_keys = True,\n",
    "                          default = str)\n",
    "    \n",
    "    # The highlight function from pygments highlights the output text \n",
    "    # It uses different colorts to facilitate reading\n",
    "    print(highlight(json_str, JsonLexer(), TerminalFormatter()))"
   ]
  },
  {
   "cell_type": "code",
   "execution_count": null,
   "metadata": {
    "colab": {
     "base_uri": "https://localhost:8080/"
    },
    "colab_type": "code",
    "id": "5gfCLP49w-AT",
    "outputId": "6ed86f7b-fde8-47ea-c679-42bf52c92db7"
   },
   "outputs": [
    {
     "name": "stdout",
     "output_type": "stream",
     "text": [
      "{\n",
      "  \u001b[34;01m\"adSupported\"\u001b[39;49;00m: \u001b[34mnull\u001b[39;49;00m,\n",
      "  \u001b[34;01m\"androidVersion\"\u001b[39;49;00m: \u001b[33m\"7.0\"\u001b[39;49;00m,\n",
      "  \u001b[34;01m\"androidVersionText\"\u001b[39;49;00m: \u001b[33m\"7.0 and up\"\u001b[39;49;00m,\n",
      "  \u001b[34;01m\"appId\"\u001b[39;49;00m: \u001b[33m\"com.asana.app\"\u001b[39;49;00m,\n",
      "  \u001b[34;01m\"comments\"\u001b[39;49;00m: [\n",
      "    \u001b[33m\"Absolute trash. Stay away from this app and just use the web version if you manage too many tasks and uses a lot of tags and different filters. Filter doesn't work correctly. Probably, the app obverloads because there are over a thousand tasks in our project already. And one more thing, when you browse the app for more than a minute and try to reload/refresh the window it doesn't load anymore. I guess this only works for smaller project with few number of tasks. The heck.\"\u001b[39;49;00m,\n",
      "    \u001b[33m\"Excellent app that allows a consolidated view of everything you have going. Some anomalies could be improved. Task duration would be good to see. Additionally associating subtasks with their project works also make things easier. Overall a great app though. Easy to use and a great mobile app too. Really worth using too improve project management and collaboration.\"\u001b[39;49;00m,\n",
      "    \u001b[33m\"I love the Asana platform - it's far better than Jira and other competitors in regards to usability. The Android app is functional but does miss some of the features and sections available on the web app, which is disappointing, and limiting at times. Especially frustrating when the missing items are pro/business level plan features (e.g. workload view in portfolios).\"\u001b[39;49;00m,\n",
      "    \u001b[33m\"It's very easy to be organized with Asana! The app and web versions are clean and allow you to organize your tasks the way you prefer, creatings sections, projects, asign to different people and dates. I use Asana for years and since then I could not find another app that gives me the same organization freedom.\"\u001b[39;49;00m,\n",
      "    \u001b[33m\"Their UI team has decided to cripple our ability to jot down tasks quickly by blocking the add button with a pop-up after creating each task. And then their suggestion button is broken which has led me to complain here instead of offering constructive suggestions directly. Asana is getting big and clumsy. v6.50.8\"\u001b[39;49;00m,\n",
      "    \u001b[33m\"App works well but a feature that is seriously missing: to be able to add tasks under certain sections. Currently if you add a new task, it is placed right at the top of the list and you need to drag it down to the relavant section (which is a pain if you have a long list with numerous sections). Please sort this out, would be a game changer\"\u001b[39;49;00m,\n",
      "    \u001b[33m\"Super user friendly and really helps me manage my tasks and projects better than any other tool I have used before especially because I work on/with multiple projects and clients.\"\u001b[39;49;00m,\n",
      "    \u001b[33m\"At first looked very promising (specially UI) but dude, it lacks the very basic feature: the due date alerts. Really!!!? I tried to work my way around to sync my tasks with Google calendar to get alerts from there. But after the initial sync it takes 24 hrs or may be more to sync again. So may be you will miss out on tasks that u add with dhe date in next 24 hrs. I found Project Buddy but it is paid service. It is useless for me now, I have to go back to Trello bcz it has due date notifications.\"\u001b[39;49;00m,\n",
      "    \u001b[33m\"Just downloaded it. I'm unable to sign up. Is there a problem? Tried with work email and also with Gmail but had no joy\"\u001b[39;49;00m,\n",
      "    \u001b[33m\"Amazing, free app! Love the functionality and aesthetic! Was mentioned by Edmond Lau in the effective engineer and am glad I took a chance on it! This is hands out the best task managing app I have ever used. Only gripes are that sort by date gets unchecked frequently which gets annoying and that there is no dark mode yet. Other than that, great job team!\"\u001b[39;49;00m,\n",
      "    \u001b[33m\"People this is an incredible usefell app. In a business where communication is difficult in the sense of just too much information and tasks which are not listed will give you the oppurtunity too brain storm any time and it is an incredible way too inform your employer on your work load because it is now officially documented. You can attach info and also add sub tasks. Well done to the guys putting this incredible app together. Happy Fathersday to you all!!!\"\u001b[39;49;00m,\n",
      "    \u001b[33m\"Powerful but very irritating Calendar: I keep selecting the WEEK view using the blue icon in the right corner, but it resets to MONTH view after every action (e.g. clicking a task). Also, calendar is EXTREMELY sensitive: just touching it will scroll to a different week or month, messing you up.\"\u001b[39;49;00m,\n",
      "    \u001b[33m\"Love love love Asana! Both the desktop and mobile version are great. Super easy to use, very intuitive and includes a wide range of features (even just with the free version). Would highly recommend, I'm highly addicted to using it both at work and for myself.\"\u001b[39;49;00m,\n",
      "    \u001b[33m\"I Would have given this app 5 stars but, the tiny font in Asana is a major flaw and Asana seems to ignore all who have mentioned this flaw. Clickup and others have the ability to change the font size but, I don't understand why Asana is unable or uniterested in not fixing this flaw in their app.\"\u001b[39;49;00m,\n",
      "    \u001b[33m\"I was charged $395.64 all at once after a free trial. I thought I would be charged monthly. Wrong. The invoice I received said $0. I received an invoice stating $395.64 2 DAYS before it was deducted from my account! 2 DAYS to correct any mistake and it must be in writing to. Probably impossible to stop a bank draft in 2 DAYS! Be careful people!\"\u001b[39;49;00m,\n",
      "    \u001b[33m\"I am trying to use Asana on my android and it will not allow me to reorganize any tasks. Tasks are constantly saying they are offline. I have found no resolution for this issue. It works on my desktop but not on my mobile.\"\u001b[39;49;00m,\n",
      "    \u001b[33m\"The most recent update has made it impossible to post pictures on project tasks for me and all of my coworkers with Android phones. The blue check mark to post pictures after taking and viewing is now missing.\"\u001b[39;49;00m,\n",
      "    \u001b[33m\"Intuitive & easy layout. Best task app I've used yet. Only suggestion is the ability to jump from different users without having to logout like with a service like Gmail allows. I use it for personal & my multiple different business needs.\"\u001b[39;49;00m,\n",
      "    \u001b[33m\"Have been using this app for almost a year now. This made me forget Slack or other chat applications for getting work done amongst teammates, heck we even quietly stopped using WhatsApp. Now that says something. Keep the good work guys \\ud83d\\udc4f Awaiting dark mode if and when you plan to launch it\"\u001b[39;49;00m,\n",
      "    \u001b[33m\"It's a great app with a beautiful user interface. The only thing I want you guys to fix is the notifications. We don't get notified at all when something happens. This lost my interest in this app only because of this reason.\"\u001b[39;49;00m,\n",
      "    \u001b[33m\"Good experience using this app. Therefore I have to pay for opening more modules\"\u001b[39;49;00m,\n",
      "    \u001b[33m\"Syncing is painfully slow. All I need to do is see my calendar and it can take up to a minute to resolve. I don't understand the issue - the browser experience is almost instant and it should be here as well.\"\u001b[39;49;00m,\n",
      "    \u001b[33m\"Password field is missing.Unable to login using password. Password field should be in login screen with email magic link\"\u001b[39;49;00m,\n",
      "    \u001b[33m\"Incredible. Free version has enough to fall in love with this app.\"\u001b[39;49;00m,\n",
      "    \u001b[33m\"Efficient app and desktop task tracking app. Been using app for years now\"\u001b[39;49;00m,\n",
      "    \u001b[33m\"UPDATE: if you love to forget what you're supposed to do, if you love it when tasks completely disappear and change recurring settings, if you love completely dropping the ball, then Asana is for you! What a streaming pile of garbage.\"\u001b[39;49;00m,\n",
      "    \u001b[33m\"I love Asana, but think the App should be as powerful as the desktop experience. Especially a Task app, is very important to be powerful and have all options available on the move imo\"\u001b[39;49;00m,\n",
      "    \u001b[33m\"Very user friendly and easy to navigate. We only have 4 team members but it is so easy to use and delicate!\"\u001b[39;49;00m,\n",
      "    \u001b[33m\"Good app for tracking project tasks and their status.\"\u001b[39;49;00m,\n",
      "    \u001b[33m\"Not able to reorder or arrange columns. Not able to edit stuff. Says error. Having a really tough time with the app.\"\u001b[39;49;00m,\n",
      "    \u001b[33m\"I love Asana - I can easily check on projects and tasks, add to-dos and set date/time for reminders. Keep up the great work!\"\u001b[39;49;00m,\n",
      "    \u001b[33m\"Bug: \\\"Add Tag\\\" not working on android. \\\"Save\\\" button not working. I could not create new tag. Disapointed.\"\u001b[39;49;00m,\n",
      "    \u001b[33m\"Got update last night now when I take pictures in asana it blows up image on my screen and gives no option to upload after you click ok to use the blue add button is gone please fix\"\u001b[39;49;00m,\n",
      "    \u001b[33m\"Great app! Need to improve the outlook integration to minimize constant prompts to sign in to asana!\"\u001b[39;49;00m,\n",
      "    \u001b[33m\"The App is really good but doesn't load over WiFi! ...only loads when i turn on cellular data.Why????\"\u001b[39;49;00m,\n",
      "    \u001b[33m\"Keeps having mobile app synch problems. No timely answer from support. Still no response to inquiry.\"\u001b[39;49;00m,\n",
      "    \u001b[33m\"Needs landscape mode. I shouldn't really have to complain about this, it should be standard!\"\u001b[39;49;00m,\n",
      "    \u001b[33m\"Great system. The app does not allow me to add tasks from gmail using Android. Really Asana? No mobile integration?\"\u001b[39;49;00m,\n",
      "    \u001b[33m\"Can you allow premium plan users to auto assign task to self so that we can see them in the \\\"My Task\\\" module? Or at least allow solo users to purchase only one seat instead of two? Thanks\"\u001b[39;49;00m,\n",
      "    \u001b[33m\"App have 1 mln downloads, but still have bugs. I can't create tag. And can't edit any messages in Conversations section\"\u001b[39;49;00m\n",
      "  ],\n",
      "  \u001b[34;01m\"containsAds\"\u001b[39;49;00m: \u001b[34mnull\u001b[39;49;00m,\n",
      "  \u001b[34;01m\"contentRating\"\u001b[39;49;00m: \u001b[33m\"Everyone\"\u001b[39;49;00m,\n",
      "  \u001b[34;01m\"contentRatingDescription\"\u001b[39;49;00m: \u001b[34mnull\u001b[39;49;00m,\n",
      "  \u001b[34;01m\"currency\"\u001b[39;49;00m: \u001b[33m\"USD\"\u001b[39;49;00m,\n",
      "  \u001b[34;01m\"description\"\u001b[39;49;00m: \u001b[33m\"Asana is the work manager for teams. But better. From the small stuff to the big picture, Asana organizes work so teams are clear what to do, why it matters, and how to get it done.\\r\\n\\r\\n\\u272d Featured \\u201cApp of the Day\\u201d on the App Store. \\u201cThis project management is powerful but not overwhelming\\u2014and never lets the process of being productive get in the way of actually getting things done.\\u201d\\r\\n\\r\\n\\u201cAsana is one of the best collaboration and productivity apps for teams and an Editors\\u2019 Choice.\\u201d  \\u2014PC Mag\\r\\n\\r\\n\\u201cAsana has been instrumental in enabling our team to grow by 6x this year and successfully scale our processes.\\u201d \\u2014Ryan Bonnici, Chief Marketing Officer, G2\\r\\n\\r\\nSee why more than 7500 people give Asana 4.7 out of 5 stars.\\r\\n\\r\\n\\u2714 TAKE THE GUESSWORK OUT OF WORK\\r\\nSee who is doing what and by when across the whole team:\\r\\nCoordinate plans, projects, and tasks in one shared space\\r\\nSwitch between list, kanban board, and calendar views\\r\\nOrganize and assign tasks; set due dates\\r\\nAttach files to tasks so relevant info is easy to find\\r\\n\\r\\n\\u2714 GET THE WHOLE PICTURE\\u2014EVEN ON THE GO\\r\\nKeep an eye on progress no matter where you are:\\r\\nInstantly see if projects are on track, at risk, or off track\\u2014and why\\r\\nPost status updates, or request updates from project owners\\r\\nDrill down into tasks for more information\\r\\n\\r\\n\\u2714 PUSH WORK ALONG...WITHOUT GETTING PUSHY\\r\\nMake sure nothing falls through the cracks:\\r\\nClarify if tasks are high, medium, or low priority\\r\\nApprove work or mark tasks for approval\\r\\nSet tasks as milestones to establish critical checkpoints\\r\\nGet notified when tasks are completed, overdue, and more\\r\\n\\r\\n\\u2714 ASANA MOBILE + WEB = YOUR A-TEAM\\r\\nWork efficiently whether you\\u2019re at the office or on the go: \\r\\nAutomatically transcribe voice memos to tasks\\r\\nConvert photos of whiteboards, charts, or diagrams to tasks\\r\\nInstantly sync work between the app and web\\r\\nWork offline without worrying about losing your data\\r\\n\\r\\n\\u201cWe get five times more done per person than companies 10 times bigger than us and relatively stress-free.\\u201d - Brett Gurewitz, CEO, Epitaph Records (and guitarist for Bad Religion)\\r\\n\\r\\n\\u201cIf it\\u2019s not in Asana it\\u2019s not on my radar. Our work has a lot of moving parts and Asana helps ensure nothing falls through the cracks.\\u201d - Elissa Hudson, Senior Marketing Manager, Hubspot\\r\\n\\r\\nJoin more than 75,000 organizations and millions of users worldwide who trust Asana to stay organized and in control of their work. Download the Asana app now.\\r\\n\\r\\nBy downloading Asana, you agree to our Terms of Service, which you can find at https://asana.com/terms\"\u001b[39;49;00m,\n",
      "  \u001b[34;01m\"descriptionHTML\"\u001b[39;49;00m: \u001b[33m\"Asana is the work manager for teams. But better. From the small stuff to the big picture, Asana organizes work so teams are clear what to do, why it matters, and how to get it done.<br><br>\\u272d Featured \\u201cApp of the Day\\u201d on the App Store. \\u201cThis project management is powerful but not overwhelming\\u2014and never lets the process of being productive get in the way of actually getting things done.\\u201d<br><br>\\u201cAsana is one of the best collaboration and productivity apps for teams and an Editors\\u2019 Choice.\\u201d  \\u2014PC Mag<br><br>\\u201cAsana has been instrumental in enabling our team to grow by 6x this year and successfully scale our processes.\\u201d \\u2014Ryan Bonnici, Chief Marketing Officer, G2<br><br>See why more than 7500 people give Asana 4.7 out of 5 stars.<br><br>\\u2714 TAKE THE GUESSWORK OUT OF WORK<br>See who is doing what and by when across the whole team:<br>Coordinate plans, projects, and tasks in one shared space<br>Switch between list, kanban board, and calendar views<br>Organize and assign tasks; set due dates<br>Attach files to tasks so relevant info is easy to find<br><br>\\u2714 GET THE WHOLE PICTURE\\u2014EVEN ON THE GO<br>Keep an eye on progress no matter where you are:<br>Instantly see if projects are on track, at risk, or off track\\u2014and why<br>Post status updates, or request updates from project owners<br>Drill down into tasks for more information<br><br>\\u2714 PUSH WORK ALONG...WITHOUT GETTING PUSHY<br>Make sure nothing falls through the cracks:<br>Clarify if tasks are high, medium, or low priority<br>Approve work or mark tasks for approval<br>Set tasks as milestones to establish critical checkpoints<br>Get notified when tasks are completed, overdue, and more<br><br>\\u2714 ASANA MOBILE + WEB = YOUR A-TEAM<br>Work efficiently whether you\\u2019re at the office or on the go: <br>Automatically transcribe voice memos to tasks<br>Convert photos of whiteboards, charts, or diagrams to tasks<br>Instantly sync work between the app and web<br>Work offline without worrying about losing your data<br><br>\\u201cWe get five times more done per person than companies 10 times bigger than us and relatively stress-free.\\u201d - Brett Gurewitz, CEO, Epitaph Records (and guitarist for Bad Religion)<br><br>\\u201cIf it\\u2019s not in Asana it\\u2019s not on my radar. Our work has a lot of moving parts and Asana helps ensure nothing falls through the cracks.\\u201d - Elissa Hudson, Senior Marketing Manager, Hubspot<br><br>Join more than 75,000 organizations and millions of users worldwide who trust Asana to stay organized and in control of their work. Download the Asana app now.<br><br>By downloading Asana, you agree to our Terms of Service, which you can find at https://asana.com/terms\"\u001b[39;49;00m,\n",
      "  \u001b[34;01m\"developer\"\u001b[39;49;00m: \u001b[33m\"Asana, Inc.\"\u001b[39;49;00m,\n",
      "  \u001b[34;01m\"developerAddress\"\u001b[39;49;00m: \u001b[34mnull\u001b[39;49;00m,\n",
      "  \u001b[34;01m\"developerEmail\"\u001b[39;49;00m: \u001b[33m\"support@asana.com\"\u001b[39;49;00m,\n",
      "  \u001b[34;01m\"developerId\"\u001b[39;49;00m: \u001b[33m\"Asana,+Inc.\"\u001b[39;49;00m,\n",
      "  \u001b[34;01m\"developerInternalID\"\u001b[39;49;00m: \u001b[33m\"9027419648812383370\"\u001b[39;49;00m,\n",
      "  \u001b[34;01m\"developerWebsite\"\u001b[39;49;00m: \u001b[33m\"https://asana.com/product\"\u001b[39;49;00m,\n",
      "  \u001b[34;01m\"free\"\u001b[39;49;00m: \u001b[34mtrue\u001b[39;49;00m,\n",
      "  \u001b[34;01m\"genre\"\u001b[39;49;00m: \u001b[33m\"Business\"\u001b[39;49;00m,\n",
      "  \u001b[34;01m\"genreId\"\u001b[39;49;00m: \u001b[33m\"BUSINESS\"\u001b[39;49;00m,\n",
      "  \u001b[34;01m\"headerImage\"\u001b[39;49;00m: \u001b[33m\"https://lh3.googleusercontent.com/4ts1ELx9Kpks2R2KWE_hCTBW63gVqR5UrSgE_vq8XEQPITvoBICGxpCaeWqmnWLqmEyy\"\u001b[39;49;00m,\n",
      "  \u001b[34;01m\"histogram\"\u001b[39;49;00m: [\n",
      "    \u001b[34m1433\u001b[39;49;00m,\n",
      "    \u001b[34m529\u001b[39;49;00m,\n",
      "    \u001b[34m1267\u001b[39;49;00m,\n",
      "    \u001b[34m3283\u001b[39;49;00m,\n",
      "    \u001b[34m25052\u001b[39;49;00m\n",
      "  ],\n",
      "  \u001b[34;01m\"icon\"\u001b[39;49;00m: \u001b[33m\"https://lh3.googleusercontent.com/EJEviNAy8fAdCNMrcxaZDYLH1AnDnvficaxztxPnEF-fN97TPHud2yKS1sKsuA_kT9Y\"\u001b[39;49;00m,\n",
      "  \u001b[34;01m\"inAppProductPrice\"\u001b[39;49;00m: \u001b[34mnull\u001b[39;49;00m,\n",
      "  \u001b[34;01m\"installs\"\u001b[39;49;00m: \u001b[33m\"1,000,000+\"\u001b[39;49;00m,\n",
      "  \u001b[34;01m\"minInstalls\"\u001b[39;49;00m: \u001b[34m1000000\u001b[39;49;00m,\n",
      "  \u001b[34;01m\"offersIAP\"\u001b[39;49;00m: \u001b[34mfalse\u001b[39;49;00m,\n",
      "  \u001b[34;01m\"originalPrice\"\u001b[39;49;00m: \u001b[34mnull\u001b[39;49;00m,\n",
      "  \u001b[34;01m\"price\"\u001b[39;49;00m: \u001b[34m0\u001b[39;49;00m,\n",
      "  \u001b[34;01m\"privacyPolicy\"\u001b[39;49;00m: \u001b[33m\"http://www.asana.com/privacy\"\u001b[39;49;00m,\n",
      "  \u001b[34;01m\"ratings\"\u001b[39;49;00m: \u001b[34m31564\u001b[39;49;00m,\n",
      "  \u001b[34;01m\"recentChanges\"\u001b[39;49;00m: \u001b[33m\"\\ud83c\\udfb5 Give a little bit...\\r\\nGive a little bit of appreciation to you.\\r\\nGive a little bit...\\r\\nWe've got a little bit of appreciation for you.\\r\\nNow's the time that we need to share...\\r\\nSo send a sticker to show you care.\\r\\nAlright. Ah, yeah. Come along...\\r\\n\\r\\nThis update includes Appreciations, improvements to status updates and invites, and bug fixes and general improvements.\"\u001b[39;49;00m,\n",
      "  \u001b[34;01m\"recentChangesHTML\"\u001b[39;49;00m: \u001b[33m\"\\ud83c\\udfb5 Give a little bit...<br>Give a little bit of appreciation to you.<br>Give a little bit...<br>We&#39;ve got a little bit of appreciation for you.<br>Now&#39;s the time that we need to share...<br>So send a sticker to show you care.<br>Alright. Ah, yeah. Come along...<br><br>This update includes Appreciations, improvements to status updates and invites, and bug fixes and general improvements.\"\u001b[39;49;00m,\n",
      "  \u001b[34;01m\"released\"\u001b[39;49;00m: \u001b[33m\"Feb 27, 2013\"\u001b[39;49;00m,\n",
      "  \u001b[34;01m\"reviews\"\u001b[39;49;00m: \u001b[34m9667\u001b[39;49;00m,\n",
      "  \u001b[34;01m\"sale\"\u001b[39;49;00m: \u001b[34mfalse\u001b[39;49;00m,\n",
      "  \u001b[34;01m\"saleText\"\u001b[39;49;00m: \u001b[34mnull\u001b[39;49;00m,\n",
      "  \u001b[34;01m\"saleTime\"\u001b[39;49;00m: \u001b[34mnull\u001b[39;49;00m,\n",
      "  \u001b[34;01m\"score\"\u001b[39;49;00m: \u001b[34m4.5836077\u001b[39;49;00m,\n",
      "  \u001b[34;01m\"screenshots\"\u001b[39;49;00m: [\n",
      "    \u001b[33m\"https://lh3.googleusercontent.com/a-c_cZ7cTlTHgMmXuG-BqsN6-xm0s_koN56J9_jRhVgd81HSbWT7A48ysMA15ZXFcnA\"\u001b[39;49;00m,\n",
      "    \u001b[33m\"https://lh3.googleusercontent.com/ZBeNcL0KBzHLkZvmN9TGohTZ1EBdPoQ0BEnBs4eEiAtpZcgRPWAkEtmbA9HxUT3-isI\"\u001b[39;49;00m,\n",
      "    \u001b[33m\"https://lh3.googleusercontent.com/YQzlPY-Gf0IZcJ23dmX-2WZRt1Sf-xh7d8QteyxVXuUTBXAAEs9ElrWAsU2TaIMPQYo\"\u001b[39;49;00m,\n",
      "    \u001b[33m\"https://lh3.googleusercontent.com/Od0HDyc248fg5ya7y3b7BcSHz8P-_eQVGqvnln3KJxXRwoSBsnJ9mKEnmBi9mLBnSA\"\u001b[39;49;00m,\n",
      "    \u001b[33m\"https://lh3.googleusercontent.com/RIEE8eAwXQLotr3jRF0bim47WoGYJ_Iu3W8alWSOnEiImvQee_Vt3r3Uf-imt8_TQpA\"\u001b[39;49;00m,\n",
      "    \u001b[33m\"https://lh3.googleusercontent.com/WDGYFWrU3MMIwoaHqggYVQT2bCTH4OitaL94oZZcY6pO3CfNCxx-6SkBJy_bP8lBDVyh\"\u001b[39;49;00m,\n",
      "    \u001b[33m\"https://lh3.googleusercontent.com/k8TYhLxOalU6RPSQFt_8QnUDwBZTcE2UD1CkmQ09T3QYmH7b3g6-jJP4KbqVJPo8cC6L\"\u001b[39;49;00m\n",
      "  ],\n",
      "  \u001b[34;01m\"size\"\u001b[39;49;00m: \u001b[33m\"14M\"\u001b[39;49;00m,\n",
      "  \u001b[34;01m\"summary\"\u001b[39;49;00m: \u001b[33m\"Organize. Plan. Get work done. #withAsana\"\u001b[39;49;00m,\n",
      "  \u001b[34;01m\"summaryHTML\"\u001b[39;49;00m: \u001b[33m\"Organize. Plan. Get work done. #withAsana\"\u001b[39;49;00m,\n",
      "  \u001b[34;01m\"title\"\u001b[39;49;00m: \u001b[33m\"Asana: Your work manager\"\u001b[39;49;00m,\n",
      "  \u001b[34;01m\"updated\"\u001b[39;49;00m: \u001b[34m1597360715\u001b[39;49;00m,\n",
      "  \u001b[34;01m\"url\"\u001b[39;49;00m: \u001b[33m\"https://play.google.com/store/apps/details?id=com.asana.app&hl=en&gl=us\"\u001b[39;49;00m,\n",
      "  \u001b[34;01m\"version\"\u001b[39;49;00m: \u001b[33m\"6.51.5\"\u001b[39;49;00m,\n",
      "  \u001b[34;01m\"video\"\u001b[39;49;00m: \u001b[33m\"https://www.youtube.com/embed/jY0-gsNImlk?ps=play&vq=large&rel=0&autohide=1&showinfo=0&start=1\"\u001b[39;49;00m,\n",
      "  \u001b[34;01m\"videoImage\"\u001b[39;49;00m: \u001b[33m\"https://i.ytimg.com/vi/jY0-gsNImlk/hqdefault.jpg\"\u001b[39;49;00m\n",
      "}\n",
      "\n"
     ]
    }
   ],
   "source": [
    "# Check the result in JSON format\n",
    "print_json(app_details[0])"
   ]
  },
  {
   "cell_type": "code",
   "execution_count": null,
   "metadata": {
    "colab": {},
    "colab_type": "code",
    "id": "oE03J8X1xK9X"
   },
   "outputs": [],
   "source": [
    "# Put the retrieved information into a dataframe\n",
    "df_app_details = pd.DataFrame(app_details)"
   ]
  },
  {
   "cell_type": "code",
   "execution_count": null,
   "metadata": {
    "colab": {},
    "colab_type": "code",
    "id": "1s7EQtvXyDjh"
   },
   "outputs": [],
   "source": [
    "# Save the dataframe to disk\n",
    "\n",
    "# Retrieve datetime to stamp the file\n",
    "now = datetime.datetime.now().strftime(\"%Y-%m-%d-%H-%M-%S\")\n",
    "\n",
    "# Save with current datetime\n",
    "df_app_details.to_csv(f'data/app_details_{now}.csv', header=True, index=None)"
   ]
  },
  {
   "cell_type": "code",
   "execution_count": null,
   "metadata": {
    "colab": {
     "base_uri": "https://localhost:8080/"
    },
    "colab_type": "code",
    "id": "UkMhfrht6KcY",
    "outputId": "8ebdec5f-d07b-45ba-d1d6-dee9bf0aeee3"
   },
   "outputs": [
    {
     "data": {
      "text/html": [
       "<div>\n",
       "<style scoped>\n",
       "    .dataframe tbody tr th:only-of-type {\n",
       "        vertical-align: middle;\n",
       "    }\n",
       "\n",
       "    .dataframe tbody tr th {\n",
       "        vertical-align: top;\n",
       "    }\n",
       "\n",
       "    .dataframe thead th {\n",
       "        text-align: right;\n",
       "    }\n",
       "</style>\n",
       "<table border=\"1\" class=\"dataframe\">\n",
       "  <thead>\n",
       "    <tr style=\"text-align: right;\">\n",
       "      <th></th>\n",
       "      <th>title</th>\n",
       "      <th>description</th>\n",
       "      <th>descriptionHTML</th>\n",
       "      <th>summary</th>\n",
       "      <th>summaryHTML</th>\n",
       "      <th>installs</th>\n",
       "      <th>minInstalls</th>\n",
       "      <th>score</th>\n",
       "      <th>ratings</th>\n",
       "      <th>reviews</th>\n",
       "      <th>histogram</th>\n",
       "      <th>price</th>\n",
       "      <th>free</th>\n",
       "      <th>currency</th>\n",
       "      <th>sale</th>\n",
       "      <th>saleTime</th>\n",
       "      <th>originalPrice</th>\n",
       "      <th>saleText</th>\n",
       "      <th>offersIAP</th>\n",
       "      <th>inAppProductPrice</th>\n",
       "      <th>size</th>\n",
       "      <th>androidVersion</th>\n",
       "      <th>androidVersionText</th>\n",
       "      <th>developer</th>\n",
       "      <th>developerId</th>\n",
       "      <th>developerEmail</th>\n",
       "      <th>developerWebsite</th>\n",
       "      <th>developerAddress</th>\n",
       "      <th>privacyPolicy</th>\n",
       "      <th>developerInternalID</th>\n",
       "      <th>genre</th>\n",
       "      <th>genreId</th>\n",
       "      <th>icon</th>\n",
       "      <th>headerImage</th>\n",
       "      <th>screenshots</th>\n",
       "      <th>video</th>\n",
       "      <th>videoImage</th>\n",
       "      <th>contentRating</th>\n",
       "      <th>contentRatingDescription</th>\n",
       "      <th>adSupported</th>\n",
       "      <th>containsAds</th>\n",
       "      <th>released</th>\n",
       "      <th>updated</th>\n",
       "      <th>version</th>\n",
       "      <th>recentChanges</th>\n",
       "      <th>recentChangesHTML</th>\n",
       "      <th>comments</th>\n",
       "      <th>appId</th>\n",
       "      <th>url</th>\n",
       "    </tr>\n",
       "  </thead>\n",
       "  <tbody>\n",
       "    <tr>\n",
       "      <th>0</th>\n",
       "      <td>Asana: Your work manager</td>\n",
       "      <td>Asana is the work manager for teams. But bette...</td>\n",
       "      <td>Asana is the work manager for teams. But bette...</td>\n",
       "      <td>Organize. Plan. Get work done. #withAsana</td>\n",
       "      <td>Organize. Plan. Get work done. #withAsana</td>\n",
       "      <td>1,000,000+</td>\n",
       "      <td>1000000</td>\n",
       "      <td>4.583608</td>\n",
       "      <td>31564</td>\n",
       "      <td>9667</td>\n",
       "      <td>[1433, 529, 1267, 3283, 25052]</td>\n",
       "      <td>0</td>\n",
       "      <td>True</td>\n",
       "      <td>USD</td>\n",
       "      <td>False</td>\n",
       "      <td>None</td>\n",
       "      <td>None</td>\n",
       "      <td>None</td>\n",
       "      <td>False</td>\n",
       "      <td>None</td>\n",
       "      <td>14M</td>\n",
       "      <td>7.0</td>\n",
       "      <td>7.0 and up</td>\n",
       "      <td>Asana, Inc.</td>\n",
       "      <td>Asana,+Inc.</td>\n",
       "      <td>support@asana.com</td>\n",
       "      <td>https://asana.com/product</td>\n",
       "      <td>None</td>\n",
       "      <td>http://www.asana.com/privacy</td>\n",
       "      <td>9027419648812383370</td>\n",
       "      <td>Business</td>\n",
       "      <td>BUSINESS</td>\n",
       "      <td>https://lh3.googleusercontent.com/EJEviNAy8fAd...</td>\n",
       "      <td>https://lh3.googleusercontent.com/4ts1ELx9Kpks...</td>\n",
       "      <td>[https://lh3.googleusercontent.com/a-c_cZ7cTlT...</td>\n",
       "      <td>https://www.youtube.com/embed/jY0-gsNImlk?ps=p...</td>\n",
       "      <td>https://i.ytimg.com/vi/jY0-gsNImlk/hqdefault.jpg</td>\n",
       "      <td>Everyone</td>\n",
       "      <td>None</td>\n",
       "      <td>None</td>\n",
       "      <td>None</td>\n",
       "      <td>Feb 27, 2013</td>\n",
       "      <td>1597360715</td>\n",
       "      <td>6.51.5</td>\n",
       "      <td>🎵 Give a little bit...\\r\\nGive a little bit of...</td>\n",
       "      <td>🎵 Give a little bit...&lt;br&gt;Give a little bit of...</td>\n",
       "      <td>[Absolute trash. Stay away from this app and j...</td>\n",
       "      <td>com.asana.app</td>\n",
       "      <td>https://play.google.com/store/apps/details?id=...</td>\n",
       "    </tr>\n",
       "    <tr>\n",
       "      <th>1</th>\n",
       "      <td>Airtable</td>\n",
       "      <td>Organize anything you can imagine with Airtabl...</td>\n",
       "      <td>Organize anything you can imagine with Airtabl...</td>\n",
       "      <td>Organize anything you can imagine with a moder...</td>\n",
       "      <td>Organize anything you can imagine with a moder...</td>\n",
       "      <td>100,000+</td>\n",
       "      <td>100000</td>\n",
       "      <td>3.671053</td>\n",
       "      <td>1546</td>\n",
       "      <td>774</td>\n",
       "      <td>[295, 101, 112, 346, 692]</td>\n",
       "      <td>0</td>\n",
       "      <td>True</td>\n",
       "      <td>USD</td>\n",
       "      <td>False</td>\n",
       "      <td>None</td>\n",
       "      <td>None</td>\n",
       "      <td>None</td>\n",
       "      <td>False</td>\n",
       "      <td>None</td>\n",
       "      <td>13M</td>\n",
       "      <td>5.0</td>\n",
       "      <td>5.0 and up</td>\n",
       "      <td>Airtable</td>\n",
       "      <td>8024614373053231272</td>\n",
       "      <td>droid@airtable.com</td>\n",
       "      <td>https://airtable.com/</td>\n",
       "      <td>None</td>\n",
       "      <td>https://airtable.com/privacy</td>\n",
       "      <td>8024614373053231272</td>\n",
       "      <td>Productivity</td>\n",
       "      <td>PRODUCTIVITY</td>\n",
       "      <td>https://lh3.googleusercontent.com/0AKPNIi6-Dct...</td>\n",
       "      <td>https://lh3.googleusercontent.com/xlIqHp_kgI76...</td>\n",
       "      <td>[https://lh3.googleusercontent.com/u1iubbqRbdB...</td>\n",
       "      <td>https://www.youtube.com/embed/rydOfdGCOBU?ps=p...</td>\n",
       "      <td>https://i.ytimg.com/vi/rydOfdGCOBU/hqdefault.jpg</td>\n",
       "      <td>Everyone</td>\n",
       "      <td>None</td>\n",
       "      <td>None</td>\n",
       "      <td>None</td>\n",
       "      <td>Sep 27, 2016</td>\n",
       "      <td>1596736428</td>\n",
       "      <td>1.4.2</td>\n",
       "      <td>Organize anything you can imagine with Airtabl...</td>\n",
       "      <td>Organize anything you can imagine with Airtabl...</td>\n",
       "      <td>[Won't let me sign in with Google account unle...</td>\n",
       "      <td>com.formagrid.airtable</td>\n",
       "      <td>https://play.google.com/store/apps/details?id=...</td>\n",
       "    </tr>\n",
       "    <tr>\n",
       "      <th>2</th>\n",
       "      <td>Basecamp 3</td>\n",
       "      <td>&lt;b&gt;Use your company's Basecamp 3 account on-th...</td>\n",
       "      <td>&lt;b&gt;Use your company&amp;#39;s Basecamp 3 account o...</td>\n",
       "      <td>Basecamp 3, official Android version for the w...</td>\n",
       "      <td>Basecamp 3, official Android version for the w...</td>\n",
       "      <td>500,000+</td>\n",
       "      <td>500000</td>\n",
       "      <td>4.274314</td>\n",
       "      <td>4179</td>\n",
       "      <td>1524</td>\n",
       "      <td>[260, 156, 375, 771, 2617]</td>\n",
       "      <td>0</td>\n",
       "      <td>True</td>\n",
       "      <td>USD</td>\n",
       "      <td>False</td>\n",
       "      <td>None</td>\n",
       "      <td>None</td>\n",
       "      <td>None</td>\n",
       "      <td>False</td>\n",
       "      <td>None</td>\n",
       "      <td>7.6M</td>\n",
       "      <td>6.0</td>\n",
       "      <td>6.0 and up</td>\n",
       "      <td>Basecamp</td>\n",
       "      <td>Basecamp</td>\n",
       "      <td>support@basecamp.com</td>\n",
       "      <td>https://basecamp.com</td>\n",
       "      <td>None</td>\n",
       "      <td>https://basecamp.com/privacy</td>\n",
       "      <td>8645525805030592144</td>\n",
       "      <td>Productivity</td>\n",
       "      <td>PRODUCTIVITY</td>\n",
       "      <td>https://lh3.googleusercontent.com/Mx66p8uDSlbx...</td>\n",
       "      <td>https://lh3.googleusercontent.com/DhvIpWbDmOr1...</td>\n",
       "      <td>[https://lh3.googleusercontent.com/o_oaonXHNi5...</td>\n",
       "      <td>None</td>\n",
       "      <td>None</td>\n",
       "      <td>Everyone</td>\n",
       "      <td>None</td>\n",
       "      <td>None</td>\n",
       "      <td>None</td>\n",
       "      <td>Oct 20, 2015</td>\n",
       "      <td>1582299579</td>\n",
       "      <td>3.18.9</td>\n",
       "      <td>🐛 Bug fixes and improved speed over slow networks</td>\n",
       "      <td>🐛 Bug fixes and improved speed over slow networks</td>\n",
       "      <td>[Very bad UX. 1) No progress (% wise) shown fo...</td>\n",
       "      <td>com.basecamp.bc3</td>\n",
       "      <td>https://play.google.com/store/apps/details?id=...</td>\n",
       "    </tr>\n",
       "  </tbody>\n",
       "</table>\n",
       "</div>"
      ],
      "text/plain": [
       "                      title  ...                                                url\n",
       "0  Asana: Your work manager  ...  https://play.google.com/store/apps/details?id=...\n",
       "1                  Airtable  ...  https://play.google.com/store/apps/details?id=...\n",
       "2                Basecamp 3  ...  https://play.google.com/store/apps/details?id=...\n",
       "\n",
       "[3 rows x 49 columns]"
      ]
     },
     "execution_count": 13,
     "metadata": {
      "tags": []
     },
     "output_type": "execute_result"
    }
   ],
   "source": [
    "df_app_details.head(3)"
   ]
  },
  {
   "cell_type": "code",
   "execution_count": null,
   "metadata": {
    "colab": {
     "base_uri": "https://localhost:8080/"
    },
    "colab_type": "code",
    "id": "PnAGQKIbyR41",
    "outputId": "90a2c81c-8eea-4687-e955-9889051e7747"
   },
   "outputs": [
    {
     "name": "stderr",
     "output_type": "stream",
     "text": [
      "100%|██████████| 10/10 [00:12<00:00,  1.28s/it]\n"
     ]
    }
   ],
   "source": [
    "# List to store app reviews\n",
    "app_reviews = []\n",
    "\n",
    "# Loop to retrieve and store app reviews\n",
    "for ap in tqdm(apps_list):\n",
    "\n",
    "    # Extract sample reviews from reviews with different stars given\n",
    "    for star in list(range(1, 6)):\n",
    "\n",
    "        # Extract the most relevant and the most recent reviews\n",
    "        for sort_order in [google_play_scraper.Sort.MOST_RELEVANT, google_play_scraper.Sort.NEWEST]:\n",
    "            rvws, _ = google_play_scraper.reviews(ap,\n",
    "                                                  lang='en',\n",
    "                                                  country='us',\n",
    "                                                  sort=sort_order,\n",
    "                                                  count = 100 if star == 3 else 50,\n",
    "                                                  filter_score_with = star)\n",
    "            \n",
    "            for r in rvws:\n",
    "                r['sortOrder'] = 'most_relevant' if sort_order == google_play_scraper.Sort.MOST_RELEVANT else 'newest'\n",
    "                r['appId'] = ap\n",
    "\n",
    "            # Save reviews\n",
    "            app_reviews.extend(rvws)"
   ]
  },
  {
   "cell_type": "code",
   "execution_count": null,
   "metadata": {
    "colab": {},
    "colab_type": "code",
    "id": "LsdVcysx2p3-"
   },
   "outputs": [],
   "source": [
    "# Create a dataframe with the reviews\n",
    "df_app_reviews = pd.DataFrame(app_reviews)"
   ]
  },
  {
   "cell_type": "code",
   "execution_count": null,
   "metadata": {
    "colab": {},
    "colab_type": "code",
    "id": "SmSVBv2s4Pag"
   },
   "outputs": [],
   "source": [
    "# Save the dataframe to disk\n",
    "\n",
    "# Retrieve datetime to stamp the file\n",
    "now = datetime.datetime.now().strftime(\"%Y-%m-%d-%H-%M-%S\")\n",
    "\n",
    "# Save with current datetime\n",
    "df_app_reviews.to_csv(f'data/app_reviews_{now}.csv', header = True, index = None)"
   ]
  },
  {
   "cell_type": "code",
   "execution_count": null,
   "metadata": {
    "colab": {
     "base_uri": "https://localhost:8080/"
    },
    "colab_type": "code",
    "id": "xtyHxpsb4hPD",
    "outputId": "ed8ef53b-a14c-4088-ff70-51acbd7b526c"
   },
   "outputs": [
    {
     "data": {
      "text/html": [
       "<div>\n",
       "<style scoped>\n",
       "    .dataframe tbody tr th:only-of-type {\n",
       "        vertical-align: middle;\n",
       "    }\n",
       "\n",
       "    .dataframe tbody tr th {\n",
       "        vertical-align: top;\n",
       "    }\n",
       "\n",
       "    .dataframe thead th {\n",
       "        text-align: right;\n",
       "    }\n",
       "</style>\n",
       "<table border=\"1\" class=\"dataframe\">\n",
       "  <thead>\n",
       "    <tr style=\"text-align: right;\">\n",
       "      <th></th>\n",
       "      <th>reviewId</th>\n",
       "      <th>userName</th>\n",
       "      <th>userImage</th>\n",
       "      <th>content</th>\n",
       "      <th>score</th>\n",
       "      <th>thumbsUpCount</th>\n",
       "      <th>reviewCreatedVersion</th>\n",
       "      <th>at</th>\n",
       "      <th>replyContent</th>\n",
       "      <th>repliedAt</th>\n",
       "      <th>sortOrder</th>\n",
       "      <th>appId</th>\n",
       "    </tr>\n",
       "  </thead>\n",
       "  <tbody>\n",
       "    <tr>\n",
       "      <th>0</th>\n",
       "      <td>gp:AOqpTOHTV7PdCc2qccT5aehUpoV3mB0PaGYuGP6VoAr...</td>\n",
       "      <td>Anne Amit</td>\n",
       "      <td>https://lh3.googleusercontent.com/a-/AOh14GiyP...</td>\n",
       "      <td>Absolute trash. Stay away from this app and ju...</td>\n",
       "      <td>1</td>\n",
       "      <td>7</td>\n",
       "      <td>6.50.8</td>\n",
       "      <td>2020-08-11 02:40:35</td>\n",
       "      <td>NaN</td>\n",
       "      <td>NaN</td>\n",
       "      <td>most_relevant</td>\n",
       "      <td>com.asana.app</td>\n",
       "    </tr>\n",
       "    <tr>\n",
       "      <th>1</th>\n",
       "      <td>gp:AOqpTOGjmtD5IJRa-8Rk7hxS02RFs1oyJgdDwFOXbsj...</td>\n",
       "      <td>mrk 1</td>\n",
       "      <td>https://lh3.googleusercontent.com/-HCdJh-McJWE...</td>\n",
       "      <td>At first looked very promising (specially UI) ...</td>\n",
       "      <td>1</td>\n",
       "      <td>34</td>\n",
       "      <td>6.46.6</td>\n",
       "      <td>2020-06-11 23:50:05</td>\n",
       "      <td>NaN</td>\n",
       "      <td>NaN</td>\n",
       "      <td>most_relevant</td>\n",
       "      <td>com.asana.app</td>\n",
       "    </tr>\n",
       "    <tr>\n",
       "      <th>2</th>\n",
       "      <td>gp:AOqpTOHVo18xZthD7fpEma0cvNOrtqWv49Kw9yzdi2O...</td>\n",
       "      <td>Kunal Sareen</td>\n",
       "      <td>https://lh3.googleusercontent.com/a-/AOh14GhWG...</td>\n",
       "      <td>Just downloaded it. I'm unable to sign up. Is ...</td>\n",
       "      <td>1</td>\n",
       "      <td>0</td>\n",
       "      <td>6.51.4</td>\n",
       "      <td>2020-08-06 06:30:13</td>\n",
       "      <td>Hi Kunal I'm sorry to hear you are having trou...</td>\n",
       "      <td>2020-08-13 17:13:13</td>\n",
       "      <td>most_relevant</td>\n",
       "      <td>com.asana.app</td>\n",
       "    </tr>\n",
       "  </tbody>\n",
       "</table>\n",
       "</div>"
      ],
      "text/plain": [
       "                                            reviewId  ...          appId\n",
       "0  gp:AOqpTOHTV7PdCc2qccT5aehUpoV3mB0PaGYuGP6VoAr...  ...  com.asana.app\n",
       "1  gp:AOqpTOGjmtD5IJRa-8Rk7hxS02RFs1oyJgdDwFOXbsj...  ...  com.asana.app\n",
       "2  gp:AOqpTOHVo18xZthD7fpEma0cvNOrtqWv49Kw9yzdi2O...  ...  com.asana.app\n",
       "\n",
       "[3 rows x 12 columns]"
      ]
     },
     "execution_count": 17,
     "metadata": {
      "tags": []
     },
     "output_type": "execute_result"
    }
   ],
   "source": [
    "# Loading the csv with app reviews\n",
    "df_reviews = pd.read_csv(f'data/app_reviews_{now}.csv')\n",
    "df_reviews.head(3)"
   ]
  },
  {
   "cell_type": "code",
   "execution_count": null,
   "metadata": {
    "colab": {
     "base_uri": "https://localhost:8080/"
    },
    "colab_type": "code",
    "id": "LIN6GkvL52gZ",
    "outputId": "576cd7a2-ab60-4688-8554-bc92f6880694"
   },
   "outputs": [
    {
     "name": "stdout",
     "output_type": "stream",
     "text": [
      "<class 'pandas.core.frame.DataFrame'>\n",
      "RangeIndex: 5434 entries, 0 to 5433\n",
      "Data columns (total 12 columns):\n",
      " #   Column                Non-Null Count  Dtype \n",
      "---  ------                --------------  ----- \n",
      " 0   reviewId              5434 non-null   object\n",
      " 1   userName              5434 non-null   object\n",
      " 2   userImage             5434 non-null   object\n",
      " 3   content               5434 non-null   object\n",
      " 4   score                 5434 non-null   int64 \n",
      " 5   thumbsUpCount         5434 non-null   int64 \n",
      " 6   reviewCreatedVersion  4885 non-null   object\n",
      " 7   at                    5434 non-null   object\n",
      " 8   replyContent          1837 non-null   object\n",
      " 9   repliedAt             1837 non-null   object\n",
      " 10  sortOrder             5434 non-null   object\n",
      " 11  appId                 5434 non-null   object\n",
      "dtypes: int64(2), object(10)\n",
      "memory usage: 509.6+ KB\n"
     ]
    }
   ],
   "source": [
    "df_reviews.info()"
   ]
  },
  {
   "cell_type": "code",
   "execution_count": null,
   "metadata": {
    "colab": {
     "base_uri": "https://localhost:8080/"
    },
    "colab_type": "code",
    "id": "1aRNbxx36Sck",
    "outputId": "55f85360-4889-4b3a-d5a7-6ab82e561773"
   },
   "outputs": [
    {
     "data": {
      "text/plain": [
       "Text(0, 0.5, 'Total')"
      ]
     },
     "execution_count": 19,
     "metadata": {
      "tags": []
     },
     "output_type": "execute_result"
    },
    {
     "data": {
      "image/png": "[encoded data removed]",
      "text/plain": [
       "<Figure size 1080x648 with 1 Axes>"
      ]
     },
     "metadata": {
      "tags": []
     },
     "output_type": "display_data"
    }
   ],
   "source": [
    "# Plot stars\n",
    "sns.set(style = 'whitegrid', palette = 'muted', font_scale = 1.5)\n",
    "rcParams['figure.figsize'] = 15, 9\n",
    "sns.countplot(df_reviews.score)\n",
    "plt.xlabel('Stars')\n",
    "plt.ylabel('Total')"
   ]
  },
  {
   "cell_type": "code",
   "execution_count": null,
   "metadata": {
    "colab": {
     "base_uri": "https://localhost:8080/"
    },
    "colab_type": "code",
    "id": "bR6IWCVc7O1v",
    "outputId": "8c0507bd-9dcd-4b79-b600-d1aad464f9b3"
   },
   "outputs": [
    {
     "data": {
      "text/plain": [
       "Text(0, 0.5, 'Number of Samples')"
      ]
     },
     "execution_count": 20,
     "metadata": {
      "tags": []
     },
     "output_type": "execute_result"
    },
    {
     "data": {
      "image/png": "[encoded data removed]",
      "text/plain": [
       "<Figure size 1080x648 with 1 Axes>"
      ]
     },
     "metadata": {
      "tags": []
     },
     "output_type": "display_data"
    }
   ],
   "source": [
    "# Plot appId\n",
    "sns.set(style = 'whitegrid', palette = 'muted', font_scale = 1)\n",
    "rcParams['figure.figsize'] = 15, 9\n",
    "ax = sns.countplot(df_reviews.appId)\n",
    "ax.set_xticklabels(ax.get_xticklabels(),rotation=30)\n",
    "plt.xlabel('App')\n",
    "plt.ylabel('Number of Samples')"
   ]
  },
  {
   "cell_type": "code",
   "execution_count": null,
   "metadata": {
    "colab": {
     "base_uri": "https://localhost:8080/"
    },
    "colab_type": "code",
    "id": "5POA_bzMHu9T",
    "outputId": "5244550c-6fdd-4af4-b2d2-4043ec021b1f"
   },
   "outputs": [
    {
     "data": {
      "text/html": [
       "<div>\n",
       "<style scoped>\n",
       "    .dataframe tbody tr th:only-of-type {\n",
       "        vertical-align: middle;\n",
       "    }\n",
       "\n",
       "    .dataframe tbody tr th {\n",
       "        vertical-align: top;\n",
       "    }\n",
       "\n",
       "    .dataframe thead th {\n",
       "        text-align: right;\n",
       "    }\n",
       "</style>\n",
       "<table border=\"1\" class=\"dataframe\">\n",
       "  <thead>\n",
       "    <tr style=\"text-align: right;\">\n",
       "      <th>score</th>\n",
       "      <th>1</th>\n",
       "      <th>2</th>\n",
       "      <th>3</th>\n",
       "      <th>4</th>\n",
       "      <th>5</th>\n",
       "    </tr>\n",
       "    <tr>\n",
       "      <th>appId</th>\n",
       "      <th></th>\n",
       "      <th></th>\n",
       "      <th></th>\n",
       "      <th></th>\n",
       "      <th></th>\n",
       "    </tr>\n",
       "  </thead>\n",
       "  <tbody>\n",
       "    <tr>\n",
       "      <th>com.asana.app</th>\n",
       "      <td>100</td>\n",
       "      <td>100</td>\n",
       "      <td>200</td>\n",
       "      <td>100</td>\n",
       "      <td>100</td>\n",
       "    </tr>\n",
       "    <tr>\n",
       "      <th>com.atlassian.android.jira.core</th>\n",
       "      <td>100</td>\n",
       "      <td>100</td>\n",
       "      <td>200</td>\n",
       "      <td>100</td>\n",
       "      <td>100</td>\n",
       "    </tr>\n",
       "    <tr>\n",
       "      <th>com.basecamp.bc3</th>\n",
       "      <td>100</td>\n",
       "      <td>100</td>\n",
       "      <td>170</td>\n",
       "      <td>100</td>\n",
       "      <td>100</td>\n",
       "    </tr>\n",
       "    <tr>\n",
       "      <th>com.formagrid.airtable</th>\n",
       "      <td>100</td>\n",
       "      <td>100</td>\n",
       "      <td>146</td>\n",
       "      <td>100</td>\n",
       "      <td>100</td>\n",
       "    </tr>\n",
       "    <tr>\n",
       "      <th>com.microsoft.todos</th>\n",
       "      <td>100</td>\n",
       "      <td>100</td>\n",
       "      <td>200</td>\n",
       "      <td>100</td>\n",
       "      <td>100</td>\n",
       "    </tr>\n",
       "    <tr>\n",
       "      <th>com.monday.monday</th>\n",
       "      <td>100</td>\n",
       "      <td>100</td>\n",
       "      <td>158</td>\n",
       "      <td>100</td>\n",
       "      <td>100</td>\n",
       "    </tr>\n",
       "    <tr>\n",
       "      <th>com.smartsheet.android</th>\n",
       "      <td>100</td>\n",
       "      <td>100</td>\n",
       "      <td>84</td>\n",
       "      <td>100</td>\n",
       "      <td>100</td>\n",
       "    </tr>\n",
       "    <tr>\n",
       "      <th>com.taskade.mobile</th>\n",
       "      <td>42</td>\n",
       "      <td>16</td>\n",
       "      <td>72</td>\n",
       "      <td>100</td>\n",
       "      <td>100</td>\n",
       "    </tr>\n",
       "    <tr>\n",
       "      <th>com.trello</th>\n",
       "      <td>100</td>\n",
       "      <td>100</td>\n",
       "      <td>200</td>\n",
       "      <td>100</td>\n",
       "      <td>100</td>\n",
       "    </tr>\n",
       "    <tr>\n",
       "      <th>com.wrike</th>\n",
       "      <td>100</td>\n",
       "      <td>100</td>\n",
       "      <td>146</td>\n",
       "      <td>100</td>\n",
       "      <td>100</td>\n",
       "    </tr>\n",
       "  </tbody>\n",
       "</table>\n",
       "</div>"
      ],
      "text/plain": [
       "score                              1    2    3    4    5\n",
       "appId                                                   \n",
       "com.asana.app                    100  100  200  100  100\n",
       "com.atlassian.android.jira.core  100  100  200  100  100\n",
       "com.basecamp.bc3                 100  100  170  100  100\n",
       "com.formagrid.airtable           100  100  146  100  100\n",
       "com.microsoft.todos              100  100  200  100  100\n",
       "com.monday.monday                100  100  158  100  100\n",
       "com.smartsheet.android           100  100   84  100  100\n",
       "com.taskade.mobile                42   16   72  100  100\n",
       "com.trello                       100  100  200  100  100\n",
       "com.wrike                        100  100  146  100  100"
      ]
     },
     "execution_count": 21,
     "metadata": {
      "tags": []
     },
     "output_type": "execute_result"
    }
   ],
   "source": [
    "# Creating a pivot table to see which app x star combination didn't retrieve the desired amount of data\n",
    "app_x_stars = df_reviews.groupby(['appId', 'score']).size().unstack()\n",
    "app_x_stars"
   ]
  },
  {
   "cell_type": "code",
   "execution_count": null,
   "metadata": {
    "colab": {
     "base_uri": "https://localhost:8080/"
    },
    "colab_type": "code",
    "id": "J35FT4UqIkDJ",
    "outputId": "617cda7e-08ab-432c-98b7-71903baf5d84"
   },
   "outputs": [
    {
     "data": {
      "text/plain": [
       "<matplotlib.axes._subplots.AxesSubplot at 0x7f1ff9bb71d0>"
      ]
     },
     "execution_count": 22,
     "metadata": {
      "tags": []
     },
     "output_type": "execute_result"
    },
    {
     "data": {
      "image/png": "[encoded data removed]",
      "text/plain": [
       "<Figure size 1080x648 with 2 Axes>"
      ]
     },
     "metadata": {
      "tags": []
     },
     "output_type": "display_data"
    }
   ],
   "source": [
    "# Plotting app x stars as a heatmap\n",
    "sns.heatmap(app_x_stars, linewidths=1, linecolor='white', cmap='Blues')"
   ]
  },
  {
   "cell_type": "markdown",
   "metadata": {
    "colab_type": "text",
    "id": "0yKWD_VDNLBb"
   },
   "source": [
    "# Preprocessing"
   ]
  },
  {
   "cell_type": "code",
   "execution_count": null,
   "metadata": {
    "colab": {},
    "colab_type": "code",
    "id": "QuYOYFdNIurD"
   },
   "outputs": [],
   "source": [
    "# Grouping function\n",
    "# This will convert range of 1-5 star reviews into negative(0), neutral(1) and positive(2)\n",
    "# This is why I've gathered twice as much data for 3 star reviews\n",
    "def group_rating(rating):\n",
    "\n",
    "    # initialize groups on -1 to catch any bugs\n",
    "    grp_rating = -1 \n",
    "\n",
    "    # Convert ratings to integers\n",
    "    rating = int(rating)\n",
    "\n",
    "    # If the rating is above 3, then positive (2)\n",
    "    if rating > 3:\n",
    "        grp_rating = 2\n",
    "    \n",
    "    # If rating is 3, then neutral (1)\n",
    "    elif rating == 3:\n",
    "        grp_rating = 1\n",
    "    \n",
    "    # If rating is below 3, then negative (0)\n",
    "    else:\n",
    "        grp_rating = 0\n",
    "    \n",
    "    return grp_rating"
   ]
  },
  {
   "cell_type": "code",
   "execution_count": null,
   "metadata": {
    "colab": {},
    "colab_type": "code",
    "id": "ICE_pE3DOOFf"
   },
   "outputs": [],
   "source": [
    "# Apply the function to the dataset and create a 'sentiment' column with the output\n",
    "df_reviews['sentiment'] = df_reviews.score.apply(group_rating)"
   ]
  },
  {
   "cell_type": "code",
   "execution_count": null,
   "metadata": {
    "colab": {
     "base_uri": "https://localhost:8080/"
    },
    "colab_type": "code",
    "id": "HiOKWjeRObLC",
    "outputId": "7d9d305f-0169-4124-93f0-a72338ab0c67"
   },
   "outputs": [
    {
     "data": {
      "text/html": [
       "<div>\n",
       "<style scoped>\n",
       "    .dataframe tbody tr th:only-of-type {\n",
       "        vertical-align: middle;\n",
       "    }\n",
       "\n",
       "    .dataframe tbody tr th {\n",
       "        vertical-align: top;\n",
       "    }\n",
       "\n",
       "    .dataframe thead th {\n",
       "        text-align: right;\n",
       "    }\n",
       "</style>\n",
       "<table border=\"1\" class=\"dataframe\">\n",
       "  <thead>\n",
       "    <tr style=\"text-align: right;\">\n",
       "      <th></th>\n",
       "      <th>reviewId</th>\n",
       "      <th>userName</th>\n",
       "      <th>userImage</th>\n",
       "      <th>content</th>\n",
       "      <th>score</th>\n",
       "      <th>thumbsUpCount</th>\n",
       "      <th>reviewCreatedVersion</th>\n",
       "      <th>at</th>\n",
       "      <th>replyContent</th>\n",
       "      <th>repliedAt</th>\n",
       "      <th>sortOrder</th>\n",
       "      <th>appId</th>\n",
       "      <th>sentiment</th>\n",
       "    </tr>\n",
       "  </thead>\n",
       "  <tbody>\n",
       "    <tr>\n",
       "      <th>0</th>\n",
       "      <td>gp:AOqpTOHTV7PdCc2qccT5aehUpoV3mB0PaGYuGP6VoAr...</td>\n",
       "      <td>Anne Amit</td>\n",
       "      <td>https://lh3.googleusercontent.com/a-/AOh14GiyP...</td>\n",
       "      <td>Absolute trash. Stay away from this app and ju...</td>\n",
       "      <td>1</td>\n",
       "      <td>7</td>\n",
       "      <td>6.50.8</td>\n",
       "      <td>2020-08-11 02:40:35</td>\n",
       "      <td>NaN</td>\n",
       "      <td>NaN</td>\n",
       "      <td>most_relevant</td>\n",
       "      <td>com.asana.app</td>\n",
       "      <td>0</td>\n",
       "    </tr>\n",
       "    <tr>\n",
       "      <th>1</th>\n",
       "      <td>gp:AOqpTOGjmtD5IJRa-8Rk7hxS02RFs1oyJgdDwFOXbsj...</td>\n",
       "      <td>mrk 1</td>\n",
       "      <td>https://lh3.googleusercontent.com/-HCdJh-McJWE...</td>\n",
       "      <td>At first looked very promising (specially UI) ...</td>\n",
       "      <td>1</td>\n",
       "      <td>34</td>\n",
       "      <td>6.46.6</td>\n",
       "      <td>2020-06-11 23:50:05</td>\n",
       "      <td>NaN</td>\n",
       "      <td>NaN</td>\n",
       "      <td>most_relevant</td>\n",
       "      <td>com.asana.app</td>\n",
       "      <td>0</td>\n",
       "    </tr>\n",
       "    <tr>\n",
       "      <th>2</th>\n",
       "      <td>gp:AOqpTOHVo18xZthD7fpEma0cvNOrtqWv49Kw9yzdi2O...</td>\n",
       "      <td>Kunal Sareen</td>\n",
       "      <td>https://lh3.googleusercontent.com/a-/AOh14GhWG...</td>\n",
       "      <td>Just downloaded it. I'm unable to sign up. Is ...</td>\n",
       "      <td>1</td>\n",
       "      <td>0</td>\n",
       "      <td>6.51.4</td>\n",
       "      <td>2020-08-06 06:30:13</td>\n",
       "      <td>Hi Kunal I'm sorry to hear you are having trou...</td>\n",
       "      <td>2020-08-13 17:13:13</td>\n",
       "      <td>most_relevant</td>\n",
       "      <td>com.asana.app</td>\n",
       "      <td>0</td>\n",
       "    </tr>\n",
       "  </tbody>\n",
       "</table>\n",
       "</div>"
      ],
      "text/plain": [
       "                                            reviewId  ... sentiment\n",
       "0  gp:AOqpTOHTV7PdCc2qccT5aehUpoV3mB0PaGYuGP6VoAr...  ...         0\n",
       "1  gp:AOqpTOGjmtD5IJRa-8Rk7hxS02RFs1oyJgdDwFOXbsj...  ...         0\n",
       "2  gp:AOqpTOHVo18xZthD7fpEma0cvNOrtqWv49Kw9yzdi2O...  ...         0\n",
       "\n",
       "[3 rows x 13 columns]"
      ]
     },
     "execution_count": 25,
     "metadata": {
      "tags": []
     },
     "output_type": "execute_result"
    }
   ],
   "source": [
    "df_reviews.head(3)"
   ]
  },
  {
   "cell_type": "code",
   "execution_count": null,
   "metadata": {
    "colab": {},
    "colab_type": "code",
    "id": "etGBEewRkGQo"
   },
   "outputs": [],
   "source": [
    "# Shuffling the dataframe to avoid biasing the model later on\n",
    "df_reviews = df_reviews.sample(frac=1).reset_index(drop=True)"
   ]
  },
  {
   "cell_type": "code",
   "execution_count": null,
   "metadata": {
    "colab": {},
    "colab_type": "code",
    "id": "zOfn7x2JOcQ7"
   },
   "outputs": [],
   "source": [
    "# List with class names\n",
    "class_names = ['negative', 'neutral', 'positive']"
   ]
  },
  {
   "cell_type": "code",
   "execution_count": null,
   "metadata": {
    "colab": {
     "base_uri": "https://localhost:8080/"
    },
    "colab_type": "code",
    "id": "RFH0Ue5EKzRK",
    "outputId": "0cebe525-2fc2-4b47-f407-636103a43cd2"
   },
   "outputs": [
    {
     "name": "stdout",
     "output_type": "stream",
     "text": [
      "Negative: 0.3419212366580788\n",
      "Neutral: 0.29002576370997424\n",
      "Positive: 0.368052999631947\n"
     ]
    }
   ],
   "source": [
    "print(f'Negative: {(len(df_reviews[df_reviews.sentiment == 0])/len(df_reviews))}')\n",
    "print(f'Neutral: {(len(df_reviews[df_reviews.sentiment == 1])/len(df_reviews))}')\n",
    "print(f'Positive: {(len(df_reviews[df_reviews.sentiment == 2])/len(df_reviews))}')"
   ]
  },
  {
   "cell_type": "code",
   "execution_count": null,
   "metadata": {
    "colab": {
     "base_uri": "https://localhost:8080/"
    },
    "colab_type": "code",
    "id": "fCAhoBiHAWxL",
    "outputId": "ad93780b-ab0e-4635-8fde-98fceeaa273a"
   },
   "outputs": [
    {
     "data": {
      "text/plain": [
       "Text(0, 0.5, 'Total')"
      ]
     },
     "execution_count": 29,
     "metadata": {
      "tags": []
     },
     "output_type": "execute_result"
    },
    {
     "data": {
      "image/png": "[encoded data removed]",
      "text/plain": [
       "<Figure size 1080x648 with 1 Axes>"
      ]
     },
     "metadata": {
      "tags": []
     },
     "output_type": "display_data"
    }
   ],
   "source": [
    "# Plot class distribution\n",
    "sns.set(style = 'whitegrid', palette = 'muted', font_scale = 1.5)\n",
    "rcParams['figure.figsize'] = 15, 9\n",
    "sns.countplot(df_reviews.sentiment)\n",
    "plt.xlabel('Class')\n",
    "plt.ylabel('Total')"
   ]
  },
  {
   "cell_type": "markdown",
   "metadata": {
    "colab_type": "text",
    "id": "KTbdy_dwO1IY"
   },
   "source": [
    "Downloading the pre-treined BERT model.\n",
    "\n",
    "List of available models: https://github.com/google-research/bert"
   ]
  },
  {
   "cell_type": "code",
   "execution_count": null,
   "metadata": {
    "colab": {},
    "colab_type": "code",
    "id": "cjQPCJULOyGJ"
   },
   "outputs": [],
   "source": [
    "# Model download\n",
    "tokenizer = transformers.BertTokenizer.from_pretrained('bert-base-cased')"
   ]
  },
  {
   "cell_type": "code",
   "execution_count": null,
   "metadata": {
    "colab": {
     "base_uri": "https://localhost:8080/"
    },
    "colab_type": "code",
    "id": "Ff2UvQLvPEk-",
    "outputId": "fc0f953b-a0bc-4375-bdc8-6a1e06c140e5"
   },
   "outputs": [
    {
     "data": {
      "application/vnd.google.colaboratory.intrinsic+json": {
       "type": "string"
      },
      "text/plain": [
       "'Just a test sentence. Test 2.'"
      ]
     },
     "execution_count": 31,
     "metadata": {
      "tags": []
     },
     "output_type": "execute_result"
    }
   ],
   "source": [
    "# Test text\n",
    "test_text = 'Just a test sentence. Test 2.'\n",
    "test_text"
   ]
  },
  {
   "cell_type": "code",
   "execution_count": null,
   "metadata": {
    "colab": {
     "base_uri": "https://localhost:8080/"
    },
    "colab_type": "code",
    "id": "dQP31vZYPNHc",
    "outputId": "84225830-a926-42db-d1b5-cc83f8219cd7"
   },
   "outputs": [
    {
     "data": {
      "text/plain": [
       "['Just', 'a', 'test', 'sentence', '.', 'Test', '2', '.']"
      ]
     },
     "execution_count": 32,
     "metadata": {
      "tags": []
     },
     "output_type": "execute_result"
    }
   ],
   "source": [
    "# Tokenize\n",
    "tokens = tokenizer.tokenize(test_text)\n",
    "tokens"
   ]
  },
  {
   "cell_type": "code",
   "execution_count": null,
   "metadata": {
    "colab": {
     "base_uri": "https://localhost:8080/"
    },
    "colab_type": "code",
    "id": "8o81_5POPP-Z",
    "outputId": "310ee87d-d57f-4dad-aa61-bae8f1450fc5"
   },
   "outputs": [
    {
     "data": {
      "text/plain": [
       "[2066, 170, 2774, 5650, 119, 5960, 123, 119]"
      ]
     },
     "execution_count": 33,
     "metadata": {
      "tags": []
     },
     "output_type": "execute_result"
    }
   ],
   "source": [
    "# Extract the token_ids\n",
    "token_ids = tokenizer.convert_tokens_to_ids(tokens)\n",
    "token_ids"
   ]
  },
  {
   "cell_type": "code",
   "execution_count": null,
   "metadata": {
    "colab": {
     "base_uri": "https://localhost:8080/"
    },
    "colab_type": "code",
    "id": "YMOwlhM9PQxx",
    "outputId": "e633be2f-665a-4c11-bbba-9e1b488f83f1"
   },
   "outputs": [
    {
     "name": "stderr",
     "output_type": "stream",
     "text": [
      "Truncation was not explicitely activated but `max_length` is provided a specific value, please use `truncation=True` to explicitely truncate examples to max length. Defaulting to 'longest_first' truncation strategy. If you encode pairs of sequences (GLUE-style) with the tokenizer you can select this strategy more precisely by providing a specific strategy to `truncation`.\n"
     ]
    }
   ],
   "source": [
    "# Create the encoding object to format the data for the BERT model\n",
    "encoding = tokenizer.encode_plus(test_text,\n",
    "                                 max_length = 32,\n",
    "                                 add_special_tokens = True,\n",
    "                                 pad_to_max_length = True,\n",
    "                                 return_attention_mask = True,\n",
    "                                 return_token_type_ids = False,\n",
    "                                 return_tensors = 'pt')"
   ]
  },
  {
   "cell_type": "code",
   "execution_count": null,
   "metadata": {
    "colab": {
     "base_uri": "https://localhost:8080/"
    },
    "colab_type": "code",
    "id": "MSNFx-4kP8nl",
    "outputId": "2549550e-4269-4dbe-9336-bb531ae6729a"
   },
   "outputs": [
    {
     "data": {
      "text/plain": [
       "{'input_ids': tensor([[ 101, 2066,  170, 2774, 5650,  119, 5960,  123,  119,  102,    0,    0,\n",
       "            0,    0,    0,    0,    0,    0,    0,    0,    0,    0,    0,    0,\n",
       "            0,    0,    0,    0,    0,    0,    0,    0]]), 'attention_mask': tensor([[1, 1, 1, 1, 1, 1, 1, 1, 1, 1, 0, 0, 0, 0, 0, 0, 0, 0, 0, 0, 0, 0, 0, 0,\n",
       "         0, 0, 0, 0, 0, 0, 0, 0]])}"
      ]
     },
     "execution_count": 35,
     "metadata": {
      "tags": []
     },
     "output_type": "execute_result"
    }
   ],
   "source": [
    "# Print\n",
    "encoding"
   ]
  },
  {
   "cell_type": "markdown",
   "metadata": {
    "colab_type": "text",
    "id": "2CK_emgbQQQp"
   },
   "source": [
    "Applying the BERT tokenizer to the dataset"
   ]
  },
  {
   "cell_type": "code",
   "execution_count": null,
   "metadata": {
    "colab": {},
    "colab_type": "code",
    "id": "RyNremrIQL3N"
   },
   "outputs": [],
   "source": [
    "# List for the tokens\n",
    "token_length = []"
   ]
  },
  {
   "cell_type": "code",
   "execution_count": null,
   "metadata": {
    "colab": {
     "base_uri": "https://localhost:8080/"
    },
    "colab_type": "code",
    "id": "CsBcCLd7TwUw",
    "outputId": "7c989c80-1712-4745-f260-48a5613e9f0e"
   },
   "outputs": [
    {
     "data": {
      "text/plain": [
       "(5434, 13)"
      ]
     },
     "execution_count": 37,
     "metadata": {
      "tags": []
     },
     "output_type": "execute_result"
    }
   ],
   "source": [
    "# Drop NaN values before tokenizing\n",
    "df_reviews = df_reviews.dropna(subset=['content'], how='all')\n",
    "df_reviews.reset_index(inplace = True, drop=True)\n",
    "df_reviews.shape"
   ]
  },
  {
   "cell_type": "code",
   "execution_count": null,
   "metadata": {
    "colab": {},
    "colab_type": "code",
    "id": "pNuJfULXQkWL"
   },
   "outputs": [],
   "source": [
    "# Loop through the dataset content applying the tokenizer\n",
    "for content in df_reviews.content:\n",
    "    tokens = tokenizer.encode(content)\n",
    "    token_length.append(len(tokens))"
   ]
  },
  {
   "cell_type": "code",
   "execution_count": null,
   "metadata": {
    "colab": {
     "base_uri": "https://localhost:8080/"
    },
    "colab_type": "code",
    "id": "hCnbZ1rfRg31",
    "outputId": "097238e9-9905-43b0-b054-a77d841078b5"
   },
   "outputs": [
    {
     "data": {
      "text/plain": [
       "5429    I bought the Garmin intinct. Shouldnt have to ...\n",
       "5430                                            Great app\n",
       "5431    After latest update, I am not getting alert wh...\n",
       "5432    Decent enough app but when it says you can soo...\n",
       "5433    Overall it is a good app. But it doesn't have ...\n",
       "Name: content, dtype: object"
      ]
     },
     "execution_count": 39,
     "metadata": {
      "tags": []
     },
     "output_type": "execute_result"
    }
   ],
   "source": [
    "# Sample of contents\n",
    "df_reviews.content.tail(5)"
   ]
  },
  {
   "cell_type": "code",
   "execution_count": null,
   "metadata": {
    "colab": {
     "base_uri": "https://localhost:8080/"
    },
    "colab_type": "code",
    "id": "ljyFH3chSYQn",
    "outputId": "0903e7d6-e2f2-4992-eabf-eba2c43675ff"
   },
   "outputs": [
    {
     "data": {
      "text/plain": [
       "Text(0.5, 0, 'Token Length')"
      ]
     },
     "execution_count": 40,
     "metadata": {
      "tags": []
     },
     "output_type": "execute_result"
    },
    {
     "data": {
      "image/png": "[encoded data removed]",
      "text/plain": [
       "<Figure size 1080x648 with 1 Axes>"
      ]
     },
     "metadata": {
      "tags": []
     },
     "output_type": "display_data"
    }
   ],
   "source": [
    "# Plot\n",
    "ax = sns.distplot(token_length)\n",
    "plt.xlim([0, 200])\n",
    "plt.xlabel('Token Length')"
   ]
  },
  {
   "cell_type": "markdown",
   "metadata": {
    "colab_type": "text",
    "id": "bYG56hKXXXuL"
   },
   "source": [
    "# Configurations"
   ]
  },
  {
   "cell_type": "code",
   "execution_count": null,
   "metadata": {
    "colab": {
     "base_uri": "https://localhost:8080/"
    },
    "colab_type": "code",
    "id": "UjXP7x15XX5g",
    "outputId": "1b08cb1e-72c5-446f-b816-3a1cb89413da"
   },
   "outputs": [
    {
     "data": {
      "application/vnd.google.colaboratory.intrinsic+json": {
       "type": "string"
      },
      "text/plain": [
       "'\\nSpent about 7 hours debugging this model to find out that the learning rate\\nhas to be precisely 2e^-5 as anything else was causing the model not to learn at all\\n'"
      ]
     },
     "execution_count": 41,
     "metadata": {
      "tags": []
     },
     "output_type": "execute_result"
    }
   ],
   "source": [
    "# Model Hyperparameters\n",
    "EPOCHS = 10\n",
    "BATCH_SIZE = 16\n",
    "MAX_LENGTH = 150\n",
    "LEARNING_RATE = 0.00002 \n",
    "'''\n",
    "Spent about 7 hours debugging this model to find out that the learning rate\n",
    "has to be precisely 2e^-5 as anything else was causing the model not to learn at all\n",
    "'''"
   ]
  },
  {
   "cell_type": "markdown",
   "metadata": {
    "colab_type": "text",
    "id": "RG8MVj_UWdpe"
   },
   "source": [
    "# Data Batching"
   ]
  },
  {
   "cell_type": "code",
   "execution_count": null,
   "metadata": {
    "colab": {},
    "colab_type": "code",
    "id": "gSGaeeRYSykG"
   },
   "outputs": [],
   "source": [
    "class DataBatcher(data.Dataset):\n",
    "\n",
    "    # Constructor\n",
    "    def __init__(self, review, targets, tokenizer, max_len):\n",
    "\n",
    "        # Initialize class atributes\n",
    "        self.review = review\n",
    "        self.targets = targets\n",
    "        self.tokenizer = tokenizer\n",
    "        self.max_len = max_len\n",
    "\n",
    "    def __len__(self):\n",
    "        return len(self.review)\n",
    "\n",
    "    # Method to obtain each review\n",
    "    def __getitem__(self, item):\n",
    "\n",
    "        # Load a review\n",
    "        review = str(self.review[item])\n",
    "\n",
    "        # Create the review embedding\n",
    "        encoding = tokenizer.encode_plus(review,\n",
    "                                         max_length = self.max_len,\n",
    "                                         truncation=True,\n",
    "                                         add_special_tokens = True,\n",
    "                                         pad_to_max_length = True,\n",
    "                                         return_attention_mask = True,\n",
    "                                         return_token_type_ids = False,\n",
    "                                         return_tensors = 'pt')\n",
    "        \n",
    "        # Among the methods returns, there is the attention mask\n",
    "        return {'review_text': review,\n",
    "                'input_ids': encoding['input_ids'].flatten(),\n",
    "                'attention_mask': encoding['attention_mask'].flatten(),\n",
    "                'targets': torch.tensor(self.targets[item], dtype = torch.long)}"
   ]
  },
  {
   "cell_type": "code",
   "execution_count": null,
   "metadata": {
    "colab": {},
    "colab_type": "code",
    "id": "tCTzyqZYXIeW"
   },
   "outputs": [],
   "source": [
    "# This function creates a data loader to convert the dataset to the BERT format\n",
    "# torch.utils.data.dataloader.DataLoader\n",
    "def create_data_loader(df, tokenizer, max_len, batch_size):\n",
    "    ds = DataBatcher(review = df.content.to_numpy(),\n",
    "                     targets = df.sentiment.to_numpy(),\n",
    "                     tokenizer = tokenizer,\n",
    "                     max_len = max_len)\n",
    "    \n",
    "    return data.DataLoader(ds, batch_size = batch_size, num_workers = 4)"
   ]
  },
  {
   "cell_type": "code",
   "execution_count": null,
   "metadata": {
    "colab": {},
    "colab_type": "code",
    "id": "kwUVa_o1ak2Z"
   },
   "outputs": [],
   "source": [
    "# Train test split\n",
    "df_train, df_test = train_test_split(df_reviews, test_size = 0.2) #, random_state = RANDOM_SEED"
   ]
  },
  {
   "cell_type": "code",
   "execution_count": null,
   "metadata": {
    "colab": {},
    "colab_type": "code",
    "id": "10IPnqCNa9TY"
   },
   "outputs": [],
   "source": [
    "# Test validation split\n",
    "df_valid, df_test = train_test_split(df_test, test_size = 0.5) #, random_state = RANDOM_SEED"
   ]
  },
  {
   "cell_type": "code",
   "execution_count": null,
   "metadata": {
    "colab": {
     "base_uri": "https://localhost:8080/"
    },
    "colab_type": "code",
    "id": "HB9Ate-ibIwI",
    "outputId": "3c9d457a-341d-4bee-8088-6c7f00597cd3"
   },
   "outputs": [
    {
     "name": "stdout",
     "output_type": "stream",
     "text": [
      "df_train.shape: (4347, 13)\n",
      "df_test.shape: (544, 13)\n",
      "df_valid.shape: (543, 13)\n"
     ]
    }
   ],
   "source": [
    "print(f'df_train.shape: {df_train.shape}')\n",
    "print(f'df_test.shape: {df_test.shape}')\n",
    "print(f'df_valid.shape: {df_valid.shape}')"
   ]
  },
  {
   "cell_type": "code",
   "execution_count": null,
   "metadata": {
    "colab": {},
    "colab_type": "code",
    "id": "xR1PDOgfbOSE"
   },
   "outputs": [],
   "source": [
    "# Load the data_loaders\n",
    "train_data_loader = create_data_loader(df_train, tokenizer, MAX_LENGTH, BATCH_SIZE)\n",
    "test_data_loader = create_data_loader(df_test, tokenizer, MAX_LENGTH, BATCH_SIZE)\n",
    "valid_data_loader = create_data_loader(df_valid, tokenizer, MAX_LENGTH, BATCH_SIZE)"
   ]
  },
  {
   "cell_type": "code",
   "execution_count": null,
   "metadata": {
    "colab": {
     "base_uri": "https://localhost:8080/"
    },
    "colab_type": "code",
    "id": "-aYA0MAzb6DF",
    "outputId": "934b44bd-d021-4de5-b945-f1ee7937e105"
   },
   "outputs": [
    {
     "name": "stdout",
     "output_type": "stream",
     "text": [
      "torch.Size([16, 150])\n",
      "torch.Size([16, 150])\n",
      "torch.Size([16])\n"
     ]
    }
   ],
   "source": [
    "# Visualize a sample on the training data\n",
    "sample = next(iter(train_data_loader))\n",
    "print(sample['input_ids'].shape)\n",
    "print(sample['attention_mask'].shape)\n",
    "print(sample['targets'].shape)"
   ]
  },
  {
   "cell_type": "code",
   "execution_count": null,
   "metadata": {
    "colab": {
     "base_uri": "https://localhost:8080/"
    },
    "colab_type": "code",
    "id": "oc_YcFW5cCL3",
    "outputId": "72341903-1825-41f8-9a99-3146e2e91f49"
   },
   "outputs": [
    {
     "name": "stdout",
     "output_type": "stream",
     "text": [
      "{'review_text': ['one of the best apps for managing team tasks and projects.', \"Good app overall but $25 as the lowest price? Create another plan for \\nsingle user for like 10-15 and I'll rate 5 stars. I'm pretty sure I'm not \\nthe only one who would like this.\", 'An updated review after using it for sometime. My day experience does not do the trick (compared to TickTick or Anydo), also the widget (only one) is frequently being blanck unresponsive (app is allowed to autostart and work in background). The missing of some collaborative features (shared reminders and notes in tasks) is felt. The design is very nice and it has potential but it seems some what behind other trending ToDo and task/time management apps.', 'There is less than zero reason why I should be forced to use an app when a browser works just as well. Aggressively anti-user. Would give zero stars if allowed.', 'Not provide enough functionality and UI is also not great', 'Super slow!', \"I like being able to group tasks into multiple lists on the same screen, and the ability to attach images etc is very valuable. However, I wish I could delete individual tasks with a swipe or couple of taps, instead of having to drag all the way to archive. I also don't like having to swipe all the way to the end to create new boards. The ability to use a website to edit tasks on a PC is my favourite feature.\", 'This is the only Microsoft app with no support for proper status bar and navigation bar colouring, the devs working on this app are lazy af especially compared to the ones working on the outlook and onedrive app', \"The app is much less developed than the web version. Simplicity has reigned at the expense of functionality. My favourite competitor is Wrike and I could fill a book with the features the Wrike app offers which this lacks. Not only are subtasks not supported, but tasks themselves don't even have a description. 'info boxes' are where you add details and extra materials on a task, but you can't edit those on the app, so you get to write a (very short) task title and that's it.\", 'Words cannot express how happy I am to have found this app. As a teacher, writer, and editor, I work with a lot of projects and deadlines and this app makes it possible to Manage it all.', \"I connected Zeplin plugin and it works on desktop, but on mobile app my stakeholder don't see it! It is awful UX for 2019. You should provide the same functionality despite of the platform I am using.\", 'Nice app', 'could really do with widgets and customised views', 'Its a good app for organization and communication. However, notifications and comments in tasks are sorted from oldest to newest, top to bottom which is very illogical and hard to read', 'Good home management app. My husband and I share a few different lists, like shopping, tasks, movies, etc, and it works for us. It\\'s not a 5 stars because when I tried to use it as a personal daily task list, I wasn\\'t all that satisfied. I would expect uncompleted \"day tasks\" to remain visible for the next day, or recurring weekly items which you completed this week, to disappear from your to-do list until the following recurrence.', 'I hate that u have to pay'], 'input_ids': tensor([[  101,  1141,  1104,  ...,     0,     0,     0],\n",
      "        [  101,  2750, 12647,  ...,     0,     0,     0],\n",
      "        [  101,  1760,  8054,  ...,     0,     0,     0],\n",
      "        ...,\n",
      "        [  101,  2098,   170,  ...,     0,     0,     0],\n",
      "        [  101,  2750,  1313,  ...,     0,     0,     0],\n",
      "        [  101,   146,  4819,  ...,     0,     0,     0]]), 'attention_mask': tensor([[1, 1, 1,  ..., 0, 0, 0],\n",
      "        [1, 1, 1,  ..., 0, 0, 0],\n",
      "        [1, 1, 1,  ..., 0, 0, 0],\n",
      "        ...,\n",
      "        [1, 1, 1,  ..., 0, 0, 0],\n",
      "        [1, 1, 1,  ..., 0, 0, 0],\n",
      "        [1, 1, 1,  ..., 0, 0, 0]]), 'targets': tensor([2, 1, 1, 0, 1, 0, 2, 0, 1, 2, 0, 2, 1, 1, 2, 1])}\n"
     ]
    }
   ],
   "source": [
    "# Single review sample already on BERT format\n",
    "print(sample)"
   ]
  },
  {
   "cell_type": "markdown",
   "metadata": {
    "colab_type": "text",
    "id": "RmNP2aN_eQ2I"
   },
   "source": [
    "# Model"
   ]
  },
  {
   "cell_type": "code",
   "execution_count": null,
   "metadata": {
    "colab": {},
    "colab_type": "code",
    "id": "Y8abeU8YeD8l"
   },
   "outputs": [],
   "source": [
    "# Loading the pre-trained BERT model\n",
    "model_bert = BertModel.from_pretrained('bert-base-cased')"
   ]
  },
  {
   "cell_type": "code",
   "execution_count": null,
   "metadata": {
    "colab": {
     "base_uri": "https://localhost:8080/"
    },
    "colab_type": "code",
    "id": "B9liFxDKegEY",
    "outputId": "4f0e9c18-b2b4-4afc-9da8-7c3152849070"
   },
   "outputs": [
    {
     "data": {
      "text/plain": [
       "BertModel(\n",
       "  (embeddings): BertEmbeddings(\n",
       "    (word_embeddings): Embedding(28996, 768, padding_idx=0)\n",
       "    (position_embeddings): Embedding(512, 768)\n",
       "    (token_type_embeddings): Embedding(2, 768)\n",
       "    (LayerNorm): LayerNorm((768,), eps=1e-12, elementwise_affine=True)\n",
       "    (dropout): Dropout(p=0.1, inplace=False)\n",
       "  )\n",
       "  (encoder): BertEncoder(\n",
       "    (layer): ModuleList(\n",
       "      (0): BertLayer(\n",
       "        (attention): BertAttention(\n",
       "          (self): BertSelfAttention(\n",
       "            (query): Linear(in_features=768, out_features=768, bias=True)\n",
       "            (key): Linear(in_features=768, out_features=768, bias=True)\n",
       "            (value): Linear(in_features=768, out_features=768, bias=True)\n",
       "            (dropout): Dropout(p=0.1, inplace=False)\n",
       "          )\n",
       "          (output): BertSelfOutput(\n",
       "            (dense): Linear(in_features=768, out_features=768, bias=True)\n",
       "            (LayerNorm): LayerNorm((768,), eps=1e-12, elementwise_affine=True)\n",
       "            (dropout): Dropout(p=0.1, inplace=False)\n",
       "          )\n",
       "        )\n",
       "        (intermediate): BertIntermediate(\n",
       "          (dense): Linear(in_features=768, out_features=3072, bias=True)\n",
       "        )\n",
       "        (output): BertOutput(\n",
       "          (dense): Linear(in_features=3072, out_features=768, bias=True)\n",
       "          (LayerNorm): LayerNorm((768,), eps=1e-12, elementwise_affine=True)\n",
       "          (dropout): Dropout(p=0.1, inplace=False)\n",
       "        )\n",
       "      )\n",
       "      (1): BertLayer(\n",
       "        (attention): BertAttention(\n",
       "          (self): BertSelfAttention(\n",
       "            (query): Linear(in_features=768, out_features=768, bias=True)\n",
       "            (key): Linear(in_features=768, out_features=768, bias=True)\n",
       "            (value): Linear(in_features=768, out_features=768, bias=True)\n",
       "            (dropout): Dropout(p=0.1, inplace=False)\n",
       "          )\n",
       "          (output): BertSelfOutput(\n",
       "            (dense): Linear(in_features=768, out_features=768, bias=True)\n",
       "            (LayerNorm): LayerNorm((768,), eps=1e-12, elementwise_affine=True)\n",
       "            (dropout): Dropout(p=0.1, inplace=False)\n",
       "          )\n",
       "        )\n",
       "        (intermediate): BertIntermediate(\n",
       "          (dense): Linear(in_features=768, out_features=3072, bias=True)\n",
       "        )\n",
       "        (output): BertOutput(\n",
       "          (dense): Linear(in_features=3072, out_features=768, bias=True)\n",
       "          (LayerNorm): LayerNorm((768,), eps=1e-12, elementwise_affine=True)\n",
       "          (dropout): Dropout(p=0.1, inplace=False)\n",
       "        )\n",
       "      )\n",
       "      (2): BertLayer(\n",
       "        (attention): BertAttention(\n",
       "          (self): BertSelfAttention(\n",
       "            (query): Linear(in_features=768, out_features=768, bias=True)\n",
       "            (key): Linear(in_features=768, out_features=768, bias=True)\n",
       "            (value): Linear(in_features=768, out_features=768, bias=True)\n",
       "            (dropout): Dropout(p=0.1, inplace=False)\n",
       "          )\n",
       "          (output): BertSelfOutput(\n",
       "            (dense): Linear(in_features=768, out_features=768, bias=True)\n",
       "            (LayerNorm): LayerNorm((768,), eps=1e-12, elementwise_affine=True)\n",
       "            (dropout): Dropout(p=0.1, inplace=False)\n",
       "          )\n",
       "        )\n",
       "        (intermediate): BertIntermediate(\n",
       "          (dense): Linear(in_features=768, out_features=3072, bias=True)\n",
       "        )\n",
       "        (output): BertOutput(\n",
       "          (dense): Linear(in_features=3072, out_features=768, bias=True)\n",
       "          (LayerNorm): LayerNorm((768,), eps=1e-12, elementwise_affine=True)\n",
       "          (dropout): Dropout(p=0.1, inplace=False)\n",
       "        )\n",
       "      )\n",
       "      (3): BertLayer(\n",
       "        (attention): BertAttention(\n",
       "          (self): BertSelfAttention(\n",
       "            (query): Linear(in_features=768, out_features=768, bias=True)\n",
       "            (key): Linear(in_features=768, out_features=768, bias=True)\n",
       "            (value): Linear(in_features=768, out_features=768, bias=True)\n",
       "            (dropout): Dropout(p=0.1, inplace=False)\n",
       "          )\n",
       "          (output): BertSelfOutput(\n",
       "            (dense): Linear(in_features=768, out_features=768, bias=True)\n",
       "            (LayerNorm): LayerNorm((768,), eps=1e-12, elementwise_affine=True)\n",
       "            (dropout): Dropout(p=0.1, inplace=False)\n",
       "          )\n",
       "        )\n",
       "        (intermediate): BertIntermediate(\n",
       "          (dense): Linear(in_features=768, out_features=3072, bias=True)\n",
       "        )\n",
       "        (output): BertOutput(\n",
       "          (dense): Linear(in_features=3072, out_features=768, bias=True)\n",
       "          (LayerNorm): LayerNorm((768,), eps=1e-12, elementwise_affine=True)\n",
       "          (dropout): Dropout(p=0.1, inplace=False)\n",
       "        )\n",
       "      )\n",
       "      (4): BertLayer(\n",
       "        (attention): BertAttention(\n",
       "          (self): BertSelfAttention(\n",
       "            (query): Linear(in_features=768, out_features=768, bias=True)\n",
       "            (key): Linear(in_features=768, out_features=768, bias=True)\n",
       "            (value): Linear(in_features=768, out_features=768, bias=True)\n",
       "            (dropout): Dropout(p=0.1, inplace=False)\n",
       "          )\n",
       "          (output): BertSelfOutput(\n",
       "            (dense): Linear(in_features=768, out_features=768, bias=True)\n",
       "            (LayerNorm): LayerNorm((768,), eps=1e-12, elementwise_affine=True)\n",
       "            (dropout): Dropout(p=0.1, inplace=False)\n",
       "          )\n",
       "        )\n",
       "        (intermediate): BertIntermediate(\n",
       "          (dense): Linear(in_features=768, out_features=3072, bias=True)\n",
       "        )\n",
       "        (output): BertOutput(\n",
       "          (dense): Linear(in_features=3072, out_features=768, bias=True)\n",
       "          (LayerNorm): LayerNorm((768,), eps=1e-12, elementwise_affine=True)\n",
       "          (dropout): Dropout(p=0.1, inplace=False)\n",
       "        )\n",
       "      )\n",
       "      (5): BertLayer(\n",
       "        (attention): BertAttention(\n",
       "          (self): BertSelfAttention(\n",
       "            (query): Linear(in_features=768, out_features=768, bias=True)\n",
       "            (key): Linear(in_features=768, out_features=768, bias=True)\n",
       "            (value): Linear(in_features=768, out_features=768, bias=True)\n",
       "            (dropout): Dropout(p=0.1, inplace=False)\n",
       "          )\n",
       "          (output): BertSelfOutput(\n",
       "            (dense): Linear(in_features=768, out_features=768, bias=True)\n",
       "            (LayerNorm): LayerNorm((768,), eps=1e-12, elementwise_affine=True)\n",
       "            (dropout): Dropout(p=0.1, inplace=False)\n",
       "          )\n",
       "        )\n",
       "        (intermediate): BertIntermediate(\n",
       "          (dense): Linear(in_features=768, out_features=3072, bias=True)\n",
       "        )\n",
       "        (output): BertOutput(\n",
       "          (dense): Linear(in_features=3072, out_features=768, bias=True)\n",
       "          (LayerNorm): LayerNorm((768,), eps=1e-12, elementwise_affine=True)\n",
       "          (dropout): Dropout(p=0.1, inplace=False)\n",
       "        )\n",
       "      )\n",
       "      (6): BertLayer(\n",
       "        (attention): BertAttention(\n",
       "          (self): BertSelfAttention(\n",
       "            (query): Linear(in_features=768, out_features=768, bias=True)\n",
       "            (key): Linear(in_features=768, out_features=768, bias=True)\n",
       "            (value): Linear(in_features=768, out_features=768, bias=True)\n",
       "            (dropout): Dropout(p=0.1, inplace=False)\n",
       "          )\n",
       "          (output): BertSelfOutput(\n",
       "            (dense): Linear(in_features=768, out_features=768, bias=True)\n",
       "            (LayerNorm): LayerNorm((768,), eps=1e-12, elementwise_affine=True)\n",
       "            (dropout): Dropout(p=0.1, inplace=False)\n",
       "          )\n",
       "        )\n",
       "        (intermediate): BertIntermediate(\n",
       "          (dense): Linear(in_features=768, out_features=3072, bias=True)\n",
       "        )\n",
       "        (output): BertOutput(\n",
       "          (dense): Linear(in_features=3072, out_features=768, bias=True)\n",
       "          (LayerNorm): LayerNorm((768,), eps=1e-12, elementwise_affine=True)\n",
       "          (dropout): Dropout(p=0.1, inplace=False)\n",
       "        )\n",
       "      )\n",
       "      (7): BertLayer(\n",
       "        (attention): BertAttention(\n",
       "          (self): BertSelfAttention(\n",
       "            (query): Linear(in_features=768, out_features=768, bias=True)\n",
       "            (key): Linear(in_features=768, out_features=768, bias=True)\n",
       "            (value): Linear(in_features=768, out_features=768, bias=True)\n",
       "            (dropout): Dropout(p=0.1, inplace=False)\n",
       "          )\n",
       "          (output): BertSelfOutput(\n",
       "            (dense): Linear(in_features=768, out_features=768, bias=True)\n",
       "            (LayerNorm): LayerNorm((768,), eps=1e-12, elementwise_affine=True)\n",
       "            (dropout): Dropout(p=0.1, inplace=False)\n",
       "          )\n",
       "        )\n",
       "        (intermediate): BertIntermediate(\n",
       "          (dense): Linear(in_features=768, out_features=3072, bias=True)\n",
       "        )\n",
       "        (output): BertOutput(\n",
       "          (dense): Linear(in_features=3072, out_features=768, bias=True)\n",
       "          (LayerNorm): LayerNorm((768,), eps=1e-12, elementwise_affine=True)\n",
       "          (dropout): Dropout(p=0.1, inplace=False)\n",
       "        )\n",
       "      )\n",
       "      (8): BertLayer(\n",
       "        (attention): BertAttention(\n",
       "          (self): BertSelfAttention(\n",
       "            (query): Linear(in_features=768, out_features=768, bias=True)\n",
       "            (key): Linear(in_features=768, out_features=768, bias=True)\n",
       "            (value): Linear(in_features=768, out_features=768, bias=True)\n",
       "            (dropout): Dropout(p=0.1, inplace=False)\n",
       "          )\n",
       "          (output): BertSelfOutput(\n",
       "            (dense): Linear(in_features=768, out_features=768, bias=True)\n",
       "            (LayerNorm): LayerNorm((768,), eps=1e-12, elementwise_affine=True)\n",
       "            (dropout): Dropout(p=0.1, inplace=False)\n",
       "          )\n",
       "        )\n",
       "        (intermediate): BertIntermediate(\n",
       "          (dense): Linear(in_features=768, out_features=3072, bias=True)\n",
       "        )\n",
       "        (output): BertOutput(\n",
       "          (dense): Linear(in_features=3072, out_features=768, bias=True)\n",
       "          (LayerNorm): LayerNorm((768,), eps=1e-12, elementwise_affine=True)\n",
       "          (dropout): Dropout(p=0.1, inplace=False)\n",
       "        )\n",
       "      )\n",
       "      (9): BertLayer(\n",
       "        (attention): BertAttention(\n",
       "          (self): BertSelfAttention(\n",
       "            (query): Linear(in_features=768, out_features=768, bias=True)\n",
       "            (key): Linear(in_features=768, out_features=768, bias=True)\n",
       "            (value): Linear(in_features=768, out_features=768, bias=True)\n",
       "            (dropout): Dropout(p=0.1, inplace=False)\n",
       "          )\n",
       "          (output): BertSelfOutput(\n",
       "            (dense): Linear(in_features=768, out_features=768, bias=True)\n",
       "            (LayerNorm): LayerNorm((768,), eps=1e-12, elementwise_affine=True)\n",
       "            (dropout): Dropout(p=0.1, inplace=False)\n",
       "          )\n",
       "        )\n",
       "        (intermediate): BertIntermediate(\n",
       "          (dense): Linear(in_features=768, out_features=3072, bias=True)\n",
       "        )\n",
       "        (output): BertOutput(\n",
       "          (dense): Linear(in_features=3072, out_features=768, bias=True)\n",
       "          (LayerNorm): LayerNorm((768,), eps=1e-12, elementwise_affine=True)\n",
       "          (dropout): Dropout(p=0.1, inplace=False)\n",
       "        )\n",
       "      )\n",
       "      (10): BertLayer(\n",
       "        (attention): BertAttention(\n",
       "          (self): BertSelfAttention(\n",
       "            (query): Linear(in_features=768, out_features=768, bias=True)\n",
       "            (key): Linear(in_features=768, out_features=768, bias=True)\n",
       "            (value): Linear(in_features=768, out_features=768, bias=True)\n",
       "            (dropout): Dropout(p=0.1, inplace=False)\n",
       "          )\n",
       "          (output): BertSelfOutput(\n",
       "            (dense): Linear(in_features=768, out_features=768, bias=True)\n",
       "            (LayerNorm): LayerNorm((768,), eps=1e-12, elementwise_affine=True)\n",
       "            (dropout): Dropout(p=0.1, inplace=False)\n",
       "          )\n",
       "        )\n",
       "        (intermediate): BertIntermediate(\n",
       "          (dense): Linear(in_features=768, out_features=3072, bias=True)\n",
       "        )\n",
       "        (output): BertOutput(\n",
       "          (dense): Linear(in_features=3072, out_features=768, bias=True)\n",
       "          (LayerNorm): LayerNorm((768,), eps=1e-12, elementwise_affine=True)\n",
       "          (dropout): Dropout(p=0.1, inplace=False)\n",
       "        )\n",
       "      )\n",
       "      (11): BertLayer(\n",
       "        (attention): BertAttention(\n",
       "          (self): BertSelfAttention(\n",
       "            (query): Linear(in_features=768, out_features=768, bias=True)\n",
       "            (key): Linear(in_features=768, out_features=768, bias=True)\n",
       "            (value): Linear(in_features=768, out_features=768, bias=True)\n",
       "            (dropout): Dropout(p=0.1, inplace=False)\n",
       "          )\n",
       "          (output): BertSelfOutput(\n",
       "            (dense): Linear(in_features=768, out_features=768, bias=True)\n",
       "            (LayerNorm): LayerNorm((768,), eps=1e-12, elementwise_affine=True)\n",
       "            (dropout): Dropout(p=0.1, inplace=False)\n",
       "          )\n",
       "        )\n",
       "        (intermediate): BertIntermediate(\n",
       "          (dense): Linear(in_features=768, out_features=3072, bias=True)\n",
       "        )\n",
       "        (output): BertOutput(\n",
       "          (dense): Linear(in_features=3072, out_features=768, bias=True)\n",
       "          (LayerNorm): LayerNorm((768,), eps=1e-12, elementwise_affine=True)\n",
       "          (dropout): Dropout(p=0.1, inplace=False)\n",
       "        )\n",
       "      )\n",
       "    )\n",
       "  )\n",
       "  (pooler): BertPooler(\n",
       "    (dense): Linear(in_features=768, out_features=768, bias=True)\n",
       "    (activation): Tanh()\n",
       "  )\n",
       ")"
      ]
     },
     "execution_count": 51,
     "metadata": {
      "tags": []
     },
     "output_type": "execute_result"
    }
   ],
   "source": [
    "# Model\n",
    "model_bert"
   ]
  },
  {
   "cell_type": "code",
   "execution_count": null,
   "metadata": {
    "colab": {},
    "colab_type": "code",
    "id": "S3GJjj_lejKb"
   },
   "outputs": [],
   "source": [
    "# Visualize the shape of the last dense layer and the last pooling layer\n",
    "last_hidden_state, pooled_output = model_bert(input_ids = encoding['input_ids'], attention_mask = encoding['attention_mask'])"
   ]
  },
  {
   "cell_type": "code",
   "execution_count": null,
   "metadata": {
    "colab": {
     "base_uri": "https://localhost:8080/"
    },
    "colab_type": "code",
    "id": "TznQsrRee-WH",
    "outputId": "dfe2d8b4-e319-4f0f-b22a-ff124b916831"
   },
   "outputs": [
    {
     "data": {
      "text/plain": [
       "torch.Size([1, 32, 768])"
      ]
     },
     "execution_count": 53,
     "metadata": {
      "tags": []
     },
     "output_type": "execute_result"
    }
   ],
   "source": [
    "last_hidden_state.shape"
   ]
  },
  {
   "cell_type": "code",
   "execution_count": null,
   "metadata": {
    "colab": {
     "base_uri": "https://localhost:8080/"
    },
    "colab_type": "code",
    "id": "8WKbgB1_fCe0",
    "outputId": "c1ce0529-031d-49e4-8eca-d68c6d60d88c"
   },
   "outputs": [
    {
     "data": {
      "text/plain": [
       "torch.Size([1, 768])"
      ]
     },
     "execution_count": 54,
     "metadata": {
      "tags": []
     },
     "output_type": "execute_result"
    }
   ],
   "source": [
    "pooled_output.shape"
   ]
  },
  {
   "cell_type": "markdown",
   "metadata": {
    "colab_type": "text",
    "id": "f6N1ejHYfNxL"
   },
   "source": [
    "Adding the layers relative to my specific model.\n",
    "\n",
    "Only those get trained in practice."
   ]
  },
  {
   "cell_type": "code",
   "execution_count": null,
   "metadata": {
    "colab": {},
    "colab_type": "code",
    "id": "xvIRwZYafFUo"
   },
   "outputs": [],
   "source": [
    "class SentimentClassifier(nn.Module):\n",
    "\n",
    "    # Constructor\n",
    "    def __init__ (self, n_classes):\n",
    "\n",
    "        # Initialize atributes\n",
    "        super(SentimentClassifier, self).__init__()\n",
    "\n",
    "        # Define the pre-trained BERT model\n",
    "        self.bert = BertModel.from_pretrained('bert-base-cased')\n",
    "\n",
    "        # Add a dropout layer\n",
    "        self.drop1 = nn.Dropout()\n",
    "\n",
    "        # Add a hidden layer\n",
    "        self.fc1 = nn.Linear(self.bert.config.hidden_size, 100)\n",
    "\n",
    "        # Add a dense layer\n",
    "        self.fc2 = nn.Linear(100, n_classes)\n",
    "\n",
    "        # Final classification with softmax\n",
    "        self.softmax = nn.Softmax(dim = 1)\n",
    "\n",
    "    # Forward method\n",
    "    def forward(self, input_ids, attention_mask):\n",
    "\n",
    "        # Load the pooling layer from BERT\n",
    "        _, pooled_output = self.bert(input_ids = input_ids, attention_mask = attention_mask)\n",
    "\n",
    "        # Define the outputs from the created layers\n",
    "        output = self.drop1(pooled_output)\n",
    "        output = self.fc1(output)\n",
    "        output = self.fc2(output)\n",
    "\n",
    "        # Return\n",
    "        return self.softmax(output)"
   ]
  },
  {
   "cell_type": "code",
   "execution_count": null,
   "metadata": {
    "colab": {
     "base_uri": "https://localhost:8080/"
    },
    "colab_type": "code",
    "id": "LyTVSxJkheZA",
    "outputId": "386ebf12-2ae7-49fa-c225-0f04e9df26d6"
   },
   "outputs": [
    {
     "data": {
      "text/plain": [
       "device(type='cuda', index=0)"
      ]
     },
     "execution_count": 56,
     "metadata": {
      "tags": []
     },
     "output_type": "execute_result"
    }
   ],
   "source": [
    "# Setting the device to GPU\n",
    "device = torch.device('cuda:0' if torch.cuda.is_available() else 'cpu')\n",
    "device"
   ]
  },
  {
   "cell_type": "code",
   "execution_count": null,
   "metadata": {
    "colab": {},
    "colab_type": "code",
    "id": "vg6UXen4huFu"
   },
   "outputs": [],
   "source": [
    "# Create instance of the model\n",
    "model_sentiment_classifier = SentimentClassifier(len(class_names))"
   ]
  },
  {
   "cell_type": "code",
   "execution_count": null,
   "metadata": {
    "colab": {},
    "colab_type": "code",
    "id": "q4P_2CD6iibh"
   },
   "outputs": [],
   "source": [
    "# Send model to the device\n",
    "model_sentiment_classifier = model_sentiment_classifier.to(device)"
   ]
  },
  {
   "cell_type": "code",
   "execution_count": null,
   "metadata": {
    "colab": {},
    "colab_type": "code",
    "id": "WPi_tv-vii9T"
   },
   "outputs": [],
   "source": [
    "# Load the inputs and attention mask\n",
    "input_ids = sample['input_ids'].to(device)\n",
    "attention_mask = sample['attention_mask'].to(device)"
   ]
  },
  {
   "cell_type": "code",
   "execution_count": null,
   "metadata": {
    "colab": {
     "base_uri": "https://localhost:8080/"
    },
    "colab_type": "code",
    "id": "VMufor44i_jN",
    "outputId": "e78c7855-abfe-4796-a115-4438eaed4b11"
   },
   "outputs": [
    {
     "name": "stdout",
     "output_type": "stream",
     "text": [
      "torch.Size([16, 150])\n",
      "torch.Size([16, 150])\n"
     ]
    }
   ],
   "source": [
    "# Print\n",
    "print(input_ids.shape)\n",
    "print(attention_mask.shape)"
   ]
  },
  {
   "cell_type": "code",
   "execution_count": null,
   "metadata": {
    "colab": {
     "base_uri": "https://localhost:8080/"
    },
    "colab_type": "code",
    "id": "XdArbNADjC5Y",
    "outputId": "87820b3f-d205-435a-fdb8-5461fff0f7ae"
   },
   "outputs": [
    {
     "data": {
      "text/plain": [
       "tensor([[0.1884, 0.2524, 0.5592],\n",
       "        [0.2807, 0.3305, 0.3889],\n",
       "        [0.2970, 0.2641, 0.4389],\n",
       "        [0.3275, 0.2102, 0.4623],\n",
       "        [0.3776, 0.3209, 0.3015],\n",
       "        [0.2210, 0.3212, 0.4578],\n",
       "        [0.3367, 0.2361, 0.4272],\n",
       "        [0.3171, 0.1802, 0.5027],\n",
       "        [0.2176, 0.2531, 0.5293],\n",
       "        [0.2990, 0.3012, 0.3998],\n",
       "        [0.1812, 0.2638, 0.5550],\n",
       "        [0.2374, 0.3093, 0.4533],\n",
       "        [0.2253, 0.2722, 0.5025],\n",
       "        [0.2991, 0.3004, 0.4005],\n",
       "        [0.2198, 0.2879, 0.4922],\n",
       "        [0.2438, 0.2448, 0.5113]], device='cuda:0', grad_fn=<SoftmaxBackward>)"
      ]
     },
     "execution_count": 61,
     "metadata": {
      "tags": []
     },
     "output_type": "execute_result"
    }
   ],
   "source": [
    "# Load the inputs and attention mask onto the model\n",
    "model_sentiment_classifier(input_ids, attention_mask)"
   ]
  },
  {
   "cell_type": "code",
   "execution_count": null,
   "metadata": {
    "colab": {},
    "colab_type": "code",
    "id": "2LBE70jfjZJa"
   },
   "outputs": [],
   "source": [
    "# The original BERT model uses AdamW: algorithm with fixed decay weight\n",
    "optimizer = AdamW(model_sentiment_classifier.parameters(), lr = LEARNING_RATE, correct_bias = False)"
   ]
  },
  {
   "cell_type": "code",
   "execution_count": null,
   "metadata": {
    "colab": {},
    "colab_type": "code",
    "id": "z8ePfagrjw0_"
   },
   "outputs": [],
   "source": [
    "# Defining the total number of steps\n",
    "total_step = len(train_data_loader) * EPOCHS"
   ]
  },
  {
   "cell_type": "code",
   "execution_count": null,
   "metadata": {
    "colab": {},
    "colab_type": "code",
    "id": "4nVDvag1j55J"
   },
   "outputs": [],
   "source": [
    "# Adjust the learning rate\n",
    "scheduler = get_linear_schedule_with_warmup(optimizer, num_warmup_steps = 0, num_training_steps = total_step)"
   ]
  },
  {
   "cell_type": "code",
   "execution_count": null,
   "metadata": {
    "colab": {},
    "colab_type": "code",
    "id": "_6tI-dshkRS9"
   },
   "outputs": [],
   "source": [
    "# Loss function\n",
    "loss_fn = nn.CrossEntropyLoss().to(device)\n",
    "#loss_fn = nn.NLLLoss().to(device)\n",
    "#loss_fn = nn.MultiMarginLoss().to(device)"
   ]
  },
  {
   "cell_type": "code",
   "execution_count": null,
   "metadata": {
    "colab": {},
    "colab_type": "code",
    "id": "8vEtprs8kZz7"
   },
   "outputs": [],
   "source": [
    "# Train function\n",
    "def train_model(model, data_loader, loss_fn, optimizer, device, scheduler, n_examples):\n",
    "\n",
    "    # Prepare for training\n",
    "    model = model.train()\n",
    "    losses = []\n",
    "    correct_prediction = 0\n",
    "\n",
    "    # Loop through the data samples\n",
    "    # Complete Deep Learing cicle\n",
    "    for d in data_loader:\n",
    "        input_ids = d['input_ids'].to(device)\n",
    "        attention_mask = d['attention_mask'].to(device)\n",
    "        targets = d['targets'].to(device)\n",
    "        outputs = model(input_ids = input_ids, attention_mask = attention_mask)\n",
    "\n",
    "        _, preds = torch.max(outputs, dim = 1)\n",
    "        loss = loss_fn(outputs, targets)\n",
    "\n",
    "        correct_prediction += torch.sum(preds == targets)\n",
    "        losses.append(loss.item())\n",
    "\n",
    "        loss.backward()\n",
    "        nn.utils.clip_grad_norm_(model.parameters(), max_norm = 1.0)\n",
    "        optimizer.step()\n",
    "        scheduler.step()\n",
    "        optimizer.zero_grad()\n",
    "\n",
    "    return correct_prediction.double() / n_examples, np.mean(losses)"
   ]
  },
  {
   "cell_type": "code",
   "execution_count": null,
   "metadata": {
    "colab": {},
    "colab_type": "code",
    "id": "yFqVyhXdk-S0"
   },
   "outputs": [],
   "source": [
    "# Evaluate function\n",
    "def evaluate_model(model, data_loader, loss_fn, device, n_examples):\n",
    "\n",
    "    model.eval()\n",
    "    losses = []\n",
    "    correct_prediction = 0\n",
    "\n",
    "    with torch.no_grad():\n",
    "        for d in data_loader:\n",
    "            input_ids = d['input_ids'].to(device)\n",
    "            attention_mask = d['attention_mask'].to(device)\n",
    "            targets = d['targets'].to(device)\n",
    "            outputs = model(input_ids = input_ids, attention_mask = attention_mask)\n",
    "\n",
    "            _, preds = torch.max(outputs, dim = 1)\n",
    "            loss = loss_fn(outputs, targets)\n",
    "\n",
    "            correct_prediction += torch.sum(preds == targets)\n",
    "            losses.append(loss.item())\n",
    "\n",
    "    return correct_prediction.double() / n_examples, np.mean(losses)"
   ]
  },
  {
   "cell_type": "markdown",
   "metadata": {
    "colab_type": "text",
    "id": "P3pEvDeNmeRX"
   },
   "source": [
    "# Training"
   ]
  },
  {
   "cell_type": "code",
   "execution_count": null,
   "metadata": {
    "colab": {
     "base_uri": "https://localhost:8080/",
     "height": 1000
    },
    "colab_type": "code",
    "id": "AFb9z3zvmWff",
    "outputId": "8352e7a4-2cfd-48dc-8184-43c7c31a5f17"
   },
   "outputs": [
    {
     "name": "stdout",
     "output_type": "stream",
     "text": [
      "Epoch 1/10\n",
      "----------\n",
      "Train error: 0.9397852414232843 Train accuracy: 0.5914423740510697\n",
      "Validation error: 0.9063669460661271 Validation accuracy: 0.6445672191528545\n",
      "\n",
      "Iteration Time: 125.50 seconds\n",
      "\n",
      "Epoch 2/10\n",
      "----------\n",
      "Train error: 0.8145275078713894 Train accuracy: 0.732919254658385\n",
      "Validation error: 0.8095266152830685 Validation accuracy: 0.7403314917127072\n",
      "\n",
      "Iteration Time: 125.97 seconds\n",
      "\n",
      "Epoch 3/10\n",
      "----------\n",
      "Train error: 0.7411843742079595 Train accuracy: 0.8088336783988958\n",
      "Validation error: 0.7691685101565193 Validation accuracy: 0.7790055248618785\n",
      "\n",
      "Iteration Time: 125.73 seconds\n",
      "\n",
      "Epoch 4/10\n",
      "----------\n",
      "Train error: 0.7094255646362024 Train accuracy: 0.8398895790200138\n",
      "Validation error: 0.7510087893289679 Validation accuracy: 0.8011049723756907\n",
      "\n",
      "Iteration Time: 125.48 seconds\n",
      "\n",
      "Epoch 5/10\n",
      "----------\n",
      "Train error: 0.6831568909042022 Train accuracy: 0.8679549114331723\n",
      "Validation error: 0.7873804236159605 Validation accuracy: 0.7605893186003684\n",
      "\n",
      "Iteration Time: 125.30 seconds\n",
      "\n",
      "Epoch 6/10\n",
      "----------\n",
      "Train error: 0.6748957454281694 Train accuracy: 0.8762364849321371\n",
      "Validation error: 0.7437187468304354 Validation accuracy: 0.8084714548802947\n",
      "\n",
      "Iteration Time: 125.18 seconds\n",
      "\n",
      "Epoch 7/10\n",
      "----------\n",
      "Train error: 0.662339240531711 Train accuracy: 0.8888888888888888\n",
      "Validation error: 0.7426964009509367 Validation accuracy: 0.8066298342541437\n",
      "\n",
      "Iteration Time: 125.14 seconds\n",
      "\n",
      "Epoch 8/10\n",
      "----------\n",
      "Train error: 0.6572280528352541 Train accuracy: 0.8948700253048079\n",
      "Validation error: 0.7301992791540483 Validation accuracy: 0.8195211786372008\n",
      "\n",
      "Iteration Time: 125.08 seconds\n",
      "\n",
      "Epoch 9/10\n",
      "----------\n",
      "Train error: 0.6550940040718106 Train accuracy: 0.8962502875546353\n",
      "Validation error: 0.7309388623518103 Validation accuracy: 0.8213627992633518\n",
      "\n",
      "Iteration Time: 124.95 seconds\n",
      "\n",
      "Epoch 10/10\n",
      "----------\n",
      "Train error: 0.6540613220456768 Train accuracy: 0.8976305498044629\n",
      "Validation error: 0.7298849102328805 Validation accuracy: 0.8195211786372008\n",
      "\n",
      "Iteration Time: 125.23 seconds\n",
      "\n",
      "CPU times: user 12min 40s, sys: 8min 4s, total: 20min 45s\n",
      "Wall time: 21min 6s\n"
     ]
    }
   ],
   "source": [
    "%%time\n",
    "\n",
    "# Store the train history\n",
    "history = defaultdict(list)\n",
    "\n",
    "# Control the best accuracy\n",
    "now = datetime.datetime.now().strftime(\"%Y-%m-%d-%H-%M-%S\")\n",
    "best_accuracy = 0\n",
    "\n",
    "# Loop\n",
    "for epoch in range(EPOCHS):\n",
    "\n",
    "    start_time = time()\n",
    "\n",
    "    print(f'Epoch {epoch+1}/{EPOCHS}')\n",
    "    print('-' * 10)\n",
    "    train_acc, train_loss = train_model(model_sentiment_classifier,\n",
    "                                        train_data_loader,\n",
    "                                        loss_fn,\n",
    "                                        optimizer,\n",
    "                                        device,\n",
    "                                        scheduler,\n",
    "                                        len(df_train))\n",
    "    \n",
    "    print(f'Train error: {train_loss} Train accuracy: {train_acc}')\n",
    "\n",
    "    valid_acc, valid_loss = evaluate_model(model_sentiment_classifier,\n",
    "                                           valid_data_loader,\n",
    "                                           loss_fn,\n",
    "                                           device,\n",
    "                                           len(df_valid))\n",
    "    \n",
    "    print(f'Validation error: {valid_loss} Validation accuracy: {valid_acc}')\n",
    "    print()\n",
    "\n",
    "    end_time = time()\n",
    "\n",
    "    print(f'Iteration Time: {end_time - start_time:.2f} seconds')\n",
    "    print()\n",
    "\n",
    "    history['train_acc'].append(train_acc)\n",
    "    history['train_loss'].append(train_loss)\n",
    "\n",
    "    history['valid_acc'].append(valid_acc)\n",
    "    history['valid_loss'].append(valid_loss)\n",
    "\n",
    "    if valid_acc > best_accuracy:\n",
    "        torch.save(model_sentiment_classifier.state_dict(), f'models/model_sentiment_classifier_{now}.bin')\n",
    "        best_accuracy = valid_acc"
   ]
  },
  {
   "cell_type": "markdown",
   "metadata": {
    "colab_type": "text",
    "id": "VVIThTWkxbCo"
   },
   "source": [
    "Model trained and saved to disk!"
   ]
  },
  {
   "cell_type": "code",
   "execution_count": null,
   "metadata": {
    "colab": {
     "base_uri": "https://localhost:8080/",
     "height": 714
    },
    "colab_type": "code",
    "id": "XinAcKd_AYLs",
    "outputId": "34a0afdb-5acd-43ad-f234-aacbecc23a8b"
   },
   "outputs": [
    {
     "data": {
      "text/plain": [
       "defaultdict(list,\n",
       "            {'train_acc': [tensor(0.5914, device='cuda:0', dtype=torch.float64),\n",
       "              tensor(0.7329, device='cuda:0', dtype=torch.float64),\n",
       "              tensor(0.8088, device='cuda:0', dtype=torch.float64),\n",
       "              tensor(0.8399, device='cuda:0', dtype=torch.float64),\n",
       "              tensor(0.8680, device='cuda:0', dtype=torch.float64),\n",
       "              tensor(0.8762, device='cuda:0', dtype=torch.float64),\n",
       "              tensor(0.8889, device='cuda:0', dtype=torch.float64),\n",
       "              tensor(0.8949, device='cuda:0', dtype=torch.float64),\n",
       "              tensor(0.8963, device='cuda:0', dtype=torch.float64),\n",
       "              tensor(0.8976, device='cuda:0', dtype=torch.float64)],\n",
       "             'train_loss': [0.9397852414232843,\n",
       "              0.8145275078713894,\n",
       "              0.7411843742079595,\n",
       "              0.7094255646362024,\n",
       "              0.6831568909042022,\n",
       "              0.6748957454281694,\n",
       "              0.662339240531711,\n",
       "              0.6572280528352541,\n",
       "              0.6550940040718106,\n",
       "              0.6540613220456768],\n",
       "             'valid_acc': [tensor(0.6446, device='cuda:0', dtype=torch.float64),\n",
       "              tensor(0.7403, device='cuda:0', dtype=torch.float64),\n",
       "              tensor(0.7790, device='cuda:0', dtype=torch.float64),\n",
       "              tensor(0.8011, device='cuda:0', dtype=torch.float64),\n",
       "              tensor(0.7606, device='cuda:0', dtype=torch.float64),\n",
       "              tensor(0.8085, device='cuda:0', dtype=torch.float64),\n",
       "              tensor(0.8066, device='cuda:0', dtype=torch.float64),\n",
       "              tensor(0.8195, device='cuda:0', dtype=torch.float64),\n",
       "              tensor(0.8214, device='cuda:0', dtype=torch.float64),\n",
       "              tensor(0.8195, device='cuda:0', dtype=torch.float64)],\n",
       "             'valid_loss': [0.9063669460661271,\n",
       "              0.8095266152830685,\n",
       "              0.7691685101565193,\n",
       "              0.7510087893289679,\n",
       "              0.7873804236159605,\n",
       "              0.7437187468304354,\n",
       "              0.7426964009509367,\n",
       "              0.7301992791540483,\n",
       "              0.7309388623518103,\n",
       "              0.7298849102328805]})"
      ]
     },
     "execution_count": 69,
     "metadata": {
      "tags": []
     },
     "output_type": "execute_result"
    }
   ],
   "source": [
    "history"
   ]
  },
  {
   "cell_type": "markdown",
   "metadata": {
    "colab_type": "text",
    "id": "s2a-FThFy77V"
   },
   "source": [
    "# Evaluate Model"
   ]
  },
  {
   "cell_type": "code",
   "execution_count": null,
   "metadata": {
    "colab": {},
    "colab_type": "code",
    "id": "UiXO34MVmgUK"
   },
   "outputs": [],
   "source": [
    "# Create a model instance\n",
    "model = SentimentClassifier(len(class_names))"
   ]
  },
  {
   "cell_type": "code",
   "execution_count": null,
   "metadata": {
    "colab": {
     "base_uri": "https://localhost:8080/",
     "height": 34
    },
    "colab_type": "code",
    "id": "gj0FRznhyIOK",
    "outputId": "843d3142-3244-4a78-a3ca-992c3f9b71fd"
   },
   "outputs": [
    {
     "data": {
      "text/plain": [
       "<All keys matched successfully>"
      ]
     },
     "execution_count": 71,
     "metadata": {
      "tags": []
     },
     "output_type": "execute_result"
    }
   ],
   "source": [
    "# Load the model\n",
    "model.load_state_dict(torch.load(f'models/model_sentiment_classifier_{now}.bin'))"
   ]
  },
  {
   "cell_type": "code",
   "execution_count": null,
   "metadata": {
    "colab": {},
    "colab_type": "code",
    "id": "X_fdjFT5yryr"
   },
   "outputs": [],
   "source": [
    "# Send model to device\n",
    "model = model.to(device)"
   ]
  },
  {
   "cell_type": "code",
   "execution_count": null,
   "metadata": {
    "colab": {},
    "colab_type": "code",
    "id": "cyu6GsKWx2tk"
   },
   "outputs": [],
   "source": [
    "# Predicting using test data\n",
    "test_acc, test_loss = evaluate_model(model, test_data_loader, loss_fn, device, len(df_test))"
   ]
  },
  {
   "cell_type": "code",
   "execution_count": null,
   "metadata": {
    "colab": {
     "base_uri": "https://localhost:8080/",
     "height": 51
    },
    "colab_type": "code",
    "id": "s1_eGuFwyDYm",
    "outputId": "ad71bdba-c496-4b4c-a363-03645064337c"
   },
   "outputs": [
    {
     "name": "stdout",
     "output_type": "stream",
     "text": [
      "Test Accuracy:  0.7867647058823529\n",
      "Test Loss:      0.7642380612737992\n"
     ]
    }
   ],
   "source": [
    "# Model performance\n",
    "print(f'Test Accuracy:  {test_acc}')\n",
    "print(f'Test Loss:      {test_loss}')"
   ]
  },
  {
   "cell_type": "code",
   "execution_count": null,
   "metadata": {
    "colab": {},
    "colab_type": "code",
    "id": "Soh-e15TyrwU"
   },
   "outputs": [],
   "source": [
    "# Function to collect reviews\n",
    "def get_reviews(model, data_loader):\n",
    "    model = model.eval()\n",
    "\n",
    "    review_texts = []\n",
    "    predictions = []\n",
    "    prediction_probs = []\n",
    "    real_values = []\n",
    "\n",
    "    with torch.no_grad():\n",
    "        for d in data_loader:\n",
    "            texts = d['review_text']\n",
    "            input_ids = d['input_ids'].to(device)\n",
    "            attention_mask = d['attention_mask'].to(device)\n",
    "            targets = d['targets'].to(device)\n",
    "            outputs = model(input_ids = input_ids, attention_mask = attention_mask)\n",
    "\n",
    "            _, preds = torch.max(outputs, dim = 1)\n",
    "\n",
    "            review_texts.extend(texts)\n",
    "            predictions.extend(preds)\n",
    "            prediction_probs.extend(outputs)\n",
    "            real_values.extend(targets)\n",
    "\n",
    "    predictions = torch.stack(predictions).cpu()\n",
    "    prediction_probs = torch.stack(prediction_probs).cpu()\n",
    "    real_values = torch.stack(real_values).cpu()\n",
    "\n",
    "    return review_texts, predictions, prediction_probs, real_values"
   ]
  },
  {
   "cell_type": "code",
   "execution_count": null,
   "metadata": {
    "colab": {},
    "colab_type": "code",
    "id": "-roAPwiHyJh5"
   },
   "outputs": [],
   "source": [
    "# Gathering real data\n",
    "y_review_texts, y_pred, y_pred_probs, y_test = get_reviews(model, test_data_loader)"
   ]
  },
  {
   "cell_type": "code",
   "execution_count": null,
   "metadata": {
    "colab": {
     "base_uri": "https://localhost:8080/",
     "height": 187
    },
    "colab_type": "code",
    "id": "93V0nQ2zzRsU",
    "outputId": "91020e0f-e0f5-4258-d130-4810e9519ae5"
   },
   "outputs": [
    {
     "name": "stdout",
     "output_type": "stream",
     "text": [
      "              precision    recall  f1-score   support\n",
      "\n",
      "    negative       0.84      0.84      0.84       187\n",
      "     neutral       0.67      0.77      0.72       162\n",
      "    positive       0.84      0.75      0.79       195\n",
      "\n",
      "    accuracy                           0.79       544\n",
      "   macro avg       0.79      0.79      0.79       544\n",
      "weighted avg       0.79      0.79      0.79       544\n",
      "\n"
     ]
    }
   ],
   "source": [
    "# Classification report\n",
    "print(classification_report(y_test, y_pred, target_names = class_names))"
   ]
  },
  {
   "cell_type": "code",
   "execution_count": null,
   "metadata": {
    "colab": {
     "base_uri": "https://localhost:8080/",
     "height": 136
    },
    "colab_type": "code",
    "id": "40inMeadfeB-",
    "outputId": "aa10987d-7b17-4bd8-b11b-480243cf6ab5"
   },
   "outputs": [
    {
     "data": {
      "text/plain": [
       "tensor([[9.9983e-01, 9.3685e-05, 7.3604e-05],\n",
       "        [5.8328e-05, 6.1615e-05, 9.9988e-01],\n",
       "        [4.4207e-05, 4.7958e-04, 9.9948e-01],\n",
       "        ...,\n",
       "        [4.6431e-05, 7.9586e-05, 9.9987e-01],\n",
       "        [9.9936e-01, 5.1191e-04, 1.3140e-04],\n",
       "        [7.8072e-05, 5.3968e-05, 9.9987e-01]])"
      ]
     },
     "execution_count": 78,
     "metadata": {
      "tags": []
     },
     "output_type": "execute_result"
    }
   ],
   "source": [
    "y_pred_probs"
   ]
  },
  {
   "cell_type": "code",
   "execution_count": null,
   "metadata": {
    "colab": {},
    "colab_type": "code",
    "id": "VAeIVb87zog-"
   },
   "outputs": [],
   "source": [
    "# Function to plot confusion matrix\n",
    "def show_confusion_matrix(confusion_matrix):\n",
    "    hmap = sns.heatmap(confusion_matrix, annot = True, fmt = \"d\", cmap = \"Blues\")\n",
    "    hmap.yaxis.set_ticklabels(hmap.yaxis.get_ticklabels(), rotation = 0, ha = \"right\")\n",
    "    hmap.xaxis.set_ticklabels(hmap.xaxis.get_ticklabels(), rotation = 30, ha = \"right\")\n",
    "    plt.ylabel('Real Sentiment')\n",
    "    plt.xlabel('BERT Predicted Sentiment')"
   ]
  },
  {
   "cell_type": "code",
   "execution_count": null,
   "metadata": {
    "colab": {},
    "colab_type": "code",
    "id": "3G1baRl-z0j3"
   },
   "outputs": [],
   "source": [
    "# Create confusion matrix\n",
    "cm = confusion_matrix(y_test, y_pred)"
   ]
  },
  {
   "cell_type": "code",
   "execution_count": null,
   "metadata": {
    "colab": {},
    "colab_type": "code",
    "id": "GHL7-Wm71Gqf"
   },
   "outputs": [],
   "source": [
    "df_cm = pd.DataFrame(cm, index = class_names, columns = class_names)"
   ]
  },
  {
   "cell_type": "code",
   "execution_count": null,
   "metadata": {
    "colab": {
     "base_uri": "https://localhost:8080/",
     "height": 603
    },
    "colab_type": "code",
    "id": "hP--q6B31LjS",
    "outputId": "8dbaa24f-830a-4e14-b44f-47a37ad572d2"
   },
   "outputs": [
    {
     "data": {
      "image/png": "[encoded data removed]",
      "text/plain": [
       "<Figure size 1080x648 with 2 Axes>"
      ]
     },
     "metadata": {
      "tags": []
     },
     "output_type": "display_data"
    }
   ],
   "source": [
    "# Result\n",
    "show_confusion_matrix(df_cm)"
   ]
  },
  {
   "cell_type": "code",
   "execution_count": null,
   "metadata": {
    "colab": {},
    "colab_type": "code",
    "id": "GIWX7CKm1Rdi"
   },
   "outputs": [],
   "source": [
    "# Checking one review\n",
    "idx = 0\n",
    "\n",
    "review_text = y_review_texts[idx]\n",
    "true_sentiment = y_test[idx]\n",
    "\n",
    "pred_df = pd.DataFrame(\n",
    "    {\n",
    "        'class_names': class_names,\n",
    "        'values': y_pred_probs[idx]\n",
    "    }\n",
    ")"
   ]
  },
  {
   "cell_type": "code",
   "execution_count": null,
   "metadata": {
    "colab": {
     "base_uri": "https://localhost:8080/",
     "height": 119
    },
    "colab_type": "code",
    "id": "z5YUfz1b2sCx",
    "outputId": "b993c65a-306b-4b8f-9a6a-21a4e100a601"
   },
   "outputs": [
    {
     "name": "stdout",
     "output_type": "stream",
     "text": [
      "Forces to accept business trial, impossible to downgrade. Contacting\n",
      "customer support is convoluted, and impossible. I followed\n",
      "instructions in Business Class email for support, which ended up with\n",
      "issue closed before issue was addressed.\n",
      "\n",
      "Real Sentiment: negative\n"
     ]
    }
   ],
   "source": [
    "print(\"\\n\".join(wrap(review_text)))\n",
    "print()\n",
    "print(f'Real Sentiment: {class_names[true_sentiment]}')"
   ]
  },
  {
   "cell_type": "code",
   "execution_count": null,
   "metadata": {
    "colab": {
     "base_uri": "https://localhost:8080/",
     "height": 570
    },
    "colab_type": "code",
    "id": "LJE6NJ092xLo",
    "outputId": "259b4c9c-2fb3-41b4-e950-75b7e97a190c"
   },
   "outputs": [
    {
     "data": {
      "image/png": "[encoded data removed]",
      "text/plain": [
       "<Figure size 1080x648 with 1 Axes>"
      ]
     },
     "metadata": {
      "tags": []
     },
     "output_type": "display_data"
    }
   ],
   "source": [
    "# Prediction plot\n",
    "sns.barplot(x = 'values', y = 'class_names', data = pred_df, orient = 'h')\n",
    "plt.ylabel('Sentiment')\n",
    "plt.xlabel('Probability')\n",
    "plt.xlim([0, 1]);"
   ]
  },
  {
   "cell_type": "markdown",
   "metadata": {
    "colab_type": "text",
    "id": "TMtdoK-E3WmL"
   },
   "source": [
    "Testing with new data (s new app review)."
   ]
  },
  {
   "cell_type": "code",
   "execution_count": null,
   "metadata": {
    "colab": {},
    "colab_type": "code",
    "id": "eL_VUYBA3QDB"
   },
   "outputs": [],
   "source": [
    "test_text = 'I really love this app. It improved my work organization and efficiency'"
   ]
  },
  {
   "cell_type": "code",
   "execution_count": null,
   "metadata": {
    "colab": {
     "base_uri": "https://localhost:8080/",
     "height": 54
    },
    "colab_type": "code",
    "id": "i6tnch0D7TlK",
    "outputId": "14b09e44-514c-4707-abcb-9ed58c1d91d0"
   },
   "outputs": [
    {
     "name": "stderr",
     "output_type": "stream",
     "text": [
      "Truncation was not explicitely activated but `max_length` is provided a specific value, please use `truncation=True` to explicitely truncate examples to max length. Defaulting to 'longest_first' truncation strategy. If you encode pairs of sequences (GLUE-style) with the tokenizer you can select this strategy more precisely by providing a specific strategy to `truncation`.\n"
     ]
    }
   ],
   "source": [
    "# Apply the same transformation which was applied to the training data, creating the embedding object\n",
    "encoded_eval = tokenizer.encode_plus(test_text,\n",
    "                                     max_length = MAX_LENGTH,\n",
    "                                     add_special_tokens= True,\n",
    "                                     return_token_type_ids = False,\n",
    "                                     pad_to_max_length = True,\n",
    "                                     return_attention_mask = True,\n",
    "                                     return_tensors = 'pt')"
   ]
  },
  {
   "cell_type": "code",
   "execution_count": null,
   "metadata": {
    "colab": {},
    "colab_type": "code",
    "id": "AliiPGCR7jVQ"
   },
   "outputs": [],
   "source": [
    "# Extract the inputs and attention_mask to make a prediction\n",
    "input_ids = encoded_eval['input_ids'].to(device)\n",
    "attention_mask = encoded_eval['attention_mask'].to(device)"
   ]
  },
  {
   "cell_type": "code",
   "execution_count": null,
   "metadata": {
    "colab": {},
    "colab_type": "code",
    "id": "hgM9RF9J8urB"
   },
   "outputs": [],
   "source": [
    "# Output (prediction)\n",
    "output = model(input_ids, attention_mask)"
   ]
  },
  {
   "cell_type": "code",
   "execution_count": null,
   "metadata": {
    "colab": {},
    "colab_type": "code",
    "id": "F_j2kM3U9icn"
   },
   "outputs": [],
   "source": [
    "# Final prediction\n",
    "probability, prediction = torch.max(output, dim = 1)"
   ]
  },
  {
   "cell_type": "code",
   "execution_count": null,
   "metadata": {
    "colab": {
     "base_uri": "https://localhost:8080/",
     "height": 119
    },
    "colab_type": "code",
    "id": "jU0roXZM9oKN",
    "outputId": "7654c120-e3c0-414a-94e6-d91a809bca61"
   },
   "outputs": [
    {
     "name": "stdout",
     "output_type": "stream",
     "text": [
      "\n",
      "App Review Text: I really love this app. It improved my work organization and efficiency\n",
      "\n",
      "Sentiment: positive\n",
      "\n",
      "Probability: 0.999880313873291\n"
     ]
    }
   ],
   "source": [
    "# Print\n",
    "print(f'\\nApp Review Text: {test_text}')\n",
    "print(f'\\nSentiment: {class_names[prediction]}')\n",
    "print(f'\\nProbability: {probability[0]}')"
   ]
  },
  {
   "cell_type": "markdown",
   "metadata": {
    "colab_type": "text",
    "id": "W0oFjGIU-LdM"
   },
   "source": [
    "# The End"
   ]
  }
 ],
 "metadata": {
  "accelerator": "GPU",
  "colab": {
   "collapsed_sections": [
    "j9g1q4k8fdQA",
    "d4aPXbrXfyCg",
    "gfqW0Tx0hOlj",
    "0yKWD_VDNLBb",
    "bYG56hKXXXuL",
    "RG8MVj_UWdpe",
    "RmNP2aN_eQ2I",
    "P3pEvDeNmeRX",
    "s2a-FThFy77V"
   ],
   "name": "BERT_App_Sentiment_Analysis.ipynb",
   "provenance": []
  },
  "kernelspec": {
   "display_name": "Python 3",
   "language": "python",
   "name": "python3"
  },
  "language_info": {
   "codemirror_mode": {
    "name": "ipython",
    "version": 3
   },
   "file_extension": ".py",
   "mimetype": "text/x-python",
   "name": "python",
   "nbconvert_exporter": "python",
   "pygments_lexer": "ipython3",
   "version": "3.7.7"
  }
 },
 "nbformat": 4,
 "nbformat_minor": 1
}
