{
  "nbformat": 4,
  "nbformat_minor": 0,
  "metadata": {
    "colab": {
      "name": "BERT_App_Sentiment_Analysis.ipynb",
      "provenance": [],
      "collapsed_sections": []
    },
    "kernelspec": {
      "name": "python3",
      "display_name": "Python 3"
    },
    "accelerator": "GPU"
  },
  "cells": [
    {
      "cell_type": "markdown",
      "metadata": {
        "id": "j9g1q4k8fdQA",
        "colab_type": "text"
      },
      "source": [
        "# Introduction"
      ]
    },
    {
      "cell_type": "markdown",
      "metadata": {
        "id": "9Hi4bfK6ffKY",
        "colab_type": "text"
      },
      "source": [
        "I love Asana, I'm PM and they are product company.\n",
        "I like data science. I wanna explore Asana and it's competitors. I also want to play with and learna about the BERT model. This will be a curiosity-driven journey, not sure where it'll end.\n"
      ]
    },
    {
      "cell_type": "markdown",
      "metadata": {
        "id": "d4aPXbrXfyCg",
        "colab_type": "text"
      },
      "source": [
        "# Packages"
      ]
    },
    {
      "cell_type": "code",
      "metadata": {
        "id": "bwJol80KgphK",
        "colab_type": "code",
        "colab": {}
      },
      "source": [
        "# Package to store the versions of packages used\n",
        "!pip install -q watermark"
      ],
      "execution_count": 1,
      "outputs": []
    },
    {
      "cell_type": "code",
      "metadata": {
        "id": "X_pYovVSgTIJ",
        "colab_type": "code",
        "colab": {}
      },
      "source": [
        "# Package to download the BERT models and process data\n",
        "!pip install -q transformers"
      ],
      "execution_count": 2,
      "outputs": []
    },
    {
      "cell_type": "code",
      "metadata": {
        "id": "2YDnyME_gczH",
        "colab_type": "code",
        "colab": {}
      },
      "source": [
        "# Package for scrapping data on Google Store\n",
        "# https://pypi.org/project/google-play-scraper/\n",
        "!pip install -q google_play_scraper"
      ],
      "execution_count": 3,
      "outputs": []
    },
    {
      "cell_type": "code",
      "metadata": {
        "id": "6QlzpiOBy6zA",
        "colab_type": "code",
        "colab": {
          "base_uri": "https://localhost:8080/",
          "height": 34
        },
        "outputId": "e56b9f4c-8369-4479-c755-33e1e624b3b1"
      },
      "source": [
        "# File manipulation imports for Google Colab\n",
        "from google.colab import drive\n",
        "drive.mount('/content/drive')\n",
        "import os\n",
        "os.chdir(\"/content/drive/My Drive/Colab Notebooks/BERT_App_Sentiment_Analysis\")"
      ],
      "execution_count": 4,
      "outputs": [
        {
          "output_type": "stream",
          "text": [
            "Drive already mounted at /content/drive; to attempt to forcibly remount, call drive.mount(\"/content/drive\", force_remount=True).\n"
          ],
          "name": "stdout"
        }
      ]
    },
    {
      "cell_type": "code",
      "metadata": {
        "id": "D9uiNPLffaF5",
        "colab_type": "code",
        "colab": {
          "base_uri": "https://localhost:8080/",
          "height": 51
        },
        "outputId": "4192c998-7335-4f76-836d-9f5bd4f20638"
      },
      "source": [
        "# Imports\n",
        "\n",
        "# Data manipulation and visualization\n",
        "import numpy as np\n",
        "import pandas as pd\n",
        "import seaborn as sns\n",
        "import matplotlib\n",
        "import matplotlib.pyplot as plt\n",
        "from pylab import rcParams\n",
        "from matplotlib import rc\n",
        "from tqdm import tqdm\n",
        "import datetime\n",
        "\n",
        "\n",
        "# Deep Learning, NLP and metrics\n",
        "import sklearn\n",
        "import torch\n",
        "import transformers \n",
        "from textwrap import wrap\n",
        "from torch import nn, optim \n",
        "from torch.utils import data\n",
        "from collections import defaultdict\n",
        "from sklearn.model_selection import train_test_split\n",
        "from sklearn.metrics import confusion_matrix\n",
        "from sklearn.metrics import classification_report\n",
        "from transformers import BertModel\n",
        "from transformers import BertTokenizer\n",
        "from transformers import AdamW\n",
        "from transformers import get_linear_schedule_with_warmup\n",
        "\n",
        "# Web Scrapping Imports\n",
        "# https://pypi.org/project/Pygments/\n",
        "import json\n",
        "import pygments\n",
        "import google_play_scraper\n",
        "from pygments import highlight\n",
        "from pygments.lexers import JsonLexer\n",
        "from pygments.formatters import TerminalFormatter\n",
        "\n",
        "# Random Seed\n",
        "#RANDOM_SEED = 99\n",
        "#np.random.seed(RANDOM_SEED)\n",
        "#torch.manual_seed(RANDOM_SEED)\n",
        "\n",
        "%matplotlib inline"
      ],
      "execution_count": 5,
      "outputs": [
        {
          "output_type": "stream",
          "text": [
            "/usr/local/lib/python3.6/dist-packages/statsmodels/tools/_testing.py:19: FutureWarning: pandas.util.testing is deprecated. Use the functions in the public API at pandas.testing instead.\n",
            "  import pandas.util.testing as tm\n"
          ],
          "name": "stderr"
        }
      ]
    },
    {
      "cell_type": "code",
      "metadata": {
        "id": "lTAQAEHhgIEw",
        "colab_type": "code",
        "colab": {
          "base_uri": "https://localhost:8080/",
          "height": 221
        },
        "outputId": "e9a31bff-0fc2-47f2-bc49-b9cfe4a74203"
      },
      "source": [
        "# Package versions\n",
        "%reload_ext watermark\n",
        "%watermark -v -iv"
      ],
      "execution_count": 6,
      "outputs": [
        {
          "output_type": "stream",
          "text": [
            "pygments            2.1.3\n",
            "torch               1.5.1+cu101\n",
            "google_play_scraper 0.0.3.0\n",
            "pandas              1.0.5\n",
            "numpy               1.18.5\n",
            "sklearn             0.22.2.post1\n",
            "seaborn             0.10.1\n",
            "json                2.0.9\n",
            "transformers        3.0.2\n",
            "matplotlib          3.2.2\n",
            "CPython 3.6.9\n",
            "IPython 5.5.0\n"
          ],
          "name": "stdout"
        }
      ]
    },
    {
      "cell_type": "markdown",
      "metadata": {
        "id": "gfqW0Tx0hOlj",
        "colab_type": "text"
      },
      "source": [
        "# Web Scrapping"
      ]
    },
    {
      "cell_type": "code",
      "metadata": {
        "id": "1Zk6fzluikDo",
        "colab_type": "code",
        "colab": {}
      },
      "source": [
        "# Listing apps I want to gather data on\n",
        "# They'll all be Asana's competitors on task management\n",
        "# Took the apps from Asana's comparison page, plus a few other alternatives the app store recommends\n",
        "# https://asana.com/compare\n",
        "# Asana, Airtable, Basecamp, Jira, Microsoft To Do\n",
        "# Monday.com, Smartsheet, Taskade, Trello, Wrike\n",
        "# The google_play_scrapper documentations details how to get the url for each app\n",
        "# https://github.com/facundoolano/google-play-scraper\n",
        "apps_list = ['com.asana.app',\n",
        "             'com.formagrid.airtable',\n",
        "             'com.basecamp.bc3',\n",
        "             'com.atlassian.android.jira.core',\n",
        "             'com.microsoft.todos',\n",
        "             'com.monday.monday',\n",
        "             'com.smartsheet.android',\n",
        "             'com.taskade.mobile',\n",
        "             'com.trello',\n",
        "             'com.wrike']"
      ],
      "execution_count": 7,
      "outputs": []
    },
    {
      "cell_type": "code",
      "metadata": {
        "id": "v6ZmTLiguCKP",
        "colab_type": "code",
        "colab": {
          "base_uri": "https://localhost:8080/",
          "height": 34
        },
        "outputId": "1c496a52-7f48-40e5-a5af-6d77e9d305e8"
      },
      "source": [
        "# List to store details from the apps\n",
        "app_details = []\n",
        "\n",
        "# Loop through the app list and retrieve details of each app\n",
        "for ap in tqdm(apps_list):\n",
        "\n",
        "    # Retrieve app details\n",
        "    info = google_play_scraper.app(ap, lang='en', country='us')\n",
        "\n",
        "    # Store the details\n",
        "    app_details.append(info)"
      ],
      "execution_count": 8,
      "outputs": [
        {
          "output_type": "stream",
          "text": [
            "100%|██████████| 10/10 [00:01<00:00,  7.70it/s]\n"
          ],
          "name": "stderr"
        }
      ]
    },
    {
      "cell_type": "code",
      "metadata": {
        "id": "qujZjH2Zgjy_",
        "colab_type": "code",
        "colab": {}
      },
      "source": [
        "# Function to print a request in JSON format\n",
        "def print_json(json_object):\n",
        "\n",
        "    # Generate json format\n",
        "    json_str = json.dumps(json_object,\n",
        "                          indent = 2,\n",
        "                          sort_keys = True,\n",
        "                          default = str)\n",
        "    \n",
        "    # The highlight function from pygments highlights the output text \n",
        "    # It uses different colorts to facilitate reading\n",
        "    print(highlight(json_str, JsonLexer(), TerminalFormatter()))"
      ],
      "execution_count": 9,
      "outputs": []
    },
    {
      "cell_type": "code",
      "metadata": {
        "id": "5gfCLP49w-AT",
        "colab_type": "code",
        "colab": {
          "base_uri": "https://localhost:8080/",
          "height": 1000
        },
        "outputId": "548f0b5b-3f3c-42fe-c477-52c4756f2850"
      },
      "source": [
        "# Check the result in JSON format\n",
        "print_json(app_details[0])"
      ],
      "execution_count": 10,
      "outputs": [
        {
          "output_type": "stream",
          "text": [
            "{\n",
            "  \u001b[34;01m\"adSupported\"\u001b[39;49;00m: \u001b[34mnull\u001b[39;49;00m,\n",
            "  \u001b[34;01m\"androidVersion\"\u001b[39;49;00m: \u001b[33m\"7.0\"\u001b[39;49;00m,\n",
            "  \u001b[34;01m\"androidVersionText\"\u001b[39;49;00m: \u001b[33m\"7.0 and up\"\u001b[39;49;00m,\n",
            "  \u001b[34;01m\"appId\"\u001b[39;49;00m: \u001b[33m\"com.asana.app\"\u001b[39;49;00m,\n",
            "  \u001b[34;01m\"comments\"\u001b[39;49;00m: [\n",
            "    \u001b[33m\"App works well but a feature that is seriously missing: to be able to add tasks under certain sections. Currently if you add a new task, it is placed right at the top of the list and you need to drag it down to the relavant section (which is a pain if you have a long list with numerous sections). Please sort this out, would be a game changer\"\u001b[39;49;00m,\n",
            "    \u001b[33m\"Their UI team has decided to cripple our ability to jot down tasks quickly by blocking the add button with a pop-up after creating each task. And then their suggestion button is broken which has led me to complain here instead of offering constructive suggestions directly. Asana is getting big and clumsy. v6.50.8\"\u001b[39;49;00m,\n",
            "    \u001b[33m\"Amazing, free app! Love the functionality and aesthetic! Was mentioned by Edmond Lau in the effective engineer and am glad I took a chance on it! This is hands out the best task managing app I have ever used. Only gripes are that sort by date gets unchecked frequently which gets annoying and that there is no dark mode yet. Other than that, great job team!\"\u001b[39;49;00m,\n",
            "    \u001b[33m\"Intuitive & easy layout. Best task app I've used yet. Only suggestion is the ability to jump from different users without having to logout like with a service like Gmail allows. I use it for personal & my multiple different business needs.\"\u001b[39;49;00m,\n",
            "    \u001b[33m\"I love Asana, but think the App should be as powerful as the desktop experience. Especially a Task app, is very important to be powerful and have all options available on the move imo\"\u001b[39;49;00m,\n",
            "    \u001b[33m\"Bug: \\\"Add Tag\\\" not working on android. \\\"Save\\\" button not working. I could not create new tag. Disapointed.\"\u001b[39;49;00m,\n",
            "    \u001b[33m\"By far my favorite task app. Out of the 15 or so task apps I have used Asana is the most robust, particularly for the free plan. Personally, I have upgraded because I like having custom fields to manage my pipeline. As a web developer working with clients and Asana has been an easy option (although Glip has a great feature of uploading a photo and being able to leave comments on the photo which is great for design feedback. If Asana had that it would be perfect).\"\u001b[39;49;00m,\n",
            "    \u001b[33m\"At first looked very promising (specially UI) but dude, it lacks the very basic feature: the due date alerts. Really!!!? I tried to work my way around to sync my tasks with Google calendar to get alerts from there. But after the initial sync it takes 24 hrs or may be more to sync again. So may be you will miss out on tasks that u add with dhe date in next 24 hrs. I found Project Buddy but it is paid service. It is useless for me now, I have to go back to Trello bcz it has due date notifications.\"\u001b[39;49;00m,\n",
            "    \u001b[33m\"I love the mobile app!! Asana is awesome for a personal task manager tool. I would have rated it higher, but inexplicable the mobile app does not let you change the calendar start date to Monday, nor does the app let you prioritize tasks within the same due date. If Asana added these two feature it would be the best task manager app on the market.\"\u001b[39;49;00m,\n",
            "    \u001b[33m\"Can you allow premium plan users to auto assign task to self so that we can see them in the \\\"My Task\\\" module? Or at least allow solo users to purchase only one seat instead of two? Thanks\"\u001b[39;49;00m,\n",
            "    \u001b[33m\"People this is an incredible usefell app. In a business where communication is difficult in the sense of just too much information and tasks which are not listed will give you the oppurtunity too brain storm any time and it is an incredible way too inform your employer on your work load because it is now officially documented. You can attach info and also add sub tasks. Well done to the guys putting this incredible app together. Happy Fathersday to you all!!!\"\u001b[39;49;00m,\n",
            "    \u001b[33m\"Great and simple to share chores. Pls fix task view filters, it reverts back to None all the time both in the app and the widget. I want it to stay sorted by Due date. It is pretty frustrating that I have to set it every time I check the list.\"\u001b[39;49;00m,\n",
            "    \u001b[33m\"Powerful but very irritating Calendar: I keep selecting the WEEK view using the blue icon in the right corner, but it resets to MONTH view after every action (e.g. clicking a task). Also, calendar is EXTREMELY sensitive: just touching it will scroll to a different week or month, messing you up.\"\u001b[39;49;00m,\n",
            "    \u001b[33m\"Love love love Asana! Both the desktop and mobile version are great. Super easy to use, very intuitive and includes a wide range of features (even just with the free version). Would highly recommend, I'm highly addicted to using it both at work and for myself.\"\u001b[39;49;00m,\n",
            "    \u001b[33m\"I Would have given this app 5 stars but, the tiny font in Asana is a major flaw and Asana seems to ignore all who have mentioned this flaw. Clickup and others have the ability to change the font size but, I don't understand why Asana is unable or uniterested in not fixing this flaw in their app.\"\u001b[39;49;00m,\n",
            "    \u001b[33m\"This is one of the best application for project management. Great features.\"\u001b[39;49;00m,\n",
            "    \u001b[33m\"Free version is great for self organisation, although licensed version with additional featuers is too expensive for a single user. Featueres which are available for free are for me way better than Trello or Todoist. Missing Windows desktop app very much!\"\u001b[39;49;00m,\n",
            "    \u001b[33m\"Syncing is painfully slow. All I need to do is see my calendar and it can take up to a minute to resolve. I don't understand the issue - the browser experience is almost instant and it should be here as well.\"\u001b[39;49;00m,\n",
            "    \u001b[33m\"I was charged $395.64 all at once after a free trial. I thought I would be charged monthly. Wrong. The invoice I received said $0. I received an invoice stating $395.64 2 DAYS before it was deducted from my account! 2 DAYS to correct any mistake and it must be in writing to. Probably impossible to stop a bank draft in 2 DAYS! Be careful people!\"\u001b[39;49;00m,\n",
            "    \u001b[33m\"I am trying to use Asana on my android and it will not allow me to reorganize any tasks. Tasks are constantly saying they are offline. I have found no resolution for this issue. It works on my desktop but not on my mobile.\"\u001b[39;49;00m,\n",
            "    \u001b[33m\"Asana is very good and rich in features. But there are drawbacks: 1- The price is high for personal users compared to other tools like todoist or trello! 2- The android app is basically a web app. It's not native and it really bugs me.\"\u001b[39;49;00m,\n",
            "    \u001b[33m\"The most recent update has made it impossible to post pictures on project tasks for me and all of my coworkers with Android phones. The blue check mark to post pictures after taking and viewing is now missing.\"\u001b[39;49;00m,\n",
            "    \u001b[33m\"Have been using this app for almost a year now. This made me forget Slack or other chat applications for getting work done amongst teammates, heck we even quietly stopped using WhatsApp. Now that says something. Keep the good work guys \\ud83d\\udc4f Awaiting dark mode if and when you plan to launch it\"\u001b[39;49;00m,\n",
            "    \u001b[33m\"Amazing app. I use it everyday to keep my life organized.\"\u001b[39;49;00m,\n",
            "    \u001b[33m\"It's a great app with a beautiful user interface. The only thing I want you guys to fix is the notifications. We don't get notified at all when something happens. This lost my interest in this app only because of this reason.\"\u001b[39;49;00m,\n",
            "    \u001b[33m\"Easy to use and perfect for a project manager\"\u001b[39;49;00m,\n",
            "    \u001b[33m\"UPDATE: if you love to forget what you're supposed to do, if you love it when tasks completely disappear and change recurring settings, if you love completely dropping the ball, then Asana is for you! What a streaming pile of garbage.\"\u001b[39;49;00m,\n",
            "    \u001b[33m\"No Two Factor Authentication. I don't feel safe keeping my data there without it. Switching to Trello which offers that security feature.\"\u001b[39;49;00m,\n",
            "    \u001b[33m\"Very user friendly and easy to navigate. We only have 4 team members but it is so easy to use and delicate!\"\u001b[39;49;00m,\n",
            "    \u001b[33m\"aesthetics is everything... still no option for background color. with the default white theme it is so hard to see at times. no night mode option as well.\"\u001b[39;49;00m,\n",
            "    \u001b[33m\"The App is really good but doesn't load over WiFi! ...only loads when i turn on cellular data.Why????\"\u001b[39;49;00m,\n",
            "    \u001b[33m\"Not able to reorder or arrange columns. Not able to edit stuff. Says error. Having a really tough time with the app.\"\u001b[39;49;00m,\n",
            "    \u001b[33m\"I love Asana - I can easily check on projects and tasks, add to-dos and set date/time for reminders. Keep up the great work!\"\u001b[39;49;00m,\n",
            "    \u001b[33m\"It's a very intuitive app for all your tasks and projects and offers a free basic version. Well done!\"\u001b[39;49;00m,\n",
            "    \u001b[33m\"The app has started to freeze my phone and will not open. Perhaps there is a bug? Can anyone help? Many thanks\"\u001b[39;49;00m,\n",
            "    \u001b[33m\"Asana is amazing. It helped our team improve communication and productivity. No excuses to forget anymore : it's all in our apps and laptops.\"\u001b[39;49;00m,\n",
            "    \u001b[33m\"I love the simplicity of use and the openness of the Asana team to listen to our needs.\"\u001b[39;49;00m,\n",
            "    \u001b[33m\"App have 1 mln downloads, but still have bugs. I can't create tag. And can't edit any messages in Conversations section\"\u001b[39;49;00m,\n",
            "    \u001b[33m\"Got update last night now when I take pictures in asana it blows up image on my screen and gives no option to upload after you click ok to use the blue add button is gone please fix\"\u001b[39;49;00m,\n",
            "    \u001b[33m\"Great app! Need to improve the outlook integration to minimize constant prompts to sign in to asana!\"\u001b[39;49;00m\n",
            "  ],\n",
            "  \u001b[34;01m\"containsAds\"\u001b[39;49;00m: \u001b[34mnull\u001b[39;49;00m,\n",
            "  \u001b[34;01m\"contentRating\"\u001b[39;49;00m: \u001b[33m\"Everyone\"\u001b[39;49;00m,\n",
            "  \u001b[34;01m\"contentRatingDescription\"\u001b[39;49;00m: \u001b[34mnull\u001b[39;49;00m,\n",
            "  \u001b[34;01m\"currency\"\u001b[39;49;00m: \u001b[33m\"USD\"\u001b[39;49;00m,\n",
            "  \u001b[34;01m\"description\"\u001b[39;49;00m: \u001b[33m\"Asana is the work manager for teams. But better. From the small stuff to the big picture, Asana organizes work so teams are clear what to do, why it matters, and how to get it done.\\r\\n\\r\\n\\u272d Featured \\u201cApp of the Day\\u201d on the App Store. \\u201cThis project management is powerful but not overwhelming\\u2014and never lets the process of being productive get in the way of actually getting things done.\\u201d\\r\\n\\r\\n\\u201cAsana is one of the best collaboration and productivity apps for teams and an Editors\\u2019 Choice.\\u201d  \\u2014PC Mag\\r\\n\\r\\n\\u201cAsana has been instrumental in enabling our team to grow by 6x this year and successfully scale our processes.\\u201d \\u2014Ryan Bonnici, Chief Marketing Officer, G2\\r\\n\\r\\nSee why more than 7500 people give Asana 4.7 out of 5 stars.\\r\\n\\r\\n\\u2714 TAKE THE GUESSWORK OUT OF WORK\\r\\nSee who is doing what and by when across the whole team:\\r\\nCoordinate plans, projects, and tasks in one shared space\\r\\nSwitch between list, kanban board, and calendar views\\r\\nOrganize and assign tasks; set due dates\\r\\nAttach files to tasks so relevant info is easy to find\\r\\n\\r\\n\\u2714 GET THE WHOLE PICTURE\\u2014EVEN ON THE GO\\r\\nKeep an eye on progress no matter where you are:\\r\\nInstantly see if projects are on track, at risk, or off track\\u2014and why\\r\\nPost status updates, or request updates from project owners\\r\\nDrill down into tasks for more information\\r\\n\\r\\n\\u2714 PUSH WORK ALONG...WITHOUT GETTING PUSHY\\r\\nMake sure nothing falls through the cracks:\\r\\nClarify if tasks are high, medium, or low priority\\r\\nApprove work or mark tasks for approval\\r\\nSet tasks as milestones to establish critical checkpoints\\r\\nGet notified when tasks are completed, overdue, and more\\r\\n\\r\\n\\u2714 ASANA MOBILE + WEB = YOUR A-TEAM\\r\\nWork efficiently whether you\\u2019re at the office or on the go: \\r\\nAutomatically transcribe voice memos to tasks\\r\\nConvert photos of whiteboards, charts, or diagrams to tasks\\r\\nInstantly sync work between the app and web\\r\\nWork offline without worrying about losing your data\\r\\n\\r\\n\\u201cWe get five times more done per person than companies 10 times bigger than us and relatively stress-free.\\u201d - Brett Gurewitz, CEO, Epitaph Records (and guitarist for Bad Religion)\\r\\n\\r\\n\\u201cIf it\\u2019s not in Asana it\\u2019s not on my radar. Our work has a lot of moving parts and Asana helps ensure nothing falls through the cracks.\\u201d - Elissa Hudson, Senior Marketing Manager, Hubspot\\r\\n\\r\\nJoin more than 75,000 organizations and millions of users worldwide who trust Asana to stay organized and in control of their work. Download the Asana app now.\\r\\n\\r\\nBy downloading Asana, you agree to our Terms of Service, which you can find at https://asana.com/terms\"\u001b[39;49;00m,\n",
            "  \u001b[34;01m\"descriptionHTML\"\u001b[39;49;00m: \u001b[33m\"Asana is the work manager for teams. But better. From the small stuff to the big picture, Asana organizes work so teams are clear what to do, why it matters, and how to get it done.<br><br>\\u272d Featured \\u201cApp of the Day\\u201d on the App Store. \\u201cThis project management is powerful but not overwhelming\\u2014and never lets the process of being productive get in the way of actually getting things done.\\u201d<br><br>\\u201cAsana is one of the best collaboration and productivity apps for teams and an Editors\\u2019 Choice.\\u201d  \\u2014PC Mag<br><br>\\u201cAsana has been instrumental in enabling our team to grow by 6x this year and successfully scale our processes.\\u201d \\u2014Ryan Bonnici, Chief Marketing Officer, G2<br><br>See why more than 7500 people give Asana 4.7 out of 5 stars.<br><br>\\u2714 TAKE THE GUESSWORK OUT OF WORK<br>See who is doing what and by when across the whole team:<br>Coordinate plans, projects, and tasks in one shared space<br>Switch between list, kanban board, and calendar views<br>Organize and assign tasks; set due dates<br>Attach files to tasks so relevant info is easy to find<br><br>\\u2714 GET THE WHOLE PICTURE\\u2014EVEN ON THE GO<br>Keep an eye on progress no matter where you are:<br>Instantly see if projects are on track, at risk, or off track\\u2014and why<br>Post status updates, or request updates from project owners<br>Drill down into tasks for more information<br><br>\\u2714 PUSH WORK ALONG...WITHOUT GETTING PUSHY<br>Make sure nothing falls through the cracks:<br>Clarify if tasks are high, medium, or low priority<br>Approve work or mark tasks for approval<br>Set tasks as milestones to establish critical checkpoints<br>Get notified when tasks are completed, overdue, and more<br><br>\\u2714 ASANA MOBILE + WEB = YOUR A-TEAM<br>Work efficiently whether you\\u2019re at the office or on the go: <br>Automatically transcribe voice memos to tasks<br>Convert photos of whiteboards, charts, or diagrams to tasks<br>Instantly sync work between the app and web<br>Work offline without worrying about losing your data<br><br>\\u201cWe get five times more done per person than companies 10 times bigger than us and relatively stress-free.\\u201d - Brett Gurewitz, CEO, Epitaph Records (and guitarist for Bad Religion)<br><br>\\u201cIf it\\u2019s not in Asana it\\u2019s not on my radar. Our work has a lot of moving parts and Asana helps ensure nothing falls through the cracks.\\u201d - Elissa Hudson, Senior Marketing Manager, Hubspot<br><br>Join more than 75,000 organizations and millions of users worldwide who trust Asana to stay organized and in control of their work. Download the Asana app now.<br><br>By downloading Asana, you agree to our Terms of Service, which you can find at https://asana.com/terms\"\u001b[39;49;00m,\n",
            "  \u001b[34;01m\"developer\"\u001b[39;49;00m: \u001b[33m\"Asana, Inc.\"\u001b[39;49;00m,\n",
            "  \u001b[34;01m\"developerAddress\"\u001b[39;49;00m: \u001b[34mnull\u001b[39;49;00m,\n",
            "  \u001b[34;01m\"developerEmail\"\u001b[39;49;00m: \u001b[33m\"support@asana.com\"\u001b[39;49;00m,\n",
            "  \u001b[34;01m\"developerId\"\u001b[39;49;00m: \u001b[33m\"Asana,+Inc.\"\u001b[39;49;00m,\n",
            "  \u001b[34;01m\"developerInternalID\"\u001b[39;49;00m: \u001b[33m\"9027419648812383370\"\u001b[39;49;00m,\n",
            "  \u001b[34;01m\"developerWebsite\"\u001b[39;49;00m: \u001b[33m\"https://asana.com/product\"\u001b[39;49;00m,\n",
            "  \u001b[34;01m\"free\"\u001b[39;49;00m: \u001b[34mtrue\u001b[39;49;00m,\n",
            "  \u001b[34;01m\"genre\"\u001b[39;49;00m: \u001b[33m\"Business\"\u001b[39;49;00m,\n",
            "  \u001b[34;01m\"genreId\"\u001b[39;49;00m: \u001b[33m\"BUSINESS\"\u001b[39;49;00m,\n",
            "  \u001b[34;01m\"headerImage\"\u001b[39;49;00m: \u001b[33m\"https://lh3.googleusercontent.com/4ts1ELx9Kpks2R2KWE_hCTBW63gVqR5UrSgE_vq8XEQPITvoBICGxpCaeWqmnWLqmEyy\"\u001b[39;49;00m,\n",
            "  \u001b[34;01m\"histogram\"\u001b[39;49;00m: [\n",
            "    \u001b[34m1434\u001b[39;49;00m,\n",
            "    \u001b[34m478\u001b[39;49;00m,\n",
            "    \u001b[34m1278\u001b[39;49;00m,\n",
            "    \u001b[34m3222\u001b[39;49;00m,\n",
            "    \u001b[34m24885\u001b[39;49;00m\n",
            "  ],\n",
            "  \u001b[34;01m\"icon\"\u001b[39;49;00m: \u001b[33m\"https://lh3.googleusercontent.com/EJEviNAy8fAdCNMrcxaZDYLH1AnDnvficaxztxPnEF-fN97TPHud2yKS1sKsuA_kT9Y\"\u001b[39;49;00m,\n",
            "  \u001b[34;01m\"installs\"\u001b[39;49;00m: \u001b[33m\"1,000,000+\"\u001b[39;49;00m,\n",
            "  \u001b[34;01m\"minInstalls\"\u001b[39;49;00m: \u001b[34m1000000\u001b[39;49;00m,\n",
            "  \u001b[34;01m\"offersIAP\"\u001b[39;49;00m: \u001b[34mnull\u001b[39;49;00m,\n",
            "  \u001b[34;01m\"originalPrice\"\u001b[39;49;00m: \u001b[34mnull\u001b[39;49;00m,\n",
            "  \u001b[34;01m\"price\"\u001b[39;49;00m: \u001b[34m0\u001b[39;49;00m,\n",
            "  \u001b[34;01m\"privacyPolicy\"\u001b[39;49;00m: \u001b[33m\"http://www.asana.com/privacy\"\u001b[39;49;00m,\n",
            "  \u001b[34;01m\"ratings\"\u001b[39;49;00m: \u001b[34m31299\u001b[39;49;00m,\n",
            "  \u001b[34;01m\"recentChanges\"\u001b[39;49;00m: \u001b[33m\"\\ud83c\\udfb5 Give a little bit...\\r\\nGive a little bit of appreciation to you.\\r\\nGive a little bit...\\r\\nWe've got a little bit of appreciation for you.\\r\\nNow's the time that we need to share...\\r\\nSo send a sticker to show you care.\\r\\nAlright. Ah, yeah. Come along...\\r\\n\\r\\nThis update includes Appreciations, improvements to status updates and invites, and bug fixes and general improvements.\"\u001b[39;49;00m,\n",
            "  \u001b[34;01m\"recentChangesHTML\"\u001b[39;49;00m: \u001b[33m\"\\ud83c\\udfb5 Give a little bit...<br>Give a little bit of appreciation to you.<br>Give a little bit...<br>We&#39;ve got a little bit of appreciation for you.<br>Now&#39;s the time that we need to share...<br>So send a sticker to show you care.<br>Alright. Ah, yeah. Come along...<br><br>This update includes Appreciations, improvements to status updates and invites, and bug fixes and general improvements.\"\u001b[39;49;00m,\n",
            "  \u001b[34;01m\"released\"\u001b[39;49;00m: \u001b[33m\"Feb 27, 2013\"\u001b[39;49;00m,\n",
            "  \u001b[34;01m\"reviews\"\u001b[39;49;00m: \u001b[34m9591\u001b[39;49;00m,\n",
            "  \u001b[34;01m\"sale\"\u001b[39;49;00m: \u001b[34mfalse\u001b[39;49;00m,\n",
            "  \u001b[34;01m\"saleText\"\u001b[39;49;00m: \u001b[34mnull\u001b[39;49;00m,\n",
            "  \u001b[34;01m\"saleTime\"\u001b[39;49;00m: \u001b[34mnull\u001b[39;49;00m,\n",
            "  \u001b[34;01m\"score\"\u001b[39;49;00m: \u001b[34m4.586184\u001b[39;49;00m,\n",
            "  \u001b[34;01m\"screenshots\"\u001b[39;49;00m: [\n",
            "    \u001b[33m\"https://lh3.googleusercontent.com/a-c_cZ7cTlTHgMmXuG-BqsN6-xm0s_koN56J9_jRhVgd81HSbWT7A48ysMA15ZXFcnA\"\u001b[39;49;00m,\n",
            "    \u001b[33m\"https://lh3.googleusercontent.com/ZBeNcL0KBzHLkZvmN9TGohTZ1EBdPoQ0BEnBs4eEiAtpZcgRPWAkEtmbA9HxUT3-isI\"\u001b[39;49;00m,\n",
            "    \u001b[33m\"https://lh3.googleusercontent.com/YQzlPY-Gf0IZcJ23dmX-2WZRt1Sf-xh7d8QteyxVXuUTBXAAEs9ElrWAsU2TaIMPQYo\"\u001b[39;49;00m,\n",
            "    \u001b[33m\"https://lh3.googleusercontent.com/Od0HDyc248fg5ya7y3b7BcSHz8P-_eQVGqvnln3KJxXRwoSBsnJ9mKEnmBi9mLBnSA\"\u001b[39;49;00m,\n",
            "    \u001b[33m\"https://lh3.googleusercontent.com/RIEE8eAwXQLotr3jRF0bim47WoGYJ_Iu3W8alWSOnEiImvQee_Vt3r3Uf-imt8_TQpA\"\u001b[39;49;00m,\n",
            "    \u001b[33m\"https://lh3.googleusercontent.com/WDGYFWrU3MMIwoaHqggYVQT2bCTH4OitaL94oZZcY6pO3CfNCxx-6SkBJy_bP8lBDVyh\"\u001b[39;49;00m,\n",
            "    \u001b[33m\"https://lh3.googleusercontent.com/k8TYhLxOalU6RPSQFt_8QnUDwBZTcE2UD1CkmQ09T3QYmH7b3g6-jJP4KbqVJPo8cC6L\"\u001b[39;49;00m\n",
            "  ],\n",
            "  \u001b[34;01m\"size\"\u001b[39;49;00m: \u001b[33m\"14M\"\u001b[39;49;00m,\n",
            "  \u001b[34;01m\"summary\"\u001b[39;49;00m: \u001b[33m\"Organize. Plan. Get work done. #withAsana\"\u001b[39;49;00m,\n",
            "  \u001b[34;01m\"summaryHTML\"\u001b[39;49;00m: \u001b[33m\"Organize. Plan. Get work done. #withAsana\"\u001b[39;49;00m,\n",
            "  \u001b[34;01m\"title\"\u001b[39;49;00m: \u001b[33m\"Asana: Your work manager\"\u001b[39;49;00m,\n",
            "  \u001b[34;01m\"updated\"\u001b[39;49;00m: \u001b[34m1595265487\u001b[39;49;00m,\n",
            "  \u001b[34;01m\"url\"\u001b[39;49;00m: \u001b[33m\"https://play.google.com/store/apps/details?id=com.asana.app&hl=en&gl=us\"\u001b[39;49;00m,\n",
            "  \u001b[34;01m\"version\"\u001b[39;49;00m: \u001b[33m\"6.50.8\"\u001b[39;49;00m,\n",
            "  \u001b[34;01m\"video\"\u001b[39;49;00m: \u001b[33m\"https://www.youtube.com/embed/jY0-gsNImlk?ps=play&vq=large&rel=0&autohide=1&showinfo=0&start=1\"\u001b[39;49;00m,\n",
            "  \u001b[34;01m\"videoImage\"\u001b[39;49;00m: \u001b[33m\"https://i.ytimg.com/vi/jY0-gsNImlk/hqdefault.jpg\"\u001b[39;49;00m\n",
            "}\n",
            "\n"
          ],
          "name": "stdout"
        }
      ]
    },
    {
      "cell_type": "code",
      "metadata": {
        "id": "oE03J8X1xK9X",
        "colab_type": "code",
        "colab": {}
      },
      "source": [
        "# Put the retrieved information into a dataframe\n",
        "df_app_details = pd.DataFrame(app_details)"
      ],
      "execution_count": 11,
      "outputs": []
    },
    {
      "cell_type": "code",
      "metadata": {
        "id": "1s7EQtvXyDjh",
        "colab_type": "code",
        "colab": {}
      },
      "source": [
        "# Save the dataframe to disk\n",
        "\n",
        "# Retrieve datetime to stamp the file\n",
        "now = datetime.datetime.now().strftime(\"%Y-%m-%d-%H-%M-%S\")\n",
        "\n",
        "# Save with current datetime\n",
        "df_app_details.to_csv(f'data/app_details_{now}.csv', header=True, index=None)"
      ],
      "execution_count": 12,
      "outputs": []
    },
    {
      "cell_type": "code",
      "metadata": {
        "id": "UkMhfrht6KcY",
        "colab_type": "code",
        "colab": {
          "base_uri": "https://localhost:8080/",
          "height": 434
        },
        "outputId": "d42409da-3adf-4935-cab7-ae11fe644f79"
      },
      "source": [
        "df_app_details.head(3)"
      ],
      "execution_count": 13,
      "outputs": [
        {
          "output_type": "execute_result",
          "data": {
            "text/html": [
              "<div>\n",
              "<style scoped>\n",
              "    .dataframe tbody tr th:only-of-type {\n",
              "        vertical-align: middle;\n",
              "    }\n",
              "\n",
              "    .dataframe tbody tr th {\n",
              "        vertical-align: top;\n",
              "    }\n",
              "\n",
              "    .dataframe thead th {\n",
              "        text-align: right;\n",
              "    }\n",
              "</style>\n",
              "<table border=\"1\" class=\"dataframe\">\n",
              "  <thead>\n",
              "    <tr style=\"text-align: right;\">\n",
              "      <th></th>\n",
              "      <th>title</th>\n",
              "      <th>description</th>\n",
              "      <th>descriptionHTML</th>\n",
              "      <th>summary</th>\n",
              "      <th>summaryHTML</th>\n",
              "      <th>installs</th>\n",
              "      <th>minInstalls</th>\n",
              "      <th>score</th>\n",
              "      <th>ratings</th>\n",
              "      <th>reviews</th>\n",
              "      <th>histogram</th>\n",
              "      <th>price</th>\n",
              "      <th>free</th>\n",
              "      <th>currency</th>\n",
              "      <th>sale</th>\n",
              "      <th>saleTime</th>\n",
              "      <th>originalPrice</th>\n",
              "      <th>saleText</th>\n",
              "      <th>offersIAP</th>\n",
              "      <th>size</th>\n",
              "      <th>androidVersion</th>\n",
              "      <th>androidVersionText</th>\n",
              "      <th>developer</th>\n",
              "      <th>developerId</th>\n",
              "      <th>developerEmail</th>\n",
              "      <th>developerWebsite</th>\n",
              "      <th>developerAddress</th>\n",
              "      <th>privacyPolicy</th>\n",
              "      <th>developerInternalID</th>\n",
              "      <th>genre</th>\n",
              "      <th>genreId</th>\n",
              "      <th>icon</th>\n",
              "      <th>headerImage</th>\n",
              "      <th>screenshots</th>\n",
              "      <th>video</th>\n",
              "      <th>videoImage</th>\n",
              "      <th>contentRating</th>\n",
              "      <th>contentRatingDescription</th>\n",
              "      <th>adSupported</th>\n",
              "      <th>containsAds</th>\n",
              "      <th>released</th>\n",
              "      <th>updated</th>\n",
              "      <th>version</th>\n",
              "      <th>recentChanges</th>\n",
              "      <th>recentChangesHTML</th>\n",
              "      <th>comments</th>\n",
              "      <th>appId</th>\n",
              "      <th>url</th>\n",
              "    </tr>\n",
              "  </thead>\n",
              "  <tbody>\n",
              "    <tr>\n",
              "      <th>0</th>\n",
              "      <td>Asana: Your work manager</td>\n",
              "      <td>Asana is the work manager for teams. But bette...</td>\n",
              "      <td>Asana is the work manager for teams. But bette...</td>\n",
              "      <td>Organize. Plan. Get work done. #withAsana</td>\n",
              "      <td>Organize. Plan. Get work done. #withAsana</td>\n",
              "      <td>1,000,000+</td>\n",
              "      <td>1000000</td>\n",
              "      <td>4.586184</td>\n",
              "      <td>31299</td>\n",
              "      <td>9591</td>\n",
              "      <td>[1434, 478, 1278, 3222, 24885]</td>\n",
              "      <td>0</td>\n",
              "      <td>True</td>\n",
              "      <td>USD</td>\n",
              "      <td>False</td>\n",
              "      <td>None</td>\n",
              "      <td>None</td>\n",
              "      <td>None</td>\n",
              "      <td>None</td>\n",
              "      <td>14M</td>\n",
              "      <td>7.0</td>\n",
              "      <td>7.0 and up</td>\n",
              "      <td>Asana, Inc.</td>\n",
              "      <td>Asana,+Inc.</td>\n",
              "      <td>support@asana.com</td>\n",
              "      <td>https://asana.com/product</td>\n",
              "      <td>None</td>\n",
              "      <td>http://www.asana.com/privacy</td>\n",
              "      <td>9027419648812383370</td>\n",
              "      <td>Business</td>\n",
              "      <td>BUSINESS</td>\n",
              "      <td>https://lh3.googleusercontent.com/EJEviNAy8fAd...</td>\n",
              "      <td>https://lh3.googleusercontent.com/4ts1ELx9Kpks...</td>\n",
              "      <td>[https://lh3.googleusercontent.com/a-c_cZ7cTlT...</td>\n",
              "      <td>https://www.youtube.com/embed/jY0-gsNImlk?ps=p...</td>\n",
              "      <td>https://i.ytimg.com/vi/jY0-gsNImlk/hqdefault.jpg</td>\n",
              "      <td>Everyone</td>\n",
              "      <td>None</td>\n",
              "      <td>None</td>\n",
              "      <td>None</td>\n",
              "      <td>Feb 27, 2013</td>\n",
              "      <td>1595265487</td>\n",
              "      <td>6.50.8</td>\n",
              "      <td>🎵 Give a little bit...\\r\\nGive a little bit of...</td>\n",
              "      <td>🎵 Give a little bit...&lt;br&gt;Give a little bit of...</td>\n",
              "      <td>[App works well but a feature that is seriousl...</td>\n",
              "      <td>com.asana.app</td>\n",
              "      <td>https://play.google.com/store/apps/details?id=...</td>\n",
              "    </tr>\n",
              "    <tr>\n",
              "      <th>1</th>\n",
              "      <td>Airtable</td>\n",
              "      <td>Organize anything you can imagine with Airtabl...</td>\n",
              "      <td>Organize anything you can imagine with Airtabl...</td>\n",
              "      <td>Organize anything you can imagine with a moder...</td>\n",
              "      <td>Organize anything you can imagine with a moder...</td>\n",
              "      <td>100,000+</td>\n",
              "      <td>100000</td>\n",
              "      <td>3.608108</td>\n",
              "      <td>1516</td>\n",
              "      <td>758</td>\n",
              "      <td>[276, 133, 122, 358, 624]</td>\n",
              "      <td>0</td>\n",
              "      <td>True</td>\n",
              "      <td>USD</td>\n",
              "      <td>False</td>\n",
              "      <td>None</td>\n",
              "      <td>None</td>\n",
              "      <td>None</td>\n",
              "      <td>None</td>\n",
              "      <td>12M</td>\n",
              "      <td>5.0</td>\n",
              "      <td>5.0 and up</td>\n",
              "      <td>Airtable</td>\n",
              "      <td>8024614373053231272</td>\n",
              "      <td>droid@airtable.com</td>\n",
              "      <td>https://airtable.com/</td>\n",
              "      <td>None</td>\n",
              "      <td>https://airtable.com/privacy</td>\n",
              "      <td>8024614373053231272</td>\n",
              "      <td>Productivity</td>\n",
              "      <td>PRODUCTIVITY</td>\n",
              "      <td>https://lh3.googleusercontent.com/0AKPNIi6-Dct...</td>\n",
              "      <td>https://lh3.googleusercontent.com/xlIqHp_kgI76...</td>\n",
              "      <td>[https://lh3.googleusercontent.com/u1iubbqRbdB...</td>\n",
              "      <td>https://www.youtube.com/embed/rydOfdGCOBU?ps=p...</td>\n",
              "      <td>https://i.ytimg.com/vi/rydOfdGCOBU/hqdefault.jpg</td>\n",
              "      <td>Everyone</td>\n",
              "      <td>None</td>\n",
              "      <td>None</td>\n",
              "      <td>None</td>\n",
              "      <td>Sep 27, 2016</td>\n",
              "      <td>1595281514</td>\n",
              "      <td>1.3.4</td>\n",
              "      <td>Organize anything you can imagine with Airtabl...</td>\n",
              "      <td>Organize anything you can imagine with Airtabl...</td>\n",
              "      <td>[The Android app lacks a significant amount of...</td>\n",
              "      <td>com.formagrid.airtable</td>\n",
              "      <td>https://play.google.com/store/apps/details?id=...</td>\n",
              "    </tr>\n",
              "    <tr>\n",
              "      <th>2</th>\n",
              "      <td>Basecamp 3</td>\n",
              "      <td>&lt;b&gt;Use your company's Basecamp 3 account on-th...</td>\n",
              "      <td>&lt;b&gt;Use your company&amp;#39;s Basecamp 3 account o...</td>\n",
              "      <td>Basecamp 3, official Android version for the w...</td>\n",
              "      <td>Basecamp 3, official Android version for the w...</td>\n",
              "      <td>500,000+</td>\n",
              "      <td>500000</td>\n",
              "      <td>4.311558</td>\n",
              "      <td>4150</td>\n",
              "      <td>1514</td>\n",
              "      <td>[260, 135, 312, 782, 2658]</td>\n",
              "      <td>0</td>\n",
              "      <td>True</td>\n",
              "      <td>USD</td>\n",
              "      <td>False</td>\n",
              "      <td>None</td>\n",
              "      <td>None</td>\n",
              "      <td>None</td>\n",
              "      <td>None</td>\n",
              "      <td>7.6M</td>\n",
              "      <td>6.0</td>\n",
              "      <td>6.0 and up</td>\n",
              "      <td>Basecamp</td>\n",
              "      <td>Basecamp</td>\n",
              "      <td>support@basecamp.com</td>\n",
              "      <td>https://basecamp.com</td>\n",
              "      <td>None</td>\n",
              "      <td>https://basecamp.com/privacy</td>\n",
              "      <td>8645525805030592144</td>\n",
              "      <td>Productivity</td>\n",
              "      <td>PRODUCTIVITY</td>\n",
              "      <td>https://lh3.googleusercontent.com/Mx66p8uDSlbx...</td>\n",
              "      <td>https://lh3.googleusercontent.com/DhvIpWbDmOr1...</td>\n",
              "      <td>[https://lh3.googleusercontent.com/o_oaonXHNi5...</td>\n",
              "      <td>None</td>\n",
              "      <td>None</td>\n",
              "      <td>Everyone</td>\n",
              "      <td>None</td>\n",
              "      <td>None</td>\n",
              "      <td>None</td>\n",
              "      <td>Oct 20, 2015</td>\n",
              "      <td>1582299579</td>\n",
              "      <td>3.18.9</td>\n",
              "      <td>🐛 Bug fixes and improved speed over slow networks</td>\n",
              "      <td>🐛 Bug fixes and improved speed over slow networks</td>\n",
              "      <td>[Very bad UX. 1) No progress (% wise) shown fo...</td>\n",
              "      <td>com.basecamp.bc3</td>\n",
              "      <td>https://play.google.com/store/apps/details?id=...</td>\n",
              "    </tr>\n",
              "  </tbody>\n",
              "</table>\n",
              "</div>"
            ],
            "text/plain": [
              "                      title  ...                                                url\n",
              "0  Asana: Your work manager  ...  https://play.google.com/store/apps/details?id=...\n",
              "1                  Airtable  ...  https://play.google.com/store/apps/details?id=...\n",
              "2                Basecamp 3  ...  https://play.google.com/store/apps/details?id=...\n",
              "\n",
              "[3 rows x 48 columns]"
            ]
          },
          "metadata": {
            "tags": []
          },
          "execution_count": 13
        }
      ]
    },
    {
      "cell_type": "code",
      "metadata": {
        "id": "PnAGQKIbyR41",
        "colab_type": "code",
        "colab": {
          "base_uri": "https://localhost:8080/",
          "height": 34
        },
        "outputId": "d2c40a37-7d1a-48d0-a4ca-5b79da62ec59"
      },
      "source": [
        "# List to store app reviews\n",
        "app_reviews = []\n",
        "\n",
        "# Loop to retrieve and store app reviews\n",
        "for ap in tqdm(apps_list):\n",
        "\n",
        "    # Extract sample reviews from reviews with different stars given\n",
        "    for star in list(range(1, 6)):\n",
        "\n",
        "        # Extract the most relevant and the most recent reviews\n",
        "        for sort_order in [google_play_scraper.Sort.MOST_RELEVANT, google_play_scraper.Sort.NEWEST]:\n",
        "            rvws, _ = google_play_scraper.reviews(ap,\n",
        "                                                  lang='en',\n",
        "                                                  country='us',\n",
        "                                                  sort=sort_order,\n",
        "                                                  count = 100 if star == 3 else 50,\n",
        "                                                  filter_score_with = star)\n",
        "            \n",
        "            for r in rvws:\n",
        "                r['sortOrder'] = 'most_relevant' if sort_order == google_play_scraper.Sort.MOST_RELEVANT else 'newest'\n",
        "                r['appId'] = ap\n",
        "\n",
        "            # Save reviews\n",
        "            app_reviews.extend(rvws)"
      ],
      "execution_count": 14,
      "outputs": [
        {
          "output_type": "stream",
          "text": [
            "100%|██████████| 10/10 [00:09<00:00,  1.03it/s]\n"
          ],
          "name": "stderr"
        }
      ]
    },
    {
      "cell_type": "code",
      "metadata": {
        "id": "LsdVcysx2p3-",
        "colab_type": "code",
        "colab": {}
      },
      "source": [
        "# Create a dataframe with the reviews\n",
        "df_app_reviews = pd.DataFrame(app_reviews)"
      ],
      "execution_count": 15,
      "outputs": []
    },
    {
      "cell_type": "code",
      "metadata": {
        "id": "SmSVBv2s4Pag",
        "colab_type": "code",
        "colab": {}
      },
      "source": [
        "# Save the dataframe to disk\n",
        "\n",
        "# Retrieve datetime to stamp the file\n",
        "now = datetime.datetime.now().strftime(\"%Y-%m-%d-%H-%M-%S\")\n",
        "\n",
        "# Save with current datetime\n",
        "df_app_reviews.to_csv(f'data/app_reviews_{now}.csv', header = True, index = None)"
      ],
      "execution_count": 16,
      "outputs": []
    },
    {
      "cell_type": "code",
      "metadata": {
        "id": "xtyHxpsb4hPD",
        "colab_type": "code",
        "colab": {
          "base_uri": "https://localhost:8080/",
          "height": 244
        },
        "outputId": "b8fd4a8a-e911-4f97-aa92-989bdffe4b43"
      },
      "source": [
        "# Loading the csv with app reviews\n",
        "df_reviews = pd.read_csv(f'data/app_reviews_{now}.csv')\n",
        "df_reviews.head(3)"
      ],
      "execution_count": 17,
      "outputs": [
        {
          "output_type": "execute_result",
          "data": {
            "text/html": [
              "<div>\n",
              "<style scoped>\n",
              "    .dataframe tbody tr th:only-of-type {\n",
              "        vertical-align: middle;\n",
              "    }\n",
              "\n",
              "    .dataframe tbody tr th {\n",
              "        vertical-align: top;\n",
              "    }\n",
              "\n",
              "    .dataframe thead th {\n",
              "        text-align: right;\n",
              "    }\n",
              "</style>\n",
              "<table border=\"1\" class=\"dataframe\">\n",
              "  <thead>\n",
              "    <tr style=\"text-align: right;\">\n",
              "      <th></th>\n",
              "      <th>reviewId</th>\n",
              "      <th>userName</th>\n",
              "      <th>userImage</th>\n",
              "      <th>content</th>\n",
              "      <th>score</th>\n",
              "      <th>thumbsUpCount</th>\n",
              "      <th>reviewCreatedVersion</th>\n",
              "      <th>at</th>\n",
              "      <th>replyContent</th>\n",
              "      <th>repliedAt</th>\n",
              "      <th>sortOrder</th>\n",
              "      <th>appId</th>\n",
              "    </tr>\n",
              "  </thead>\n",
              "  <tbody>\n",
              "    <tr>\n",
              "      <th>0</th>\n",
              "      <td>gp:AOqpTOFrr-TuGFhU9WiSFNSqYKYrn8ZvUiUZ-ljdC8O...</td>\n",
              "      <td>Erlang P</td>\n",
              "      <td>https://lh3.googleusercontent.com/-kp-Z4Cq91b4...</td>\n",
              "      <td>Bug: \"Add Tag\" not working on android. \"Save\" ...</td>\n",
              "      <td>1</td>\n",
              "      <td>0</td>\n",
              "      <td>6.48.5</td>\n",
              "      <td>2020-07-09 12:00:33</td>\n",
              "      <td>NaN</td>\n",
              "      <td>NaN</td>\n",
              "      <td>most_relevant</td>\n",
              "      <td>com.asana.app</td>\n",
              "    </tr>\n",
              "    <tr>\n",
              "      <th>1</th>\n",
              "      <td>gp:AOqpTOGjmtD5IJRa-8Rk7hxS02RFs1oyJgdDwFOXbsj...</td>\n",
              "      <td>mrk 1</td>\n",
              "      <td>https://lh3.googleusercontent.com/-HCdJh-McJWE...</td>\n",
              "      <td>At first looked very promising (specially UI) ...</td>\n",
              "      <td>1</td>\n",
              "      <td>30</td>\n",
              "      <td>6.46.6</td>\n",
              "      <td>2020-06-11 23:50:05</td>\n",
              "      <td>NaN</td>\n",
              "      <td>NaN</td>\n",
              "      <td>most_relevant</td>\n",
              "      <td>com.asana.app</td>\n",
              "    </tr>\n",
              "    <tr>\n",
              "      <th>2</th>\n",
              "      <td>gp:AOqpTOGxrxWE5FRGajIqnVem0ZQSS4vtXtIkIN6shZZ...</td>\n",
              "      <td>Donna</td>\n",
              "      <td>https://lh3.googleusercontent.com/a-/AOh14Gil7...</td>\n",
              "      <td>I was charged $395.64 all at once after a free...</td>\n",
              "      <td>1</td>\n",
              "      <td>10</td>\n",
              "      <td>6.47.4</td>\n",
              "      <td>2020-06-18 23:18:04</td>\n",
              "      <td>Hi! I'm sorry to hear you have been charged af...</td>\n",
              "      <td>2020-06-23 23:21:07</td>\n",
              "      <td>most_relevant</td>\n",
              "      <td>com.asana.app</td>\n",
              "    </tr>\n",
              "  </tbody>\n",
              "</table>\n",
              "</div>"
            ],
            "text/plain": [
              "                                            reviewId  ...          appId\n",
              "0  gp:AOqpTOFrr-TuGFhU9WiSFNSqYKYrn8ZvUiUZ-ljdC8O...  ...  com.asana.app\n",
              "1  gp:AOqpTOGjmtD5IJRa-8Rk7hxS02RFs1oyJgdDwFOXbsj...  ...  com.asana.app\n",
              "2  gp:AOqpTOGxrxWE5FRGajIqnVem0ZQSS4vtXtIkIN6shZZ...  ...  com.asana.app\n",
              "\n",
              "[3 rows x 12 columns]"
            ]
          },
          "metadata": {
            "tags": []
          },
          "execution_count": 17
        }
      ]
    },
    {
      "cell_type": "code",
      "metadata": {
        "id": "LIN6GkvL52gZ",
        "colab_type": "code",
        "colab": {
          "base_uri": "https://localhost:8080/",
          "height": 340
        },
        "outputId": "39b9f9ef-e184-4315-a3fa-80b48b5bd7c5"
      },
      "source": [
        "df_reviews.info()"
      ],
      "execution_count": 18,
      "outputs": [
        {
          "output_type": "stream",
          "text": [
            "<class 'pandas.core.frame.DataFrame'>\n",
            "RangeIndex: 5418 entries, 0 to 5417\n",
            "Data columns (total 12 columns):\n",
            " #   Column                Non-Null Count  Dtype \n",
            "---  ------                --------------  ----- \n",
            " 0   reviewId              5418 non-null   object\n",
            " 1   userName              5418 non-null   object\n",
            " 2   userImage             5418 non-null   object\n",
            " 3   content               5417 non-null   object\n",
            " 4   score                 5418 non-null   int64 \n",
            " 5   thumbsUpCount         5418 non-null   int64 \n",
            " 6   reviewCreatedVersion  4852 non-null   object\n",
            " 7   at                    5418 non-null   object\n",
            " 8   replyContent          1873 non-null   object\n",
            " 9   repliedAt             1873 non-null   object\n",
            " 10  sortOrder             5418 non-null   object\n",
            " 11  appId                 5418 non-null   object\n",
            "dtypes: int64(2), object(10)\n",
            "memory usage: 508.1+ KB\n"
          ],
          "name": "stdout"
        }
      ]
    },
    {
      "cell_type": "code",
      "metadata": {
        "id": "1aRNbxx36Sck",
        "colab_type": "code",
        "colab": {
          "base_uri": "https://localhost:8080/",
          "height": 587
        },
        "outputId": "f18b890c-55ee-413c-e88b-a3e0a383208f"
      },
      "source": [
        "# Plot stars\n",
        "sns.set(style = 'whitegrid', palette = 'muted', font_scale = 1.5)\n",
        "rcParams['figure.figsize'] = 15, 9\n",
        "sns.countplot(df_reviews.score)\n",
        "plt.xlabel('Stars')\n",
        "plt.ylabel('Total')"
      ],
      "execution_count": 19,
      "outputs": [
        {
          "output_type": "execute_result",
          "data": {
            "text/plain": [
              "Text(0, 0.5, 'Total')"
            ]
          },
          "metadata": {
            "tags": []
          },
          "execution_count": 19
        },
        {
          "output_type": "display_data",
          "data": {
            "image/png": "[encoded data removed]",
            "text/plain": [
              "<Figure size 1080x648 with 1 Axes>"
            ]
          },
          "metadata": {
            "tags": []
          }
        }
      ]
    },
    {
      "cell_type": "code",
      "metadata": {
        "id": "bR6IWCVc7O1v",
        "colab_type": "code",
        "colab": {
          "base_uri": "https://localhost:8080/",
          "height": 657
        },
        "outputId": "e7907cd8-6e06-4db6-d1eb-a331486842c8"
      },
      "source": [
        "# Plot appId\n",
        "sns.set(style = 'whitegrid', palette = 'muted', font_scale = 1)\n",
        "rcParams['figure.figsize'] = 15, 9\n",
        "ax = sns.countplot(df_reviews.appId)\n",
        "ax.set_xticklabels(ax.get_xticklabels(),rotation=30)\n",
        "plt.xlabel('App')\n",
        "plt.ylabel('Number of Samples')"
      ],
      "execution_count": 20,
      "outputs": [
        {
          "output_type": "execute_result",
          "data": {
            "text/plain": [
              "Text(0, 0.5, 'Number of Samples')"
            ]
          },
          "metadata": {
            "tags": []
          },
          "execution_count": 20
        },
        {
          "output_type": "display_data",
          "data": {
            "image/png": "[encoded data removed]",
            "text/plain": [
              "<Figure size 1080x648 with 1 Axes>"
            ]
          },
          "metadata": {
            "tags": []
          }
        }
      ]
    },
    {
      "cell_type": "code",
      "metadata": {
        "id": "5POA_bzMHu9T",
        "colab_type": "code",
        "colab": {
          "base_uri": "https://localhost:8080/",
          "height": 390
        },
        "outputId": "727d3722-5bea-4361-c930-ad2b0b3ef5ca"
      },
      "source": [
        "# Creating a pivot table to see which app x star combination didn't retrieve the desired amount of data\n",
        "app_x_stars = df_reviews.groupby(['appId', 'score']).size().unstack()\n",
        "app_x_stars"
      ],
      "execution_count": 21,
      "outputs": [
        {
          "output_type": "execute_result",
          "data": {
            "text/html": [
              "<div>\n",
              "<style scoped>\n",
              "    .dataframe tbody tr th:only-of-type {\n",
              "        vertical-align: middle;\n",
              "    }\n",
              "\n",
              "    .dataframe tbody tr th {\n",
              "        vertical-align: top;\n",
              "    }\n",
              "\n",
              "    .dataframe thead th {\n",
              "        text-align: right;\n",
              "    }\n",
              "</style>\n",
              "<table border=\"1\" class=\"dataframe\">\n",
              "  <thead>\n",
              "    <tr style=\"text-align: right;\">\n",
              "      <th>score</th>\n",
              "      <th>1</th>\n",
              "      <th>2</th>\n",
              "      <th>3</th>\n",
              "      <th>4</th>\n",
              "      <th>5</th>\n",
              "    </tr>\n",
              "    <tr>\n",
              "      <th>appId</th>\n",
              "      <th></th>\n",
              "      <th></th>\n",
              "      <th></th>\n",
              "      <th></th>\n",
              "      <th></th>\n",
              "    </tr>\n",
              "  </thead>\n",
              "  <tbody>\n",
              "    <tr>\n",
              "      <th>com.asana.app</th>\n",
              "      <td>100</td>\n",
              "      <td>100</td>\n",
              "      <td>200</td>\n",
              "      <td>100</td>\n",
              "      <td>100</td>\n",
              "    </tr>\n",
              "    <tr>\n",
              "      <th>com.atlassian.android.jira.core</th>\n",
              "      <td>100</td>\n",
              "      <td>100</td>\n",
              "      <td>200</td>\n",
              "      <td>100</td>\n",
              "      <td>100</td>\n",
              "    </tr>\n",
              "    <tr>\n",
              "      <th>com.basecamp.bc3</th>\n",
              "      <td>100</td>\n",
              "      <td>100</td>\n",
              "      <td>166</td>\n",
              "      <td>100</td>\n",
              "      <td>100</td>\n",
              "    </tr>\n",
              "    <tr>\n",
              "      <th>com.formagrid.airtable</th>\n",
              "      <td>100</td>\n",
              "      <td>100</td>\n",
              "      <td>144</td>\n",
              "      <td>100</td>\n",
              "      <td>100</td>\n",
              "    </tr>\n",
              "    <tr>\n",
              "      <th>com.microsoft.todos</th>\n",
              "      <td>100</td>\n",
              "      <td>100</td>\n",
              "      <td>200</td>\n",
              "      <td>100</td>\n",
              "      <td>100</td>\n",
              "    </tr>\n",
              "    <tr>\n",
              "      <th>com.monday.monday</th>\n",
              "      <td>100</td>\n",
              "      <td>100</td>\n",
              "      <td>154</td>\n",
              "      <td>100</td>\n",
              "      <td>100</td>\n",
              "    </tr>\n",
              "    <tr>\n",
              "      <th>com.smartsheet.android</th>\n",
              "      <td>100</td>\n",
              "      <td>100</td>\n",
              "      <td>84</td>\n",
              "      <td>100</td>\n",
              "      <td>100</td>\n",
              "    </tr>\n",
              "    <tr>\n",
              "      <th>com.taskade.mobile</th>\n",
              "      <td>40</td>\n",
              "      <td>16</td>\n",
              "      <td>70</td>\n",
              "      <td>100</td>\n",
              "      <td>100</td>\n",
              "    </tr>\n",
              "    <tr>\n",
              "      <th>com.trello</th>\n",
              "      <td>100</td>\n",
              "      <td>100</td>\n",
              "      <td>200</td>\n",
              "      <td>100</td>\n",
              "      <td>100</td>\n",
              "    </tr>\n",
              "    <tr>\n",
              "      <th>com.wrike</th>\n",
              "      <td>100</td>\n",
              "      <td>100</td>\n",
              "      <td>144</td>\n",
              "      <td>100</td>\n",
              "      <td>100</td>\n",
              "    </tr>\n",
              "  </tbody>\n",
              "</table>\n",
              "</div>"
            ],
            "text/plain": [
              "score                              1    2    3    4    5\n",
              "appId                                                   \n",
              "com.asana.app                    100  100  200  100  100\n",
              "com.atlassian.android.jira.core  100  100  200  100  100\n",
              "com.basecamp.bc3                 100  100  166  100  100\n",
              "com.formagrid.airtable           100  100  144  100  100\n",
              "com.microsoft.todos              100  100  200  100  100\n",
              "com.monday.monday                100  100  154  100  100\n",
              "com.smartsheet.android           100  100   84  100  100\n",
              "com.taskade.mobile                40   16   70  100  100\n",
              "com.trello                       100  100  200  100  100\n",
              "com.wrike                        100  100  144  100  100"
            ]
          },
          "metadata": {
            "tags": []
          },
          "execution_count": 21
        }
      ]
    },
    {
      "cell_type": "code",
      "metadata": {
        "id": "J35FT4UqIkDJ",
        "colab_type": "code",
        "colab": {
          "base_uri": "https://localhost:8080/",
          "height": 578
        },
        "outputId": "4f77b482-cd88-4d96-f09f-2be5e22db7e3"
      },
      "source": [
        "# Plotting app x stars as a heatmap\n",
        "sns.heatmap(app_x_stars, linewidths=1, linecolor='white', cmap='Blues')"
      ],
      "execution_count": 22,
      "outputs": [
        {
          "output_type": "execute_result",
          "data": {
            "text/plain": [
              "<matplotlib.axes._subplots.AxesSubplot at 0x7fd3929e63c8>"
            ]
          },
          "metadata": {
            "tags": []
          },
          "execution_count": 22
        },
        {
          "output_type": "display_data",
          "data": {
            "image/png": "[encoded data removed]",
            "text/plain": [
              "<Figure size 1080x648 with 2 Axes>"
            ]
          },
          "metadata": {
            "tags": []
          }
        }
      ]
    },
    {
      "cell_type": "markdown",
      "metadata": {
        "id": "0yKWD_VDNLBb",
        "colab_type": "text"
      },
      "source": [
        "# Preprocessing"
      ]
    },
    {
      "cell_type": "code",
      "metadata": {
        "id": "QuYOYFdNIurD",
        "colab_type": "code",
        "colab": {}
      },
      "source": [
        "# Grouping function\n",
        "# This will convert range of 1-5 star reviews into negative(0), neutral(1) and positive(2)\n",
        "# This is why I've gathered twice as much data for 3 star reviews\n",
        "def group_rating(rating):\n",
        "\n",
        "    # initialize groups on -1 to catch any bugs\n",
        "    grp_rating = -1 \n",
        "\n",
        "    # Convert ratings to integers\n",
        "    rating = int(rating)\n",
        "\n",
        "    # If the rating is above 3, then positive (2)\n",
        "    if rating > 3:\n",
        "        grp_rating = 2\n",
        "    \n",
        "    # If rating is 3, then neutral (1)\n",
        "    elif rating == 3:\n",
        "        grp_rating = 1\n",
        "    \n",
        "    # If rating is below 3, then negative (0)\n",
        "    else:\n",
        "        grp_rating = 0\n",
        "    \n",
        "    return grp_rating"
      ],
      "execution_count": 23,
      "outputs": []
    },
    {
      "cell_type": "code",
      "metadata": {
        "id": "ICE_pE3DOOFf",
        "colab_type": "code",
        "colab": {}
      },
      "source": [
        "# Apply the function to the dataset and create a 'sentiment' column with the output\n",
        "df_reviews['sentiment'] = df_reviews.score.apply(group_rating)"
      ],
      "execution_count": 24,
      "outputs": []
    },
    {
      "cell_type": "code",
      "metadata": {
        "id": "HiOKWjeRObLC",
        "colab_type": "code",
        "colab": {
          "base_uri": "https://localhost:8080/",
          "height": 363
        },
        "outputId": "d13eaada-2345-4912-e94f-593155e5ad97"
      },
      "source": [
        "df_reviews.head(3)"
      ],
      "execution_count": 25,
      "outputs": [
        {
          "output_type": "execute_result",
          "data": {
            "text/html": [
              "<div>\n",
              "<style scoped>\n",
              "    .dataframe tbody tr th:only-of-type {\n",
              "        vertical-align: middle;\n",
              "    }\n",
              "\n",
              "    .dataframe tbody tr th {\n",
              "        vertical-align: top;\n",
              "    }\n",
              "\n",
              "    .dataframe thead th {\n",
              "        text-align: right;\n",
              "    }\n",
              "</style>\n",
              "<table border=\"1\" class=\"dataframe\">\n",
              "  <thead>\n",
              "    <tr style=\"text-align: right;\">\n",
              "      <th></th>\n",
              "      <th>reviewId</th>\n",
              "      <th>userName</th>\n",
              "      <th>userImage</th>\n",
              "      <th>content</th>\n",
              "      <th>score</th>\n",
              "      <th>thumbsUpCount</th>\n",
              "      <th>reviewCreatedVersion</th>\n",
              "      <th>at</th>\n",
              "      <th>replyContent</th>\n",
              "      <th>repliedAt</th>\n",
              "      <th>sortOrder</th>\n",
              "      <th>appId</th>\n",
              "      <th>sentiment</th>\n",
              "    </tr>\n",
              "  </thead>\n",
              "  <tbody>\n",
              "    <tr>\n",
              "      <th>0</th>\n",
              "      <td>gp:AOqpTOFrr-TuGFhU9WiSFNSqYKYrn8ZvUiUZ-ljdC8O...</td>\n",
              "      <td>Erlang P</td>\n",
              "      <td>https://lh3.googleusercontent.com/-kp-Z4Cq91b4...</td>\n",
              "      <td>Bug: \"Add Tag\" not working on android. \"Save\" ...</td>\n",
              "      <td>1</td>\n",
              "      <td>0</td>\n",
              "      <td>6.48.5</td>\n",
              "      <td>2020-07-09 12:00:33</td>\n",
              "      <td>NaN</td>\n",
              "      <td>NaN</td>\n",
              "      <td>most_relevant</td>\n",
              "      <td>com.asana.app</td>\n",
              "      <td>0</td>\n",
              "    </tr>\n",
              "    <tr>\n",
              "      <th>1</th>\n",
              "      <td>gp:AOqpTOGjmtD5IJRa-8Rk7hxS02RFs1oyJgdDwFOXbsj...</td>\n",
              "      <td>mrk 1</td>\n",
              "      <td>https://lh3.googleusercontent.com/-HCdJh-McJWE...</td>\n",
              "      <td>At first looked very promising (specially UI) ...</td>\n",
              "      <td>1</td>\n",
              "      <td>30</td>\n",
              "      <td>6.46.6</td>\n",
              "      <td>2020-06-11 23:50:05</td>\n",
              "      <td>NaN</td>\n",
              "      <td>NaN</td>\n",
              "      <td>most_relevant</td>\n",
              "      <td>com.asana.app</td>\n",
              "      <td>0</td>\n",
              "    </tr>\n",
              "    <tr>\n",
              "      <th>2</th>\n",
              "      <td>gp:AOqpTOGxrxWE5FRGajIqnVem0ZQSS4vtXtIkIN6shZZ...</td>\n",
              "      <td>Donna</td>\n",
              "      <td>https://lh3.googleusercontent.com/a-/AOh14Gil7...</td>\n",
              "      <td>I was charged $395.64 all at once after a free...</td>\n",
              "      <td>1</td>\n",
              "      <td>10</td>\n",
              "      <td>6.47.4</td>\n",
              "      <td>2020-06-18 23:18:04</td>\n",
              "      <td>Hi! I'm sorry to hear you have been charged af...</td>\n",
              "      <td>2020-06-23 23:21:07</td>\n",
              "      <td>most_relevant</td>\n",
              "      <td>com.asana.app</td>\n",
              "      <td>0</td>\n",
              "    </tr>\n",
              "  </tbody>\n",
              "</table>\n",
              "</div>"
            ],
            "text/plain": [
              "                                            reviewId  ... sentiment\n",
              "0  gp:AOqpTOFrr-TuGFhU9WiSFNSqYKYrn8ZvUiUZ-ljdC8O...  ...         0\n",
              "1  gp:AOqpTOGjmtD5IJRa-8Rk7hxS02RFs1oyJgdDwFOXbsj...  ...         0\n",
              "2  gp:AOqpTOGxrxWE5FRGajIqnVem0ZQSS4vtXtIkIN6shZZ...  ...         0\n",
              "\n",
              "[3 rows x 13 columns]"
            ]
          },
          "metadata": {
            "tags": []
          },
          "execution_count": 25
        }
      ]
    },
    {
      "cell_type": "code",
      "metadata": {
        "id": "etGBEewRkGQo",
        "colab_type": "code",
        "colab": {}
      },
      "source": [
        "# Shuffling the dataframe to avoid biasing the model later on\n",
        "df_reviews = df_reviews.sample(frac=1).reset_index(drop=True)"
      ],
      "execution_count": 26,
      "outputs": []
    },
    {
      "cell_type": "code",
      "metadata": {
        "id": "zOfn7x2JOcQ7",
        "colab_type": "code",
        "colab": {}
      },
      "source": [
        "# List with class names\n",
        "class_names = ['negative', 'neutral', 'positive']"
      ],
      "execution_count": 27,
      "outputs": []
    },
    {
      "cell_type": "code",
      "metadata": {
        "id": "RFH0Ue5EKzRK",
        "colab_type": "code",
        "colab": {
          "base_uri": "https://localhost:8080/",
          "height": 68
        },
        "outputId": "8729b81d-1ab7-4dec-82b0-8ad846a093ff"
      },
      "source": [
        "print(f'Negative: {(len(df_reviews[df_reviews.sentiment == 0])/len(df_reviews))}')\n",
        "print(f'Neutral: {(len(df_reviews[df_reviews.sentiment == 1])/len(df_reviews))}')\n",
        "print(f'Positive: {(len(df_reviews[df_reviews.sentiment == 2])/len(df_reviews))}')"
      ],
      "execution_count": 28,
      "outputs": [
        {
          "output_type": "stream",
          "text": [
            "Negative: 0.34256183093392395\n",
            "Neutral: 0.2882982650424511\n",
            "Positive: 0.36913990402362495\n"
          ],
          "name": "stdout"
        }
      ]
    },
    {
      "cell_type": "code",
      "metadata": {
        "id": "fCAhoBiHAWxL",
        "colab_type": "code",
        "colab": {
          "base_uri": "https://localhost:8080/",
          "height": 587
        },
        "outputId": "12c27296-b28b-4886-e269-28ae994dc839"
      },
      "source": [
        "# Plot class distribution\n",
        "sns.set(style = 'whitegrid', palette = 'muted', font_scale = 1.5)\n",
        "rcParams['figure.figsize'] = 15, 9\n",
        "sns.countplot(df_reviews.sentiment)\n",
        "plt.xlabel('Class')\n",
        "plt.ylabel('Total')"
      ],
      "execution_count": 29,
      "outputs": [
        {
          "output_type": "execute_result",
          "data": {
            "text/plain": [
              "Text(0, 0.5, 'Total')"
            ]
          },
          "metadata": {
            "tags": []
          },
          "execution_count": 29
        },
        {
          "output_type": "display_data",
          "data": {
            "image/png": "[encoded data removed]",
            "text/plain": [
              "<Figure size 1080x648 with 1 Axes>"
            ]
          },
          "metadata": {
            "tags": []
          }
        }
      ]
    },
    {
      "cell_type": "markdown",
      "metadata": {
        "id": "KTbdy_dwO1IY",
        "colab_type": "text"
      },
      "source": [
        "Downloading the pre-treined BERT model.\n",
        "\n",
        "List of available models: https://github.com/google-research/bert"
      ]
    },
    {
      "cell_type": "code",
      "metadata": {
        "id": "cjQPCJULOyGJ",
        "colab_type": "code",
        "colab": {}
      },
      "source": [
        "# Model download\n",
        "tokenizer = transformers.BertTokenizer.from_pretrained('bert-base-cased')"
      ],
      "execution_count": 30,
      "outputs": []
    },
    {
      "cell_type": "code",
      "metadata": {
        "id": "Ff2UvQLvPEk-",
        "colab_type": "code",
        "colab": {
          "base_uri": "https://localhost:8080/",
          "height": 35
        },
        "outputId": "d89c9670-c9c1-447f-88ca-fb4f99506981"
      },
      "source": [
        "# Test text\n",
        "test_text = 'Just a test sentence. Test 2.'\n",
        "test_text"
      ],
      "execution_count": 31,
      "outputs": [
        {
          "output_type": "execute_result",
          "data": {
            "application/vnd.google.colaboratory.intrinsic+json": {
              "type": "string"
            },
            "text/plain": [
              "'Just a test sentence. Test 2.'"
            ]
          },
          "metadata": {
            "tags": []
          },
          "execution_count": 31
        }
      ]
    },
    {
      "cell_type": "code",
      "metadata": {
        "id": "dQP31vZYPNHc",
        "colab_type": "code",
        "colab": {
          "base_uri": "https://localhost:8080/",
          "height": 34
        },
        "outputId": "c68db677-744f-45c7-bf54-e36775be814b"
      },
      "source": [
        "# Tokenize\n",
        "tokens = tokenizer.tokenize(test_text)\n",
        "tokens"
      ],
      "execution_count": 32,
      "outputs": [
        {
          "output_type": "execute_result",
          "data": {
            "text/plain": [
              "['Just', 'a', 'test', 'sentence', '.', 'Test', '2', '.']"
            ]
          },
          "metadata": {
            "tags": []
          },
          "execution_count": 32
        }
      ]
    },
    {
      "cell_type": "code",
      "metadata": {
        "id": "8o81_5POPP-Z",
        "colab_type": "code",
        "colab": {
          "base_uri": "https://localhost:8080/",
          "height": 34
        },
        "outputId": "a276cf70-5a6a-487c-d602-6b3b83704969"
      },
      "source": [
        "# Extract the token_ids\n",
        "token_ids = tokenizer.convert_tokens_to_ids(tokens)\n",
        "token_ids"
      ],
      "execution_count": 33,
      "outputs": [
        {
          "output_type": "execute_result",
          "data": {
            "text/plain": [
              "[2066, 170, 2774, 5650, 119, 5960, 123, 119]"
            ]
          },
          "metadata": {
            "tags": []
          },
          "execution_count": 33
        }
      ]
    },
    {
      "cell_type": "code",
      "metadata": {
        "id": "YMOwlhM9PQxx",
        "colab_type": "code",
        "colab": {
          "base_uri": "https://localhost:8080/",
          "height": 54
        },
        "outputId": "5cfb6f50-1c17-4901-ead9-3f93eb3c4863"
      },
      "source": [
        "# Create the encoding object to format the data for the BERT model\n",
        "encoding = tokenizer.encode_plus(test_text,\n",
        "                                 max_length = 32,\n",
        "                                 add_special_tokens = True,\n",
        "                                 pad_to_max_length = True,\n",
        "                                 return_attention_mask = True,\n",
        "                                 return_token_type_ids = False,\n",
        "                                 return_tensors = 'pt')"
      ],
      "execution_count": 34,
      "outputs": [
        {
          "output_type": "stream",
          "text": [
            "Truncation was not explicitely activated but `max_length` is provided a specific value, please use `truncation=True` to explicitely truncate examples to max length. Defaulting to 'longest_first' truncation strategy. If you encode pairs of sequences (GLUE-style) with the tokenizer you can select this strategy more precisely by providing a specific strategy to `truncation`.\n"
          ],
          "name": "stderr"
        }
      ]
    },
    {
      "cell_type": "code",
      "metadata": {
        "id": "MSNFx-4kP8nl",
        "colab_type": "code",
        "colab": {
          "base_uri": "https://localhost:8080/",
          "height": 85
        },
        "outputId": "32b9ad04-bbc2-4b77-cd2d-80b86e8e153c"
      },
      "source": [
        "# Print\n",
        "encoding"
      ],
      "execution_count": 35,
      "outputs": [
        {
          "output_type": "execute_result",
          "data": {
            "text/plain": [
              "{'input_ids': tensor([[ 101, 2066,  170, 2774, 5650,  119, 5960,  123,  119,  102,    0,    0,\n",
              "            0,    0,    0,    0,    0,    0,    0,    0,    0,    0,    0,    0,\n",
              "            0,    0,    0,    0,    0,    0,    0,    0]]), 'attention_mask': tensor([[1, 1, 1, 1, 1, 1, 1, 1, 1, 1, 0, 0, 0, 0, 0, 0, 0, 0, 0, 0, 0, 0, 0, 0,\n",
              "         0, 0, 0, 0, 0, 0, 0, 0]])}"
            ]
          },
          "metadata": {
            "tags": []
          },
          "execution_count": 35
        }
      ]
    },
    {
      "cell_type": "markdown",
      "metadata": {
        "id": "2CK_emgbQQQp",
        "colab_type": "text"
      },
      "source": [
        "Applying the BERT tokenizer to the dataset"
      ]
    },
    {
      "cell_type": "code",
      "metadata": {
        "id": "RyNremrIQL3N",
        "colab_type": "code",
        "colab": {}
      },
      "source": [
        "# List for the tokens\n",
        "token_length = []"
      ],
      "execution_count": 36,
      "outputs": []
    },
    {
      "cell_type": "code",
      "metadata": {
        "id": "CsBcCLd7TwUw",
        "colab_type": "code",
        "colab": {
          "base_uri": "https://localhost:8080/",
          "height": 34
        },
        "outputId": "223751e4-bf50-4741-cb88-d83a8cd8c222"
      },
      "source": [
        "# Drop NaN values before tokenizing\n",
        "df_reviews = df_reviews.dropna(subset=['content'], how='all')\n",
        "df_reviews.reset_index(inplace = True, drop=True)\n",
        "df_reviews.shape"
      ],
      "execution_count": 37,
      "outputs": [
        {
          "output_type": "execute_result",
          "data": {
            "text/plain": [
              "(5417, 13)"
            ]
          },
          "metadata": {
            "tags": []
          },
          "execution_count": 37
        }
      ]
    },
    {
      "cell_type": "code",
      "metadata": {
        "id": "pNuJfULXQkWL",
        "colab_type": "code",
        "colab": {}
      },
      "source": [
        "# Loop through the dataset content applying the tokenizer\n",
        "for content in df_reviews.content:\n",
        "    tokens = tokenizer.encode(content)\n",
        "    token_length.append(len(tokens))"
      ],
      "execution_count": 38,
      "outputs": []
    },
    {
      "cell_type": "code",
      "metadata": {
        "id": "hCnbZ1rfRg31",
        "colab_type": "code",
        "colab": {
          "base_uri": "https://localhost:8080/",
          "height": 119
        },
        "outputId": "480f41cf-5f2e-4845-f088-1d59a9562c1c"
      },
      "source": [
        "# Sample of contents\n",
        "df_reviews.content.tail(5)"
      ],
      "execution_count": 39,
      "outputs": [
        {
          "output_type": "execute_result",
          "data": {
            "text/plain": [
              "5412    My office just signed up for the website versi...\n",
              "5413    I like the app, but I have to give it one star...\n",
              "5414    While the interface is very clean. I have few ...\n",
              "5415                              Still learning this one\n",
              "5416    I like to have all tge features its website ha...\n",
              "Name: content, dtype: object"
            ]
          },
          "metadata": {
            "tags": []
          },
          "execution_count": 39
        }
      ]
    },
    {
      "cell_type": "code",
      "metadata": {
        "id": "ljyFH3chSYQn",
        "colab_type": "code",
        "colab": {
          "base_uri": "https://localhost:8080/",
          "height": 587
        },
        "outputId": "c26152ea-c2fa-4312-e7f0-a5b0c583d3a0"
      },
      "source": [
        "# Plot\n",
        "ax = sns.distplot(token_length)\n",
        "plt.xlim([0, 200])\n",
        "plt.xlabel('Token Length')"
      ],
      "execution_count": 40,
      "outputs": [
        {
          "output_type": "execute_result",
          "data": {
            "text/plain": [
              "Text(0.5, 0, 'Token Length')"
            ]
          },
          "metadata": {
            "tags": []
          },
          "execution_count": 40
        },
        {
          "output_type": "display_data",
          "data": {
            "image/png": "[encoded data removed]",
            "text/plain": [
              "<Figure size 1080x648 with 1 Axes>"
            ]
          },
          "metadata": {
            "tags": []
          }
        }
      ]
    },
    {
      "cell_type": "markdown",
      "metadata": {
        "id": "bYG56hKXXXuL",
        "colab_type": "text"
      },
      "source": [
        "# Configurations"
      ]
    },
    {
      "cell_type": "code",
      "metadata": {
        "id": "UjXP7x15XX5g",
        "colab_type": "code",
        "colab": {
          "base_uri": "https://localhost:8080/",
          "height": 35
        },
        "outputId": "d42415ac-d90a-4b94-f48f-154967abd635"
      },
      "source": [
        "# Model Hyperparameters\n",
        "EPOCHS = 10\n",
        "BATCH_SIZE = 16\n",
        "MAX_LENGTH = 150\n",
        "LEARNING_RATE = 0.00002 \n",
        "'''\n",
        "pent about 7 hours debugging this model to find out that the learning rate\n",
        "has to be precisely 2e^-5 as anything else was cause the model not to learn at all\n",
        "'''"
      ],
      "execution_count": 41,
      "outputs": [
        {
          "output_type": "execute_result",
          "data": {
            "application/vnd.google.colaboratory.intrinsic+json": {
              "type": "string"
            },
            "text/plain": [
              "'\\npent about 7 hours debugging this model to find out that the learning rate\\nhas to be precisely 2e^-5 as anything else was cause the model not to learn at all\\n'"
            ]
          },
          "metadata": {
            "tags": []
          },
          "execution_count": 41
        }
      ]
    },
    {
      "cell_type": "markdown",
      "metadata": {
        "id": "RG8MVj_UWdpe",
        "colab_type": "text"
      },
      "source": [
        "# Data Batching"
      ]
    },
    {
      "cell_type": "code",
      "metadata": {
        "id": "gSGaeeRYSykG",
        "colab_type": "code",
        "colab": {}
      },
      "source": [
        "class DataBatcher(data.Dataset):\n",
        "\n",
        "    # Constructor\n",
        "    def __init__(self, review, targets, tokenizer, max_len):\n",
        "\n",
        "        # Initialize class atributes\n",
        "        self.review = review\n",
        "        self.targets = targets\n",
        "        self.tokenizer = tokenizer\n",
        "        self.max_len = max_len\n",
        "\n",
        "    def __len__(self):\n",
        "        return len(self.review)\n",
        "\n",
        "    # Method to obtain each review\n",
        "    def __getitem__(self, item):\n",
        "\n",
        "        # Load a review\n",
        "        review = str(self.review[item])\n",
        "\n",
        "        # Create the review embedding\n",
        "        encoding = tokenizer.encode_plus(review,\n",
        "                                         max_length = self.max_len,\n",
        "                                         truncation=True,\n",
        "                                         add_special_tokens = True,\n",
        "                                         pad_to_max_length = True,\n",
        "                                         return_attention_mask = True,\n",
        "                                         return_token_type_ids = False,\n",
        "                                         return_tensors = 'pt')\n",
        "        \n",
        "        # Among the methods returns, there is the attention mask\n",
        "        return {'review_text': review,\n",
        "                'input_ids': encoding['input_ids'].flatten(),\n",
        "                'attention_mask': encoding['attention_mask'].flatten(),\n",
        "                'targets': torch.tensor(self.targets[item], dtype = torch.long)}"
      ],
      "execution_count": 42,
      "outputs": []
    },
    {
      "cell_type": "code",
      "metadata": {
        "id": "tCTzyqZYXIeW",
        "colab_type": "code",
        "colab": {}
      },
      "source": [
        "# This function creates a data loader to convert the dataset to the BERT format\n",
        "# torch.utils.data.dataloader.DataLoader\n",
        "def create_data_loader(df, tokenizer, max_len, batch_size):\n",
        "    ds = DataBatcher(review = df.content.to_numpy(),\n",
        "                     targets = df.sentiment.to_numpy(),\n",
        "                     tokenizer = tokenizer,\n",
        "                     max_len = max_len)\n",
        "    \n",
        "    return data.DataLoader(ds, batch_size = batch_size, num_workers = 4)"
      ],
      "execution_count": 43,
      "outputs": []
    },
    {
      "cell_type": "code",
      "metadata": {
        "id": "kwUVa_o1ak2Z",
        "colab_type": "code",
        "colab": {}
      },
      "source": [
        "# Train test split\n",
        "df_train, df_test = train_test_split(df_reviews, test_size = 0.2) #, random_state = RANDOM_SEED"
      ],
      "execution_count": 44,
      "outputs": []
    },
    {
      "cell_type": "code",
      "metadata": {
        "id": "10IPnqCNa9TY",
        "colab_type": "code",
        "colab": {}
      },
      "source": [
        "# Test validation split\n",
        "df_valid, df_test = train_test_split(df_test, test_size = 0.5) #, random_state = RANDOM_SEED"
      ],
      "execution_count": 45,
      "outputs": []
    },
    {
      "cell_type": "code",
      "metadata": {
        "id": "HB9Ate-ibIwI",
        "colab_type": "code",
        "colab": {
          "base_uri": "https://localhost:8080/",
          "height": 68
        },
        "outputId": "95182261-2f3a-4987-fc21-f0b34d0e9db9"
      },
      "source": [
        "print(f'df_train.shape: {df_train.shape}')\n",
        "print(f'df_test.shape: {df_test.shape}')\n",
        "print(f'df_valid.shape: {df_valid.shape}')"
      ],
      "execution_count": 46,
      "outputs": [
        {
          "output_type": "stream",
          "text": [
            "df_train.shape: (4333, 13)\n",
            "df_test.shape: (542, 13)\n",
            "df_valid.shape: (542, 13)\n"
          ],
          "name": "stdout"
        }
      ]
    },
    {
      "cell_type": "code",
      "metadata": {
        "id": "xR1PDOgfbOSE",
        "colab_type": "code",
        "colab": {}
      },
      "source": [
        "# Load the data_loaders\n",
        "train_data_loader = create_data_loader(df_train, tokenizer, MAX_LENGTH, BATCH_SIZE)\n",
        "test_data_loader = create_data_loader(df_test, tokenizer, MAX_LENGTH, BATCH_SIZE)\n",
        "valid_data_loader = create_data_loader(df_valid, tokenizer, MAX_LENGTH, BATCH_SIZE)"
      ],
      "execution_count": 47,
      "outputs": []
    },
    {
      "cell_type": "code",
      "metadata": {
        "id": "-aYA0MAzb6DF",
        "colab_type": "code",
        "colab": {
          "base_uri": "https://localhost:8080/",
          "height": 68
        },
        "outputId": "02f99583-2ba1-4528-c0a4-00aa2928274c"
      },
      "source": [
        "# Visualize a sample on the training data\n",
        "sample = next(iter(train_data_loader))\n",
        "print(sample['input_ids'].shape)\n",
        "print(sample['attention_mask'].shape)\n",
        "print(sample['targets'].shape)"
      ],
      "execution_count": 48,
      "outputs": [
        {
          "output_type": "stream",
          "text": [
            "torch.Size([16, 150])\n",
            "torch.Size([16, 150])\n",
            "torch.Size([16])\n"
          ],
          "name": "stdout"
        }
      ]
    },
    {
      "cell_type": "code",
      "metadata": {
        "id": "oc_YcFW5cCL3",
        "colab_type": "code",
        "colab": {
          "base_uri": "https://localhost:8080/",
          "height": 258
        },
        "outputId": "76769035-1d10-45dc-875d-5c0f7124d03d"
      },
      "source": [
        "# Single review sample already on BERT format\n",
        "print(sample)"
      ],
      "execution_count": 49,
      "outputs": [
        {
          "output_type": "stream",
          "text": [
            "{'review_text': ['I would literally be lost without this. I manage a busy student clinic and it really does keep my grand plans organised in one place.....', '(1) will this app sustainable? (2) free plan features is way too basic to be useful (3) still not convinved ROI of subscription model (*) verdict: uninstall for now', 'Red notifications still showing unread , even I choose mark all as read , after a refresh, still showing unread', \"Why phone number needed for sign up?? Not enough that you can't even have a first look without signing up you have to introduce your phone number in order to do so. What's the reason? I hate that I have to sign up to every single app I just want to TRY if it's the right one for me. EDIT: Amazingly quick reaction to my post! I did the sign up again and was able to get access without being prompted for my phone number. Thank you and stay safe! (From 1 star to 4 stars)\", 'Very beautiful experience. Really easy to use. 5-stars because of the love and dedication. Some feedback to improve: Please fix the mind map view. Everytime you add something, it adds 3 more slots inside. It is really annoying to keep deleting them. Make it only be one or none. That is how we Veteran MindMap users work. Also, would love to see the mind map view on my Android too. Loved the integration and different views. Keep up the good work!', 'Good app and easy to use', \"I am quite disappointed that the sorting no longer applies to completed tasks. After years of missing this feature in Wunderlist, it was a very positive surprise seeing that it had been implemented in To-Do. Now it's gone again. If this change is not reverted, I will be dropping the app. It's a nice app but it doesn't serve me without that feature.\", 'So fsr so good.', \"Off the bat the app would not work with sso log in. On the browser, PC that is, no issues. My work app, ACTUALLY launches the browser I chose, when using the sso log in method. Yet Trello, literally tries to launch the web page within the app itself, as if were Facebook. Update: considering the decent response time and the provided support, I have increased my rating for this app to three stars. Let's see if this can be fixed! :)\", 'Love Trello. It had been one of my go to apps for many years.', 'thumbs up all the way. especially for the desktop version. the app crashes sometimes when i try attaching files via my phone on the Android app.', \"Really poor. I like the desktop version, but the android version is just so slow it's useless. Not really designed for a small screen either.\", \"Feature request: 1. undo delete or bin option 2. option to adjust snooze period (remind me tmrw mrng for eg.) 3. Option to add milestone to tasks so that it will be easy to keep track of the its progress. 4. Pls add option to change the default timings like 9am 2pm etc. 5. Also while adding a task itself please give option to 'remind me after 30 mins etc' instead of going through date and time adjustment.\", 'Really Excellent app. This is what I was searching since long back.', \"It's a nightmare when you forget your password. You simply have to move to a different platform\", 'Great app. Would love to see the addition of widgets for the dashboards.'], 'input_ids': tensor([[  101,   146,  1156,  ...,     0,     0,     0],\n",
            "        [  101,   113,   122,  ...,     0,     0,     0],\n",
            "        [  101,  2156,  1136,  ...,     0,     0,     0],\n",
            "        ...,\n",
            "        [  101,  8762, 25764,  ...,     0,     0,     0],\n",
            "        [  101,  1135,   112,  ...,     0,     0,     0],\n",
            "        [  101,  2038, 12647,  ...,     0,     0,     0]]), 'attention_mask': tensor([[1, 1, 1,  ..., 0, 0, 0],\n",
            "        [1, 1, 1,  ..., 0, 0, 0],\n",
            "        [1, 1, 1,  ..., 0, 0, 0],\n",
            "        ...,\n",
            "        [1, 1, 1,  ..., 0, 0, 0],\n",
            "        [1, 1, 1,  ..., 0, 0, 0],\n",
            "        [1, 1, 1,  ..., 0, 0, 0]]), 'targets': tensor([2, 0, 1, 2, 2, 2, 0, 2, 1, 2, 1, 0, 1, 2, 0, 2])}\n"
          ],
          "name": "stdout"
        }
      ]
    },
    {
      "cell_type": "markdown",
      "metadata": {
        "id": "RmNP2aN_eQ2I",
        "colab_type": "text"
      },
      "source": [
        "# Model"
      ]
    },
    {
      "cell_type": "code",
      "metadata": {
        "id": "Y8abeU8YeD8l",
        "colab_type": "code",
        "colab": {}
      },
      "source": [
        "# Loading the pre-trained BERT model\n",
        "model_bert = BertModel.from_pretrained('bert-base-cased')"
      ],
      "execution_count": 50,
      "outputs": []
    },
    {
      "cell_type": "code",
      "metadata": {
        "id": "B9liFxDKegEY",
        "colab_type": "code",
        "colab": {
          "base_uri": "https://localhost:8080/",
          "height": 1000
        },
        "outputId": "ce5271f4-0456-479a-f46a-f71bcde88b25"
      },
      "source": [
        "# Model\n",
        "model_bert"
      ],
      "execution_count": 51,
      "outputs": [
        {
          "output_type": "execute_result",
          "data": {
            "text/plain": [
              "BertModel(\n",
              "  (embeddings): BertEmbeddings(\n",
              "    (word_embeddings): Embedding(28996, 768, padding_idx=0)\n",
              "    (position_embeddings): Embedding(512, 768)\n",
              "    (token_type_embeddings): Embedding(2, 768)\n",
              "    (LayerNorm): LayerNorm((768,), eps=1e-12, elementwise_affine=True)\n",
              "    (dropout): Dropout(p=0.1, inplace=False)\n",
              "  )\n",
              "  (encoder): BertEncoder(\n",
              "    (layer): ModuleList(\n",
              "      (0): BertLayer(\n",
              "        (attention): BertAttention(\n",
              "          (self): BertSelfAttention(\n",
              "            (query): Linear(in_features=768, out_features=768, bias=True)\n",
              "            (key): Linear(in_features=768, out_features=768, bias=True)\n",
              "            (value): Linear(in_features=768, out_features=768, bias=True)\n",
              "            (dropout): Dropout(p=0.1, inplace=False)\n",
              "          )\n",
              "          (output): BertSelfOutput(\n",
              "            (dense): Linear(in_features=768, out_features=768, bias=True)\n",
              "            (LayerNorm): LayerNorm((768,), eps=1e-12, elementwise_affine=True)\n",
              "            (dropout): Dropout(p=0.1, inplace=False)\n",
              "          )\n",
              "        )\n",
              "        (intermediate): BertIntermediate(\n",
              "          (dense): Linear(in_features=768, out_features=3072, bias=True)\n",
              "        )\n",
              "        (output): BertOutput(\n",
              "          (dense): Linear(in_features=3072, out_features=768, bias=True)\n",
              "          (LayerNorm): LayerNorm((768,), eps=1e-12, elementwise_affine=True)\n",
              "          (dropout): Dropout(p=0.1, inplace=False)\n",
              "        )\n",
              "      )\n",
              "      (1): BertLayer(\n",
              "        (attention): BertAttention(\n",
              "          (self): BertSelfAttention(\n",
              "            (query): Linear(in_features=768, out_features=768, bias=True)\n",
              "            (key): Linear(in_features=768, out_features=768, bias=True)\n",
              "            (value): Linear(in_features=768, out_features=768, bias=True)\n",
              "            (dropout): Dropout(p=0.1, inplace=False)\n",
              "          )\n",
              "          (output): BertSelfOutput(\n",
              "            (dense): Linear(in_features=768, out_features=768, bias=True)\n",
              "            (LayerNorm): LayerNorm((768,), eps=1e-12, elementwise_affine=True)\n",
              "            (dropout): Dropout(p=0.1, inplace=False)\n",
              "          )\n",
              "        )\n",
              "        (intermediate): BertIntermediate(\n",
              "          (dense): Linear(in_features=768, out_features=3072, bias=True)\n",
              "        )\n",
              "        (output): BertOutput(\n",
              "          (dense): Linear(in_features=3072, out_features=768, bias=True)\n",
              "          (LayerNorm): LayerNorm((768,), eps=1e-12, elementwise_affine=True)\n",
              "          (dropout): Dropout(p=0.1, inplace=False)\n",
              "        )\n",
              "      )\n",
              "      (2): BertLayer(\n",
              "        (attention): BertAttention(\n",
              "          (self): BertSelfAttention(\n",
              "            (query): Linear(in_features=768, out_features=768, bias=True)\n",
              "            (key): Linear(in_features=768, out_features=768, bias=True)\n",
              "            (value): Linear(in_features=768, out_features=768, bias=True)\n",
              "            (dropout): Dropout(p=0.1, inplace=False)\n",
              "          )\n",
              "          (output): BertSelfOutput(\n",
              "            (dense): Linear(in_features=768, out_features=768, bias=True)\n",
              "            (LayerNorm): LayerNorm((768,), eps=1e-12, elementwise_affine=True)\n",
              "            (dropout): Dropout(p=0.1, inplace=False)\n",
              "          )\n",
              "        )\n",
              "        (intermediate): BertIntermediate(\n",
              "          (dense): Linear(in_features=768, out_features=3072, bias=True)\n",
              "        )\n",
              "        (output): BertOutput(\n",
              "          (dense): Linear(in_features=3072, out_features=768, bias=True)\n",
              "          (LayerNorm): LayerNorm((768,), eps=1e-12, elementwise_affine=True)\n",
              "          (dropout): Dropout(p=0.1, inplace=False)\n",
              "        )\n",
              "      )\n",
              "      (3): BertLayer(\n",
              "        (attention): BertAttention(\n",
              "          (self): BertSelfAttention(\n",
              "            (query): Linear(in_features=768, out_features=768, bias=True)\n",
              "            (key): Linear(in_features=768, out_features=768, bias=True)\n",
              "            (value): Linear(in_features=768, out_features=768, bias=True)\n",
              "            (dropout): Dropout(p=0.1, inplace=False)\n",
              "          )\n",
              "          (output): BertSelfOutput(\n",
              "            (dense): Linear(in_features=768, out_features=768, bias=True)\n",
              "            (LayerNorm): LayerNorm((768,), eps=1e-12, elementwise_affine=True)\n",
              "            (dropout): Dropout(p=0.1, inplace=False)\n",
              "          )\n",
              "        )\n",
              "        (intermediate): BertIntermediate(\n",
              "          (dense): Linear(in_features=768, out_features=3072, bias=True)\n",
              "        )\n",
              "        (output): BertOutput(\n",
              "          (dense): Linear(in_features=3072, out_features=768, bias=True)\n",
              "          (LayerNorm): LayerNorm((768,), eps=1e-12, elementwise_affine=True)\n",
              "          (dropout): Dropout(p=0.1, inplace=False)\n",
              "        )\n",
              "      )\n",
              "      (4): BertLayer(\n",
              "        (attention): BertAttention(\n",
              "          (self): BertSelfAttention(\n",
              "            (query): Linear(in_features=768, out_features=768, bias=True)\n",
              "            (key): Linear(in_features=768, out_features=768, bias=True)\n",
              "            (value): Linear(in_features=768, out_features=768, bias=True)\n",
              "            (dropout): Dropout(p=0.1, inplace=False)\n",
              "          )\n",
              "          (output): BertSelfOutput(\n",
              "            (dense): Linear(in_features=768, out_features=768, bias=True)\n",
              "            (LayerNorm): LayerNorm((768,), eps=1e-12, elementwise_affine=True)\n",
              "            (dropout): Dropout(p=0.1, inplace=False)\n",
              "          )\n",
              "        )\n",
              "        (intermediate): BertIntermediate(\n",
              "          (dense): Linear(in_features=768, out_features=3072, bias=True)\n",
              "        )\n",
              "        (output): BertOutput(\n",
              "          (dense): Linear(in_features=3072, out_features=768, bias=True)\n",
              "          (LayerNorm): LayerNorm((768,), eps=1e-12, elementwise_affine=True)\n",
              "          (dropout): Dropout(p=0.1, inplace=False)\n",
              "        )\n",
              "      )\n",
              "      (5): BertLayer(\n",
              "        (attention): BertAttention(\n",
              "          (self): BertSelfAttention(\n",
              "            (query): Linear(in_features=768, out_features=768, bias=True)\n",
              "            (key): Linear(in_features=768, out_features=768, bias=True)\n",
              "            (value): Linear(in_features=768, out_features=768, bias=True)\n",
              "            (dropout): Dropout(p=0.1, inplace=False)\n",
              "          )\n",
              "          (output): BertSelfOutput(\n",
              "            (dense): Linear(in_features=768, out_features=768, bias=True)\n",
              "            (LayerNorm): LayerNorm((768,), eps=1e-12, elementwise_affine=True)\n",
              "            (dropout): Dropout(p=0.1, inplace=False)\n",
              "          )\n",
              "        )\n",
              "        (intermediate): BertIntermediate(\n",
              "          (dense): Linear(in_features=768, out_features=3072, bias=True)\n",
              "        )\n",
              "        (output): BertOutput(\n",
              "          (dense): Linear(in_features=3072, out_features=768, bias=True)\n",
              "          (LayerNorm): LayerNorm((768,), eps=1e-12, elementwise_affine=True)\n",
              "          (dropout): Dropout(p=0.1, inplace=False)\n",
              "        )\n",
              "      )\n",
              "      (6): BertLayer(\n",
              "        (attention): BertAttention(\n",
              "          (self): BertSelfAttention(\n",
              "            (query): Linear(in_features=768, out_features=768, bias=True)\n",
              "            (key): Linear(in_features=768, out_features=768, bias=True)\n",
              "            (value): Linear(in_features=768, out_features=768, bias=True)\n",
              "            (dropout): Dropout(p=0.1, inplace=False)\n",
              "          )\n",
              "          (output): BertSelfOutput(\n",
              "            (dense): Linear(in_features=768, out_features=768, bias=True)\n",
              "            (LayerNorm): LayerNorm((768,), eps=1e-12, elementwise_affine=True)\n",
              "            (dropout): Dropout(p=0.1, inplace=False)\n",
              "          )\n",
              "        )\n",
              "        (intermediate): BertIntermediate(\n",
              "          (dense): Linear(in_features=768, out_features=3072, bias=True)\n",
              "        )\n",
              "        (output): BertOutput(\n",
              "          (dense): Linear(in_features=3072, out_features=768, bias=True)\n",
              "          (LayerNorm): LayerNorm((768,), eps=1e-12, elementwise_affine=True)\n",
              "          (dropout): Dropout(p=0.1, inplace=False)\n",
              "        )\n",
              "      )\n",
              "      (7): BertLayer(\n",
              "        (attention): BertAttention(\n",
              "          (self): BertSelfAttention(\n",
              "            (query): Linear(in_features=768, out_features=768, bias=True)\n",
              "            (key): Linear(in_features=768, out_features=768, bias=True)\n",
              "            (value): Linear(in_features=768, out_features=768, bias=True)\n",
              "            (dropout): Dropout(p=0.1, inplace=False)\n",
              "          )\n",
              "          (output): BertSelfOutput(\n",
              "            (dense): Linear(in_features=768, out_features=768, bias=True)\n",
              "            (LayerNorm): LayerNorm((768,), eps=1e-12, elementwise_affine=True)\n",
              "            (dropout): Dropout(p=0.1, inplace=False)\n",
              "          )\n",
              "        )\n",
              "        (intermediate): BertIntermediate(\n",
              "          (dense): Linear(in_features=768, out_features=3072, bias=True)\n",
              "        )\n",
              "        (output): BertOutput(\n",
              "          (dense): Linear(in_features=3072, out_features=768, bias=True)\n",
              "          (LayerNorm): LayerNorm((768,), eps=1e-12, elementwise_affine=True)\n",
              "          (dropout): Dropout(p=0.1, inplace=False)\n",
              "        )\n",
              "      )\n",
              "      (8): BertLayer(\n",
              "        (attention): BertAttention(\n",
              "          (self): BertSelfAttention(\n",
              "            (query): Linear(in_features=768, out_features=768, bias=True)\n",
              "            (key): Linear(in_features=768, out_features=768, bias=True)\n",
              "            (value): Linear(in_features=768, out_features=768, bias=True)\n",
              "            (dropout): Dropout(p=0.1, inplace=False)\n",
              "          )\n",
              "          (output): BertSelfOutput(\n",
              "            (dense): Linear(in_features=768, out_features=768, bias=True)\n",
              "            (LayerNorm): LayerNorm((768,), eps=1e-12, elementwise_affine=True)\n",
              "            (dropout): Dropout(p=0.1, inplace=False)\n",
              "          )\n",
              "        )\n",
              "        (intermediate): BertIntermediate(\n",
              "          (dense): Linear(in_features=768, out_features=3072, bias=True)\n",
              "        )\n",
              "        (output): BertOutput(\n",
              "          (dense): Linear(in_features=3072, out_features=768, bias=True)\n",
              "          (LayerNorm): LayerNorm((768,), eps=1e-12, elementwise_affine=True)\n",
              "          (dropout): Dropout(p=0.1, inplace=False)\n",
              "        )\n",
              "      )\n",
              "      (9): BertLayer(\n",
              "        (attention): BertAttention(\n",
              "          (self): BertSelfAttention(\n",
              "            (query): Linear(in_features=768, out_features=768, bias=True)\n",
              "            (key): Linear(in_features=768, out_features=768, bias=True)\n",
              "            (value): Linear(in_features=768, out_features=768, bias=True)\n",
              "            (dropout): Dropout(p=0.1, inplace=False)\n",
              "          )\n",
              "          (output): BertSelfOutput(\n",
              "            (dense): Linear(in_features=768, out_features=768, bias=True)\n",
              "            (LayerNorm): LayerNorm((768,), eps=1e-12, elementwise_affine=True)\n",
              "            (dropout): Dropout(p=0.1, inplace=False)\n",
              "          )\n",
              "        )\n",
              "        (intermediate): BertIntermediate(\n",
              "          (dense): Linear(in_features=768, out_features=3072, bias=True)\n",
              "        )\n",
              "        (output): BertOutput(\n",
              "          (dense): Linear(in_features=3072, out_features=768, bias=True)\n",
              "          (LayerNorm): LayerNorm((768,), eps=1e-12, elementwise_affine=True)\n",
              "          (dropout): Dropout(p=0.1, inplace=False)\n",
              "        )\n",
              "      )\n",
              "      (10): BertLayer(\n",
              "        (attention): BertAttention(\n",
              "          (self): BertSelfAttention(\n",
              "            (query): Linear(in_features=768, out_features=768, bias=True)\n",
              "            (key): Linear(in_features=768, out_features=768, bias=True)\n",
              "            (value): Linear(in_features=768, out_features=768, bias=True)\n",
              "            (dropout): Dropout(p=0.1, inplace=False)\n",
              "          )\n",
              "          (output): BertSelfOutput(\n",
              "            (dense): Linear(in_features=768, out_features=768, bias=True)\n",
              "            (LayerNorm): LayerNorm((768,), eps=1e-12, elementwise_affine=True)\n",
              "            (dropout): Dropout(p=0.1, inplace=False)\n",
              "          )\n",
              "        )\n",
              "        (intermediate): BertIntermediate(\n",
              "          (dense): Linear(in_features=768, out_features=3072, bias=True)\n",
              "        )\n",
              "        (output): BertOutput(\n",
              "          (dense): Linear(in_features=3072, out_features=768, bias=True)\n",
              "          (LayerNorm): LayerNorm((768,), eps=1e-12, elementwise_affine=True)\n",
              "          (dropout): Dropout(p=0.1, inplace=False)\n",
              "        )\n",
              "      )\n",
              "      (11): BertLayer(\n",
              "        (attention): BertAttention(\n",
              "          (self): BertSelfAttention(\n",
              "            (query): Linear(in_features=768, out_features=768, bias=True)\n",
              "            (key): Linear(in_features=768, out_features=768, bias=True)\n",
              "            (value): Linear(in_features=768, out_features=768, bias=True)\n",
              "            (dropout): Dropout(p=0.1, inplace=False)\n",
              "          )\n",
              "          (output): BertSelfOutput(\n",
              "            (dense): Linear(in_features=768, out_features=768, bias=True)\n",
              "            (LayerNorm): LayerNorm((768,), eps=1e-12, elementwise_affine=True)\n",
              "            (dropout): Dropout(p=0.1, inplace=False)\n",
              "          )\n",
              "        )\n",
              "        (intermediate): BertIntermediate(\n",
              "          (dense): Linear(in_features=768, out_features=3072, bias=True)\n",
              "        )\n",
              "        (output): BertOutput(\n",
              "          (dense): Linear(in_features=3072, out_features=768, bias=True)\n",
              "          (LayerNorm): LayerNorm((768,), eps=1e-12, elementwise_affine=True)\n",
              "          (dropout): Dropout(p=0.1, inplace=False)\n",
              "        )\n",
              "      )\n",
              "    )\n",
              "  )\n",
              "  (pooler): BertPooler(\n",
              "    (dense): Linear(in_features=768, out_features=768, bias=True)\n",
              "    (activation): Tanh()\n",
              "  )\n",
              ")"
            ]
          },
          "metadata": {
            "tags": []
          },
          "execution_count": 51
        }
      ]
    },
    {
      "cell_type": "code",
      "metadata": {
        "id": "S3GJjj_lejKb",
        "colab_type": "code",
        "colab": {}
      },
      "source": [
        "# Visualize the shape of the last dense layer and the last pooling layer\n",
        "last_hidden_state, pooled_output = model_bert(input_ids = encoding['input_ids'], attention_mask = encoding['attention_mask'])"
      ],
      "execution_count": 52,
      "outputs": []
    },
    {
      "cell_type": "code",
      "metadata": {
        "id": "TznQsrRee-WH",
        "colab_type": "code",
        "colab": {
          "base_uri": "https://localhost:8080/",
          "height": 34
        },
        "outputId": "a2a4d77a-7e12-4e2d-8429-8a45430a46fb"
      },
      "source": [
        "last_hidden_state.shape"
      ],
      "execution_count": 53,
      "outputs": [
        {
          "output_type": "execute_result",
          "data": {
            "text/plain": [
              "torch.Size([1, 32, 768])"
            ]
          },
          "metadata": {
            "tags": []
          },
          "execution_count": 53
        }
      ]
    },
    {
      "cell_type": "code",
      "metadata": {
        "id": "8WKbgB1_fCe0",
        "colab_type": "code",
        "colab": {
          "base_uri": "https://localhost:8080/",
          "height": 34
        },
        "outputId": "565d34c6-cfaf-4e17-9fb5-6ce29e1d7bf8"
      },
      "source": [
        "pooled_output.shape"
      ],
      "execution_count": 54,
      "outputs": [
        {
          "output_type": "execute_result",
          "data": {
            "text/plain": [
              "torch.Size([1, 768])"
            ]
          },
          "metadata": {
            "tags": []
          },
          "execution_count": 54
        }
      ]
    },
    {
      "cell_type": "markdown",
      "metadata": {
        "id": "f6N1ejHYfNxL",
        "colab_type": "text"
      },
      "source": [
        "Adding the layers relative to my specific model.\n",
        "\n",
        "Only those get trained in practice."
      ]
    },
    {
      "cell_type": "code",
      "metadata": {
        "id": "xvIRwZYafFUo",
        "colab_type": "code",
        "colab": {}
      },
      "source": [
        "class SentimentClassifier(nn.Module):\n",
        "\n",
        "    # Constructor\n",
        "    def __init__ (self, n_classes):\n",
        "\n",
        "        # Initialize atributes\n",
        "        super(SentimentClassifier, self).__init__()\n",
        "\n",
        "        # Define the pre-trained BERT model\n",
        "        self.bert = BertModel.from_pretrained('bert-base-cased')\n",
        "\n",
        "        # Add a dropout layer\n",
        "        self.drop1 = nn.Dropout()\n",
        "\n",
        "        # Add a hidden layer\n",
        "        self.fc1 = nn.Linear(self.bert.config.hidden_size, 100)\n",
        "\n",
        "        # Add a dense layer\n",
        "        self.fc2 = nn.Linear(100, n_classes)\n",
        "\n",
        "        # Final classification with softmax\n",
        "        self.softmax = nn.Softmax(dim = 1)\n",
        "\n",
        "    # Forward method\n",
        "    def forward(self, input_ids, attention_mask):\n",
        "\n",
        "        # Load the pooling layer from BERT\n",
        "        _, pooled_output = self.bert(input_ids = input_ids, attention_mask = attention_mask)\n",
        "\n",
        "        # Define the outputs from the created layers\n",
        "        output = self.drop1(pooled_output)\n",
        "        output = self.fc1(output)\n",
        "        output = self.fc2(output)\n",
        "\n",
        "        # Return\n",
        "        return self.softmax(output)"
      ],
      "execution_count": 55,
      "outputs": []
    },
    {
      "cell_type": "code",
      "metadata": {
        "id": "LyTVSxJkheZA",
        "colab_type": "code",
        "colab": {
          "base_uri": "https://localhost:8080/",
          "height": 34
        },
        "outputId": "d8921d58-a40d-468b-ac72-30955aecacb0"
      },
      "source": [
        "# Setting the device to GPU\n",
        "device = torch.device('cuda:0' if torch.cuda.is_available() else 'cpu')\n",
        "device"
      ],
      "execution_count": 56,
      "outputs": [
        {
          "output_type": "execute_result",
          "data": {
            "text/plain": [
              "device(type='cuda', index=0)"
            ]
          },
          "metadata": {
            "tags": []
          },
          "execution_count": 56
        }
      ]
    },
    {
      "cell_type": "code",
      "metadata": {
        "id": "vg6UXen4huFu",
        "colab_type": "code",
        "colab": {}
      },
      "source": [
        "# Create instance of the model\n",
        "model_sentiment_classifier = SentimentClassifier(len(class_names))"
      ],
      "execution_count": 57,
      "outputs": []
    },
    {
      "cell_type": "code",
      "metadata": {
        "id": "q4P_2CD6iibh",
        "colab_type": "code",
        "colab": {}
      },
      "source": [
        "# Send model to the device\n",
        "model_sentiment_classifier = model_sentiment_classifier.to(device)"
      ],
      "execution_count": 58,
      "outputs": []
    },
    {
      "cell_type": "code",
      "metadata": {
        "id": "WPi_tv-vii9T",
        "colab_type": "code",
        "colab": {}
      },
      "source": [
        "# Load the inputs and attention mask\n",
        "input_ids = sample['input_ids'].to(device)\n",
        "attention_mask = sample['attention_mask'].to(device)"
      ],
      "execution_count": 59,
      "outputs": []
    },
    {
      "cell_type": "code",
      "metadata": {
        "id": "VMufor44i_jN",
        "colab_type": "code",
        "colab": {
          "base_uri": "https://localhost:8080/",
          "height": 51
        },
        "outputId": "feb6b8a7-b639-44c6-d1d0-3340bb391f61"
      },
      "source": [
        "# Print\n",
        "print(input_ids.shape)\n",
        "print(attention_mask.shape)"
      ],
      "execution_count": 60,
      "outputs": [
        {
          "output_type": "stream",
          "text": [
            "torch.Size([16, 150])\n",
            "torch.Size([16, 150])\n"
          ],
          "name": "stdout"
        }
      ]
    },
    {
      "cell_type": "code",
      "metadata": {
        "id": "XdArbNADjC5Y",
        "colab_type": "code",
        "colab": {
          "base_uri": "https://localhost:8080/",
          "height": 289
        },
        "outputId": "68b49163-e1bd-45c2-909f-1f57420af6e5"
      },
      "source": [
        "# Load the inputs and attention mask onto the model\n",
        "model_sentiment_classifier(input_ids, attention_mask)"
      ],
      "execution_count": 61,
      "outputs": [
        {
          "output_type": "execute_result",
          "data": {
            "text/plain": [
              "tensor([[0.3765, 0.3467, 0.2767],\n",
              "        [0.2645, 0.3171, 0.4184],\n",
              "        [0.2249, 0.2132, 0.5619],\n",
              "        [0.2705, 0.2744, 0.4551],\n",
              "        [0.3308, 0.3413, 0.3279],\n",
              "        [0.2804, 0.3767, 0.3429],\n",
              "        [0.4921, 0.2083, 0.2996],\n",
              "        [0.3243, 0.3499, 0.3258],\n",
              "        [0.2173, 0.3410, 0.4417],\n",
              "        [0.3276, 0.3341, 0.3383],\n",
              "        [0.3849, 0.3434, 0.2717],\n",
              "        [0.4063, 0.2403, 0.3533],\n",
              "        [0.4087, 0.3232, 0.2681],\n",
              "        [0.3955, 0.1935, 0.4110],\n",
              "        [0.1764, 0.2537, 0.5699],\n",
              "        [0.3228, 0.2547, 0.4225]], device='cuda:0', grad_fn=<SoftmaxBackward>)"
            ]
          },
          "metadata": {
            "tags": []
          },
          "execution_count": 61
        }
      ]
    },
    {
      "cell_type": "code",
      "metadata": {
        "id": "2LBE70jfjZJa",
        "colab_type": "code",
        "colab": {}
      },
      "source": [
        "# The original BERT model uses AdamW: algorithm with fixed decay weight\n",
        "optimizer = AdamW(model_sentiment_classifier.parameters(), lr = LEARNING_RATE, correct_bias = False)"
      ],
      "execution_count": 62,
      "outputs": []
    },
    {
      "cell_type": "code",
      "metadata": {
        "id": "z8ePfagrjw0_",
        "colab_type": "code",
        "colab": {}
      },
      "source": [
        "# Defining the total number of steps\n",
        "total_step = len(train_data_loader) * EPOCHS"
      ],
      "execution_count": 63,
      "outputs": []
    },
    {
      "cell_type": "code",
      "metadata": {
        "id": "4nVDvag1j55J",
        "colab_type": "code",
        "colab": {}
      },
      "source": [
        "# Adjust the learning rate\n",
        "scheduler = get_linear_schedule_with_warmup(optimizer, num_warmup_steps = 0, num_training_steps = total_step)"
      ],
      "execution_count": 64,
      "outputs": []
    },
    {
      "cell_type": "code",
      "metadata": {
        "id": "_6tI-dshkRS9",
        "colab_type": "code",
        "colab": {}
      },
      "source": [
        "# Loss function\n",
        "loss_fn = nn.CrossEntropyLoss().to(device)\n",
        "#loss_fn = nn.NLLLoss().to(device)\n",
        "#loss_fn = nn.MultiMarginLoss().to(device)"
      ],
      "execution_count": 65,
      "outputs": []
    },
    {
      "cell_type": "code",
      "metadata": {
        "id": "8vEtprs8kZz7",
        "colab_type": "code",
        "colab": {}
      },
      "source": [
        "# Train function\n",
        "def train_model(model, data_loader, loss_fn, optimizer, device, scheduler, n_examples):\n",
        "\n",
        "    # Prepare for training\n",
        "    model = model.train()\n",
        "    losses = []\n",
        "    correct_prediction = 0\n",
        "\n",
        "    # Loop through the data samples\n",
        "    # Complete Deep Learing cicle\n",
        "    for d in data_loader:\n",
        "        input_ids = d['input_ids'].to(device)\n",
        "        attention_mask = d['attention_mask'].to(device)\n",
        "        targets = d['targets'].to(device)\n",
        "        outputs = model(input_ids = input_ids, attention_mask = attention_mask)\n",
        "\n",
        "        _, preds = torch.max(outputs, dim = 1)\n",
        "        loss = loss_fn(outputs, targets)\n",
        "\n",
        "        correct_prediction += torch.sum(preds == targets)\n",
        "        losses.append(loss.item())\n",
        "\n",
        "        loss.backward()\n",
        "        nn.utils.clip_grad_norm_(model.parameters(), max_norm = 1.0)\n",
        "        optimizer.step()\n",
        "        scheduler.step()\n",
        "        optimizer.zero_grad()\n",
        "\n",
        "    return correct_prediction.double() / n_examples, np.mean(losses)"
      ],
      "execution_count": 66,
      "outputs": []
    },
    {
      "cell_type": "code",
      "metadata": {
        "id": "yFqVyhXdk-S0",
        "colab_type": "code",
        "colab": {}
      },
      "source": [
        "# Evaluate function\n",
        "def evaluate_model(model, data_loader, loss_fn, device, n_examples):\n",
        "\n",
        "    model.eval()\n",
        "    losses = []\n",
        "    correct_prediction = 0\n",
        "\n",
        "    with torch.no_grad():\n",
        "        for d in data_loader:\n",
        "            input_ids = d['input_ids'].to(device)\n",
        "            attention_mask = d['attention_mask'].to(device)\n",
        "            targets = d['targets'].to(device)\n",
        "            outputs = model(input_ids = input_ids, attention_mask = attention_mask)\n",
        "\n",
        "            _, preds = torch.max(outputs, dim = 1)\n",
        "            loss = loss_fn(outputs, targets)\n",
        "\n",
        "            correct_prediction += torch.sum(preds == targets)\n",
        "            losses.append(loss.item())\n",
        "\n",
        "    return correct_prediction.double() / n_examples, np.mean(losses)"
      ],
      "execution_count": 67,
      "outputs": []
    },
    {
      "cell_type": "markdown",
      "metadata": {
        "id": "P3pEvDeNmeRX",
        "colab_type": "text"
      },
      "source": [
        "# Training"
      ]
    },
    {
      "cell_type": "code",
      "metadata": {
        "id": "AFb9z3zvmWff",
        "colab_type": "code",
        "colab": {
          "base_uri": "https://localhost:8080/",
          "height": 1000
        },
        "outputId": "e8303b39-f5a6-49be-f34c-fe54a6138251"
      },
      "source": [
        "%%time\n",
        "\n",
        "# Store the train history\n",
        "history = defaultdict(list)\n",
        "\n",
        "# Control the best accuracy\n",
        "now = datetime.datetime.now().strftime(\"%Y-%m-%d-%H-%M-%S\")\n",
        "best_accuracy = 0\n",
        "\n",
        "# Loop\n",
        "for epoch in range(EPOCHS):\n",
        "\n",
        "    print(f'Epoch {epoch+1}/{EPOCHS}')\n",
        "    print('-' * 10)\n",
        "    train_acc, train_loss = train_model(model_sentiment_classifier,\n",
        "                                        train_data_loader,\n",
        "                                        loss_fn,\n",
        "                                        optimizer,\n",
        "                                        device,\n",
        "                                        scheduler,\n",
        "                                        len(df_train))\n",
        "    \n",
        "    print(f'Train error: {train_loss} Train accuracy: {train_acc}')\n",
        "\n",
        "    valid_acc, valid_loss = evaluate_model(model_sentiment_classifier,\n",
        "                                           valid_data_loader,\n",
        "                                           loss_fn,\n",
        "                                           device,\n",
        "                                           len(df_valid))\n",
        "    \n",
        "    print(f'Validation error: {valid_loss} Validation accuracy: {valid_acc}')\n",
        "    print()\n",
        "\n",
        "    history['train_acc'].append(train_acc)\n",
        "    history['train_loss'].append(train_loss)\n",
        "\n",
        "    history['valid_acc'].append(valid_acc)\n",
        "    history['valid_loss'].append(valid_loss)\n",
        "\n",
        "    if valid_acc > best_accuracy:\n",
        "        torch.save(model_sentiment_classifier.state_dict(), f'models/model_sentiment_classifier_{now}.bin')\n",
        "        best_accuracy = valid_acc"
      ],
      "execution_count": 68,
      "outputs": [
        {
          "output_type": "stream",
          "text": [
            "Epoch 1/20\n",
            "----------\n",
            "Train error: 0.9689015297432227 Train accuracy: 0.5550426955919686\n",
            "Validation error: 0.9876737997812384 Validation accuracy: 0.5535055350553505\n",
            "\n",
            "Epoch 2/20\n",
            "----------\n",
            "Train error: 0.8720542777508388 Train accuracy: 0.6665128086775907\n",
            "Validation error: 0.8889718458932989 Validation accuracy: 0.6494464944649446\n",
            "\n",
            "Epoch 3/20\n",
            "----------\n",
            "Train error: 0.7904759377131163 Train accuracy: 0.7569813062543272\n",
            "Validation error: 0.8591430309940787 Validation accuracy: 0.6900369003690037\n",
            "\n",
            "Epoch 4/20\n",
            "----------\n",
            "Train error: 0.7303455419206092 Train accuracy: 0.8186014308792985\n",
            "Validation error: 0.8374723932322334 Validation accuracy: 0.7084870848708487\n",
            "\n",
            "Epoch 5/20\n",
            "----------\n",
            "Train error: 0.7050722646097416 Train accuracy: 0.8453727209785369\n",
            "Validation error: 0.8022963913048015 Validation accuracy: 0.7472324723247232\n",
            "\n",
            "Epoch 6/20\n",
            "----------\n",
            "Train error: 0.6873861494099522 Train accuracy: 0.8636048926840526\n",
            "Validation error: 0.8048255741596222 Validation accuracy: 0.7435424354243543\n",
            "\n",
            "Epoch 7/20\n",
            "----------\n",
            "Train error: 0.6782636818410726 Train accuracy: 0.8723747980613894\n",
            "Validation error: 0.7946215657626882 Validation accuracy: 0.7546125461254612\n",
            "\n",
            "Epoch 8/20\n",
            "----------\n",
            "Train error: 0.6710077627558549 Train accuracy: 0.8802215555042696\n",
            "Validation error: 0.8055428073686712 Validation accuracy: 0.7453874538745388\n",
            "\n",
            "Epoch 9/20\n",
            "----------\n",
            "Train error: 0.6633158882605633 Train accuracy: 0.8876067389799216\n",
            "Validation error: 0.7873189747333527 Validation accuracy: 0.7619926199261993\n",
            "\n",
            "Epoch 10/20\n",
            "----------\n",
            "Train error: 0.6607069258760262 Train accuracy: 0.8906069697669052\n",
            "Validation error: 0.7916684448719025 Validation accuracy: 0.7601476014760148\n",
            "\n",
            "Epoch 11/20\n",
            "----------\n",
            "Train error: 0.6612049781088459 Train accuracy: 0.8896838218324487\n",
            "Validation error: 0.7964956374729381 Validation accuracy: 0.7509225092250922\n",
            "\n",
            "Epoch 12/20\n",
            "----------\n",
            "Train error: 0.65822227370695 Train accuracy: 0.8929148396030464\n",
            "Validation error: 0.7951066686826593 Validation accuracy: 0.7546125461254612\n",
            "\n",
            "Epoch 13/20\n",
            "----------\n",
            "Train error: 0.6560772472642005 Train accuracy: 0.8952227094391877\n",
            "Validation error: 0.7825262669254752 Validation accuracy: 0.7675276752767527\n",
            "\n",
            "Epoch 14/20\n",
            "----------\n",
            "Train error: 0.6532326492436258 Train accuracy: 0.8979921532425572\n",
            "Validation error: 0.7908898907549241 Validation accuracy: 0.7601476014760148\n",
            "\n",
            "Epoch 15/20\n",
            "----------\n",
            "Train error: 0.6529543030305982 Train accuracy: 0.8984537272097854\n",
            "Validation error: 0.7783011688905603 Validation accuracy: 0.7730627306273062\n",
            "\n",
            "Epoch 16/20\n",
            "----------\n",
            "Train error: 0.6520823840725466 Train accuracy: 0.8993768751442419\n",
            "Validation error: 0.7922141797402326 Validation accuracy: 0.7564575645756457\n",
            "\n",
            "Epoch 17/20\n",
            "----------\n",
            "Train error: 0.6508043940656739 Train accuracy: 0.9005308100623125\n",
            "Validation error: 0.7899665552027085 Validation accuracy: 0.7601476014760148\n",
            "\n",
            "Epoch 18/20\n",
            "----------\n",
            "Train error: 0.6498947414084995 Train accuracy: 0.901453957996769\n",
            "Validation error: 0.7887921000228209 Validation accuracy: 0.7619926199261993\n",
            "\n",
            "Epoch 19/20\n",
            "----------\n",
            "Train error: 0.6494889446290216 Train accuracy: 0.9021463189476114\n",
            "Validation error: 0.789342100129408 Validation accuracy: 0.7619926199261993\n",
            "\n",
            "Epoch 20/20\n",
            "----------\n",
            "Train error: 0.6492757126414028 Train accuracy: 0.9021463189476114\n",
            "Validation error: 0.7915308124878827 Validation accuracy: 0.7583025830258302\n",
            "\n",
            "CPU times: user 23min 53s, sys: 15min 22s, total: 39min 15s\n",
            "Wall time: 39min 48s\n"
          ],
          "name": "stdout"
        }
      ]
    },
    {
      "cell_type": "markdown",
      "metadata": {
        "id": "VVIThTWkxbCo",
        "colab_type": "text"
      },
      "source": [
        "Model trained and saved to disk!"
      ]
    },
    {
      "cell_type": "code",
      "metadata": {
        "id": "XinAcKd_AYLs",
        "colab_type": "code",
        "colab": {
          "base_uri": "https://localhost:8080/",
          "height": 1000
        },
        "outputId": "c0f32390-af36-4729-b105-50895ac65821"
      },
      "source": [
        "history"
      ],
      "execution_count": 69,
      "outputs": [
        {
          "output_type": "execute_result",
          "data": {
            "text/plain": [
              "defaultdict(list,\n",
              "            {'train_acc': [tensor(0.5550, device='cuda:0', dtype=torch.float64),\n",
              "              tensor(0.6665, device='cuda:0', dtype=torch.float64),\n",
              "              tensor(0.7570, device='cuda:0', dtype=torch.float64),\n",
              "              tensor(0.8186, device='cuda:0', dtype=torch.float64),\n",
              "              tensor(0.8454, device='cuda:0', dtype=torch.float64),\n",
              "              tensor(0.8636, device='cuda:0', dtype=torch.float64),\n",
              "              tensor(0.8724, device='cuda:0', dtype=torch.float64),\n",
              "              tensor(0.8802, device='cuda:0', dtype=torch.float64),\n",
              "              tensor(0.8876, device='cuda:0', dtype=torch.float64),\n",
              "              tensor(0.8906, device='cuda:0', dtype=torch.float64),\n",
              "              tensor(0.8897, device='cuda:0', dtype=torch.float64),\n",
              "              tensor(0.8929, device='cuda:0', dtype=torch.float64),\n",
              "              tensor(0.8952, device='cuda:0', dtype=torch.float64),\n",
              "              tensor(0.8980, device='cuda:0', dtype=torch.float64),\n",
              "              tensor(0.8985, device='cuda:0', dtype=torch.float64),\n",
              "              tensor(0.8994, device='cuda:0', dtype=torch.float64),\n",
              "              tensor(0.9005, device='cuda:0', dtype=torch.float64),\n",
              "              tensor(0.9015, device='cuda:0', dtype=torch.float64),\n",
              "              tensor(0.9021, device='cuda:0', dtype=torch.float64),\n",
              "              tensor(0.9021, device='cuda:0', dtype=torch.float64)],\n",
              "             'train_loss': [0.9689015297432227,\n",
              "              0.8720542777508388,\n",
              "              0.7904759377131163,\n",
              "              0.7303455419206092,\n",
              "              0.7050722646097416,\n",
              "              0.6873861494099522,\n",
              "              0.6782636818410726,\n",
              "              0.6710077627558549,\n",
              "              0.6633158882605633,\n",
              "              0.6607069258760262,\n",
              "              0.6612049781088459,\n",
              "              0.65822227370695,\n",
              "              0.6560772472642005,\n",
              "              0.6532326492436258,\n",
              "              0.6529543030305982,\n",
              "              0.6520823840725466,\n",
              "              0.6508043940656739,\n",
              "              0.6498947414084995,\n",
              "              0.6494889446290216,\n",
              "              0.6492757126414028],\n",
              "             'valid_acc': [tensor(0.5535, device='cuda:0', dtype=torch.float64),\n",
              "              tensor(0.6494, device='cuda:0', dtype=torch.float64),\n",
              "              tensor(0.6900, device='cuda:0', dtype=torch.float64),\n",
              "              tensor(0.7085, device='cuda:0', dtype=torch.float64),\n",
              "              tensor(0.7472, device='cuda:0', dtype=torch.float64),\n",
              "              tensor(0.7435, device='cuda:0', dtype=torch.float64),\n",
              "              tensor(0.7546, device='cuda:0', dtype=torch.float64),\n",
              "              tensor(0.7454, device='cuda:0', dtype=torch.float64),\n",
              "              tensor(0.7620, device='cuda:0', dtype=torch.float64),\n",
              "              tensor(0.7601, device='cuda:0', dtype=torch.float64),\n",
              "              tensor(0.7509, device='cuda:0', dtype=torch.float64),\n",
              "              tensor(0.7546, device='cuda:0', dtype=torch.float64),\n",
              "              tensor(0.7675, device='cuda:0', dtype=torch.float64),\n",
              "              tensor(0.7601, device='cuda:0', dtype=torch.float64),\n",
              "              tensor(0.7731, device='cuda:0', dtype=torch.float64),\n",
              "              tensor(0.7565, device='cuda:0', dtype=torch.float64),\n",
              "              tensor(0.7601, device='cuda:0', dtype=torch.float64),\n",
              "              tensor(0.7620, device='cuda:0', dtype=torch.float64),\n",
              "              tensor(0.7620, device='cuda:0', dtype=torch.float64),\n",
              "              tensor(0.7583, device='cuda:0', dtype=torch.float64)],\n",
              "             'valid_loss': [0.9876737997812384,\n",
              "              0.8889718458932989,\n",
              "              0.8591430309940787,\n",
              "              0.8374723932322334,\n",
              "              0.8022963913048015,\n",
              "              0.8048255741596222,\n",
              "              0.7946215657626882,\n",
              "              0.8055428073686712,\n",
              "              0.7873189747333527,\n",
              "              0.7916684448719025,\n",
              "              0.7964956374729381,\n",
              "              0.7951066686826593,\n",
              "              0.7825262669254752,\n",
              "              0.7908898907549241,\n",
              "              0.7783011688905603,\n",
              "              0.7922141797402326,\n",
              "              0.7899665552027085,\n",
              "              0.7887921000228209,\n",
              "              0.789342100129408,\n",
              "              0.7915308124878827]})"
            ]
          },
          "metadata": {
            "tags": []
          },
          "execution_count": 69
        }
      ]
    },
    {
      "cell_type": "markdown",
      "metadata": {
        "id": "s2a-FThFy77V",
        "colab_type": "text"
      },
      "source": [
        "# Evaluate Model"
      ]
    },
    {
      "cell_type": "code",
      "metadata": {
        "id": "UiXO34MVmgUK",
        "colab_type": "code",
        "colab": {}
      },
      "source": [
        "# Create a model instance\n",
        "model = SentimentClassifier(len(class_names))"
      ],
      "execution_count": 70,
      "outputs": []
    },
    {
      "cell_type": "code",
      "metadata": {
        "id": "gj0FRznhyIOK",
        "colab_type": "code",
        "colab": {
          "base_uri": "https://localhost:8080/",
          "height": 34
        },
        "outputId": "40bf0187-9b09-4ada-8007-a7db536f0410"
      },
      "source": [
        "# Load the model\n",
        "model.load_state_dict(torch.load(f'models/model_sentiment_classifier_{now}.bin'))"
      ],
      "execution_count": 71,
      "outputs": [
        {
          "output_type": "execute_result",
          "data": {
            "text/plain": [
              "<All keys matched successfully>"
            ]
          },
          "metadata": {
            "tags": []
          },
          "execution_count": 71
        }
      ]
    },
    {
      "cell_type": "code",
      "metadata": {
        "id": "X_fdjFT5yryr",
        "colab_type": "code",
        "colab": {}
      },
      "source": [
        "# Send model to device\n",
        "model = model.to(device)"
      ],
      "execution_count": 72,
      "outputs": []
    },
    {
      "cell_type": "code",
      "metadata": {
        "id": "cyu6GsKWx2tk",
        "colab_type": "code",
        "colab": {}
      },
      "source": [
        "# Predicting using test data\n",
        "test_acc, test_loss = evaluate_model(model, test_data_loader, loss_fn, device, len(df_test))"
      ],
      "execution_count": 73,
      "outputs": []
    },
    {
      "cell_type": "code",
      "metadata": {
        "id": "s1_eGuFwyDYm",
        "colab_type": "code",
        "colab": {
          "base_uri": "https://localhost:8080/",
          "height": 51
        },
        "outputId": "322b0de2-92a0-4f02-ac12-ae0a26f3fe54"
      },
      "source": [
        "# Model performance\n",
        "print(f'Test Accuracy:  {test_acc}')\n",
        "print(f'Test Loss:      {test_loss}')"
      ],
      "execution_count": 74,
      "outputs": [
        {
          "output_type": "stream",
          "text": [
            "Test Accuracy:  0.7988929889298892\n",
            "Test Loss:      0.7524023143684163\n"
          ],
          "name": "stdout"
        }
      ]
    },
    {
      "cell_type": "code",
      "metadata": {
        "id": "Soh-e15TyrwU",
        "colab_type": "code",
        "colab": {}
      },
      "source": [
        "# Function to collect reviews\n",
        "def get_reviews(model, data_loader):\n",
        "    model = model.eval()\n",
        "\n",
        "    review_texts = []\n",
        "    predictions = []\n",
        "    prediction_probs = []\n",
        "    real_values = []\n",
        "\n",
        "    with torch.no_grad():\n",
        "        for d in data_loader:\n",
        "            texts = d['review_text']\n",
        "            input_ids = d['input_ids'].to(device)\n",
        "            attention_mask = d['attention_mask'].to(device)\n",
        "            targets = d['targets'].to(device)\n",
        "            outputs = model(input_ids = input_ids, attention_mask = attention_mask)\n",
        "\n",
        "        _, preds = torch.max(outputs, dim = 1)\n",
        "\n",
        "        review_texts.extend(texts)\n",
        "        predictions.extend(preds)\n",
        "        prediction_probs.extend(outputs)\n",
        "        real_values.extend(targets)\n",
        "\n",
        "    predictions = torch.stack(predictions).cpu()\n",
        "    prediction_probs = torch.stack(prediction_probs).cpu()\n",
        "    real_values = torch.stack(real_values).cpu()\n",
        "\n",
        "    return review_texts, predictions, prediction_probs, real_values"
      ],
      "execution_count": 75,
      "outputs": []
    },
    {
      "cell_type": "code",
      "metadata": {
        "id": "-roAPwiHyJh5",
        "colab_type": "code",
        "colab": {}
      },
      "source": [
        "# Gathering real data\n",
        "y_review_texts, y_pred, y_pred_probs, y_test = get_reviews(model, test_data_loader)"
      ],
      "execution_count": 76,
      "outputs": []
    },
    {
      "cell_type": "code",
      "metadata": {
        "id": "93V0nQ2zzRsU",
        "colab_type": "code",
        "colab": {
          "base_uri": "https://localhost:8080/",
          "height": 187
        },
        "outputId": "7acb58c4-bcac-41fa-92c9-4de55f7045f9"
      },
      "source": [
        "# Classification report\n",
        "print(classification_report(y_test, y_pred, target_names = class_names))"
      ],
      "execution_count": 77,
      "outputs": [
        {
          "output_type": "stream",
          "text": [
            "              precision    recall  f1-score   support\n",
            "\n",
            "    negative       1.00      1.00      1.00         4\n",
            "     neutral       1.00      0.50      0.67         4\n",
            "    positive       0.75      1.00      0.86         6\n",
            "\n",
            "    accuracy                           0.86        14\n",
            "   macro avg       0.92      0.83      0.84        14\n",
            "weighted avg       0.89      0.86      0.84        14\n",
            "\n"
          ],
          "name": "stdout"
        }
      ]
    },
    {
      "cell_type": "code",
      "metadata": {
        "id": "40inMeadfeB-",
        "colab_type": "code",
        "colab": {
          "base_uri": "https://localhost:8080/",
          "height": 255
        },
        "outputId": "37930385-a1f5-4098-9586-17012f11a1d7"
      },
      "source": [
        "y_pred_probs"
      ],
      "execution_count": 78,
      "outputs": [
        {
          "output_type": "execute_result",
          "data": {
            "text/plain": [
              "tensor([[9.9992e-01, 4.8191e-05, 2.8368e-05],\n",
              "        [1.3537e-05, 2.8533e-05, 9.9996e-01],\n",
              "        [5.0612e-05, 9.9992e-01, 3.3839e-05],\n",
              "        [1.5498e-05, 2.3506e-05, 9.9996e-01],\n",
              "        [1.5431e-05, 2.5393e-05, 9.9996e-01],\n",
              "        [5.2221e-05, 9.9991e-01, 4.0853e-05],\n",
              "        [9.9992e-01, 5.0367e-05, 2.7796e-05],\n",
              "        [1.3958e-05, 2.5683e-05, 9.9996e-01],\n",
              "        [1.4818e-05, 2.6012e-05, 9.9996e-01],\n",
              "        [1.5144e-05, 2.5104e-05, 9.9996e-01],\n",
              "        [1.5740e-05, 2.4214e-05, 9.9996e-01],\n",
              "        [1.4628e-05, 2.5080e-05, 9.9996e-01],\n",
              "        [9.9992e-01, 5.2573e-05, 2.7481e-05],\n",
              "        [9.9992e-01, 4.6882e-05, 2.9754e-05]])"
            ]
          },
          "metadata": {
            "tags": []
          },
          "execution_count": 78
        }
      ]
    },
    {
      "cell_type": "code",
      "metadata": {
        "id": "VAeIVb87zog-",
        "colab_type": "code",
        "colab": {}
      },
      "source": [
        "# Function to plot confusion matrix\n",
        "def show_confusion_matrix(confusion_matrix):\n",
        "    hmap = sns.heatmap(confusion_matrix, annot = True, fmt = \"d\", cmap = \"Blues\")\n",
        "    hmap.yaxis.set_ticklabels(hmap.yaxis.get_ticklabels(), rotation = 0, ha = \"right\")\n",
        "    hmap.xaxis.set_ticklabels(hmap.xaxis.get_ticklabels(), rotation = 30, ha = \"right\")\n",
        "    plt.ylabel('Real Sentiment')\n",
        "    plt.xlabel('BERT Predicted Sentiment')"
      ],
      "execution_count": 79,
      "outputs": []
    },
    {
      "cell_type": "code",
      "metadata": {
        "id": "3G1baRl-z0j3",
        "colab_type": "code",
        "colab": {}
      },
      "source": [
        "# Create confusion matrix\n",
        "cm = confusion_matrix(y_test, y_pred)"
      ],
      "execution_count": 80,
      "outputs": []
    },
    {
      "cell_type": "code",
      "metadata": {
        "id": "GHL7-Wm71Gqf",
        "colab_type": "code",
        "colab": {}
      },
      "source": [
        "df_cm = pd.DataFrame(cm, index = class_names, columns = class_names)"
      ],
      "execution_count": 81,
      "outputs": []
    },
    {
      "cell_type": "code",
      "metadata": {
        "id": "hP--q6B31LjS",
        "colab_type": "code",
        "colab": {
          "base_uri": "https://localhost:8080/",
          "height": 610
        },
        "outputId": "043b0b7c-abf9-4587-cdee-aceee71266a1"
      },
      "source": [
        "# Result\n",
        "show_confusion_matrix(df_cm)"
      ],
      "execution_count": 82,
      "outputs": [
        {
          "output_type": "display_data",
          "data": {
            "image/png": "[encoded data removed]",
            "text/plain": [
              "<Figure size 1080x648 with 2 Axes>"
            ]
          },
          "metadata": {
            "tags": []
          }
        }
      ]
    },
    {
      "cell_type": "code",
      "metadata": {
        "id": "GIWX7CKm1Rdi",
        "colab_type": "code",
        "colab": {}
      },
      "source": [
        "# Checking one review\n",
        "idx = 0\n",
        "\n",
        "review_text = y_review_texts[idx]\n",
        "true_sentiment = y_test[idx]\n",
        "\n",
        "pred_df = pd.DataFrame(\n",
        "    {\n",
        "        'class_names': class_names,\n",
        "        'values': y_pred_probs[idx]\n",
        "    }\n",
        ")"
      ],
      "execution_count": 83,
      "outputs": []
    },
    {
      "cell_type": "code",
      "metadata": {
        "id": "z5YUfz1b2sCx",
        "colab_type": "code",
        "colab": {
          "base_uri": "https://localhost:8080/",
          "height": 102
        },
        "outputId": "e5a5fff5-3323-4943-f503-851c91c4a6cd"
      },
      "source": [
        "print(\"\\n\".join(wrap(review_text)))\n",
        "print()\n",
        "print(f'Real Sentiment: {class_names[true_sentiment]}')"
      ],
      "execution_count": 84,
      "outputs": [
        {
          "output_type": "stream",
          "text": [
            "I'm having trouble uploading docs and files. I wound appear after so\n",
            "many attempts also tried restarting but still it just wouldn't upload\n",
            "files and attach files in posts/message.\n",
            "\n",
            "Real Sentiment: negative\n"
          ],
          "name": "stdout"
        }
      ]
    },
    {
      "cell_type": "code",
      "metadata": {
        "id": "LJE6NJ092xLo",
        "colab_type": "code",
        "colab": {
          "base_uri": "https://localhost:8080/",
          "height": 570
        },
        "outputId": "08f61fb4-d3b9-44e5-e681-61f1e06c1aba"
      },
      "source": [
        "# Prediction plot\n",
        "sns.barplot(x = 'values', y = 'class_names', data = pred_df, orient = 'h')\n",
        "plt.ylabel('Sentiment')\n",
        "plt.xlabel('Probability')\n",
        "plt.xlim([0, 1]);"
      ],
      "execution_count": 85,
      "outputs": [
        {
          "output_type": "display_data",
          "data": {
            "image/png": "[encoded data removed]",
            "text/plain": [
              "<Figure size 1080x648 with 1 Axes>"
            ]
          },
          "metadata": {
            "tags": []
          }
        }
      ]
    },
    {
      "cell_type": "markdown",
      "metadata": {
        "id": "TMtdoK-E3WmL",
        "colab_type": "text"
      },
      "source": [
        "Testing with new data (s new app review)."
      ]
    },
    {
      "cell_type": "code",
      "metadata": {
        "id": "eL_VUYBA3QDB",
        "colab_type": "code",
        "colab": {}
      },
      "source": [
        "test_text = 'I really love this app. It improved my work organization and efficiency'"
      ],
      "execution_count": 86,
      "outputs": []
    },
    {
      "cell_type": "code",
      "metadata": {
        "id": "i6tnch0D7TlK",
        "colab_type": "code",
        "colab": {
          "base_uri": "https://localhost:8080/",
          "height": 54
        },
        "outputId": "fe53892c-3e89-497b-825d-f7413b5c1cb6"
      },
      "source": [
        "# Apply the same transformation which was applied to the training data, creating the embedding object\n",
        "encoded_eval = tokenizer.encode_plus(test_text,\n",
        "                                     max_length = MAX_LENGTH,\n",
        "                                     add_special_tokens= True,\n",
        "                                     return_token_type_ids = False,\n",
        "                                     pad_to_max_length = True,\n",
        "                                     return_attention_mask = True,\n",
        "                                     return_tensors = 'pt')"
      ],
      "execution_count": 87,
      "outputs": [
        {
          "output_type": "stream",
          "text": [
            "Truncation was not explicitely activated but `max_length` is provided a specific value, please use `truncation=True` to explicitely truncate examples to max length. Defaulting to 'longest_first' truncation strategy. If you encode pairs of sequences (GLUE-style) with the tokenizer you can select this strategy more precisely by providing a specific strategy to `truncation`.\n"
          ],
          "name": "stderr"
        }
      ]
    },
    {
      "cell_type": "code",
      "metadata": {
        "id": "AliiPGCR7jVQ",
        "colab_type": "code",
        "colab": {}
      },
      "source": [
        "# Extract the inputs and attention_mask to make a prediction\n",
        "input_ids = encoded_eval['input_ids'].to(device)\n",
        "attention_mask = encoded_eval['attention_mask'].to(device)"
      ],
      "execution_count": 88,
      "outputs": []
    },
    {
      "cell_type": "code",
      "metadata": {
        "id": "hgM9RF9J8urB",
        "colab_type": "code",
        "colab": {}
      },
      "source": [
        "# Output (prediction)\n",
        "output = model(input_ids, attention_mask)"
      ],
      "execution_count": 89,
      "outputs": []
    },
    {
      "cell_type": "code",
      "metadata": {
        "id": "F_j2kM3U9icn",
        "colab_type": "code",
        "colab": {}
      },
      "source": [
        "# Final prediction\n",
        "probability, prediction = torch.max(output, dim = 1)"
      ],
      "execution_count": 90,
      "outputs": []
    },
    {
      "cell_type": "code",
      "metadata": {
        "id": "jU0roXZM9oKN",
        "colab_type": "code",
        "colab": {
          "base_uri": "https://localhost:8080/",
          "height": 119
        },
        "outputId": "0a7db701-19c7-4fd8-87fd-1c3720e75378"
      },
      "source": [
        "# Print\n",
        "print(f'\\nApp Review Text: {test_text}')\n",
        "print(f'\\nSentiment: {class_names[prediction]}')\n",
        "print(f'\\nProbability: {probability[0]}')"
      ],
      "execution_count": 91,
      "outputs": [
        {
          "output_type": "stream",
          "text": [
            "\n",
            "App Review Text: I really love this app. It improved my work organization and efficiency\n",
            "\n",
            "Sentiment: positive\n",
            "\n",
            "Probability: 0.9999597072601318\n"
          ],
          "name": "stdout"
        }
      ]
    },
    {
      "cell_type": "markdown",
      "metadata": {
        "id": "W0oFjGIU-LdM",
        "colab_type": "text"
      },
      "source": [
        "# The End"
      ]
    }
  ]
}